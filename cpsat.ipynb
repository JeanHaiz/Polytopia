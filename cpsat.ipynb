{
 "metadata": {
  "language_info": {
   "codemirror_mode": {
    "name": "ipython",
    "version": 3
   },
   "file_extension": ".py",
   "mimetype": "text/x-python",
   "name": "python",
   "nbconvert_exporter": "python",
   "pygments_lexer": "ipython3",
   "version": "3.7.6-final"
  },
  "orig_nbformat": 2,
  "kernelspec": {
   "name": "Python 3.7.6 64-bit ('base': conda)",
   "display_name": "Python 3.7.6 64-bit ('base': conda)",
   "metadata": {
    "interpreter": {
     "hash": "e134e05457d34029b6460cd73bbf1ed73f339b5b6d98c95be70b69eba114fe95"
    }
   }
  }
 },
 "nbformat": 4,
 "nbformat_minor": 2,
 "cells": [
  {
   "cell_type": "code",
   "execution_count": null,
   "metadata": {},
   "outputs": [],
   "source": [
    "from __future__ import absolute_import\n",
    "from __future__ import division\n",
    "from __future__ import print_function\n",
    "\n",
    "import json\n",
    "import pandas as pd\n",
    "from ortools.sat.python import cp_model"
   ]
  },
  {
   "cell_type": "code",
   "execution_count": null,
   "metadata": {},
   "outputs": [],
   "source": [
    "from ortools.sat.python.cp_model import _SumArray"
   ]
  },
  {
   "cell_type": "code",
   "execution_count": null,
   "metadata": {},
   "outputs": [],
   "source": [
    "class DataFrameSolutionAggregator(cp_model.CpSolverSolutionCallback):\n",
    "    \"\"\"Print intermediate solutions.\"\"\"\n",
    "\n",
    "    def __init__(self, variables):\n",
    "        cp_model.CpSolverSolutionCallback.__init__(self)\n",
    "        self.__variables = variables\n",
    "        self.__pd_variables = []\n",
    "        self.__solution_count = 0\n",
    "\n",
    "    def on_solution_callback(self):\n",
    "        self.__solution_count += 1\n",
    "        values = []\n",
    "        for v in self.__variables:\n",
    "            values.append(self.Value(v))\n",
    "        self.__pd_variables.append(values)\n",
    "\n",
    "    def get_data_frame(self):\n",
    "        df = pd.DataFrame(self.__pd_variables, columns=self.__variables)\n",
    "        return df.loc[:, (df != 0).any(axis=0)]\n",
    "\n",
    "    def solution_count(self):\n",
    "        return self.__solution_count"
   ]
  },
  {
   "cell_type": "code",
   "execution_count": null,
   "metadata": {},
   "outputs": [],
   "source": [
    "with open('values.json', 'r') as file:\n",
    "    values = json.load(file)"
   ]
  },
  {
   "cell_type": "code",
   "execution_count": null,
   "metadata": {},
   "outputs": [],
   "source": [
    "with open('tech_tree.json', 'r') as file:\n",
    "    techs = json.load(file)"
   ]
  },
  {
   "cell_type": "code",
   "execution_count": null,
   "metadata": {},
   "outputs": [],
   "source": [
    "def addAllTechs(model, techs):\n",
    "    tech_dict = {}\n",
    "    for t1 in techs:\n",
    "        k1 = t1['name']\n",
    "        tech_dict[k1] = model.NewBoolVar(k1)\n",
    "        for t2 in t1['allows']:\n",
    "            k2 = t2['name']\n",
    "            tech_dict[k2] = model.NewBoolVar(k2)\n",
    "            for t3 in t2['allows']:\n",
    "                k3 = t3['name']\n",
    "                tech_dict[k3] = model.NewBoolVar(k3)\n",
    "    return tech_dict\n",
    "#t_d = addAllTechs(cp_model.CpModel(), techs)"
   ]
  },
  {
   "cell_type": "code",
   "execution_count": null,
   "metadata": {},
   "outputs": [],
   "source": [
    "def buildTechTreeConstraints(model, techs, tech_dict):\n",
    "    for t1 in techs:\n",
    "        k1 = t1['name']\n",
    "        for t2 in t1['allows']:\n",
    "            k2 = t2['name']\n",
    "            model.Add(tech_dict[k2] == 0).OnlyEnforceIf(tech_dict[k1].Not())\n",
    "            for t3 in t2['allows']:\n",
    "                k3 = t3['name']\n",
    "                model.Add(tech_dict[k3] == 0).OnlyEnforceIf(tech_dict[k2].Not())"
   ]
  },
  {
   "cell_type": "code",
   "execution_count": null,
   "metadata": {},
   "outputs": [],
   "source": [
    "def buildTechUnitsConstraints(model, techs, tech_dict, sym_dict):\n",
    "    for t1 in techs:\n",
    "        k1 = t1['name']\n",
    "        for u in t1['units']:\n",
    "            model.Add(sym_dict[u] == 0).OnlyEnforceIf(tech_dict[k1].Not())\n",
    "        for t2 in t1['allows']:\n",
    "            k2 = t2['name']\n",
    "            for u in t2['units']:\n",
    "                model.Add(sym_dict[u] == 0).OnlyEnforceIf(tech_dict[k2].Not())\n",
    "            for t3 in t2['allows']:\n",
    "                k3 = t3['name']\n",
    "                for u in t3['units']:\n",
    "                    model.Add(sym_dict[u] == 0).OnlyEnforceIf(tech_dict[k3].Not())"
   ]
  },
  {
   "cell_type": "code",
   "execution_count": null,
   "metadata": {},
   "outputs": [],
   "source": [
    "def linkTechAndTech(model, techs, tech_dict, sym_dict):\n",
    "    model.Add(sym_dict['tier-1'] == _SumArray([tech_dict[t['name']] for t in techs]))\n",
    "    model.Add(sym_dict['tier-2'] == _SumArray([tech_dict[t['name']] for u in techs for t in u['allows']]))\n",
    "    model.Add(sym_dict['tier-2'] == _SumArray([tech_dict[t['name']] for v in techs for u in v['allows'] for t in u['allows']]))"
   ]
  },
  {
   "cell_type": "code",
   "execution_count": null,
   "metadata": {},
   "outputs": [],
   "source": [
    "def addAllVars(model, values):\n",
    "    eq_dict = {}\n",
    "    sym_dict = {}\n",
    "    for category in values.keys():\n",
    "        for element, score in values[category].items():\n",
    "            # replace 10 with max value of elements, static or dynamic\n",
    "            sym_dict[element] = model.NewIntVar(0, 10, element) \n",
    "            eq_dict[element] = score * sym_dict[element]\n",
    "    return eq_dict, sym_dict"
   ]
  },
  {
   "cell_type": "code",
   "execution_count": null,
   "metadata": {},
   "outputs": [],
   "source": [
    "def buildFullScoreConstraint(model, eq_dict, player_score):\n",
    "    cat_eq_dict = {}\n",
    "    for category in values.keys():\n",
    "        cat_eq_dict[category] = _SumArray([eq_dict[element] for element in values[category].keys()])\n",
    "    model.Add(_SumArray([cat_eq_dict[cat] for cat in cat_eq_dict.keys()]) == player_score)"
   ]
  },
  {
   "cell_type": "code",
   "execution_count": null,
   "metadata": {},
   "outputs": [],
   "source": [
    "def buildVisionConstraint(model, eq_dict, vision_score):\n",
    "    model.Add(eq_dict['revealed'] == vision_score)"
   ]
  },
  {
   "cell_type": "code",
   "execution_count": null,
   "metadata": {
    "tags": []
   },
   "outputs": [],
   "source": [
    "def solve(raw_score, full_score):\n",
    "    model = cp_model.CpModel()\n",
    "    eq_dict, sym_dict = addAllVars(model, values)\n",
    "\n",
    "    buildScoreConstraint(model, eq_dict, full_score, True)\n",
    "    buildScoreConstraint(model, eq_dict, raw_score, False)\n",
    "    model.Add(_SumArray([sym_dict[e] for e in values['units'].keys()]) < 20)\n",
    "\n",
    "\n",
    "    solver = cp_model.CpSolver()\n",
    "    solution_printer = DataFrameSolutionAggregator(sym_dict.values())\n",
    "    status = solver.SearchForAllSolutions(model, solution_printer)\n",
    "    return solution_printer"
   ]
  },
  {
   "cell_type": "code",
   "execution_count": null,
   "metadata": {},
   "outputs": [],
   "source": [
    "# superb_ruin\n",
    "scores = [\n",
    "    ([515, 515], []),\n",
    "    ([565, 565], [440, 440]),\n",
    "    ([590, 600], [450, 450]),\n",
    "    ([855, 635], [700, 460]),\n",
    "    ([1385, 670], [1230, 460]),\n",
    "    ([1860, 1215], [1700, 990]),\n",
    "    ([2230, 1815], [2010, 1530])\n",
    "]"
   ]
  },
  {
   "cell_type": "code",
   "execution_count": null,
   "metadata": {},
   "outputs": [],
   "source": [
    "player_scores = [\n",
    "    [565, 440],\n",
    "    [590, 450],\n",
    "    [855, 700],\n",
    "    [1385, 1230],\n",
    "    [1860, 1700],\n",
    "    [2230, 2010]\n",
    "]"
   ]
  },
  {
   "cell_type": "code",
   "execution_count": null,
   "metadata": {},
   "outputs": [],
   "source": [
    "player_2_scores = [\n",
    "    [565, 440],\n",
    "    [600, 450],\n",
    "    [635, 460],\n",
    "    [670, 460],\n",
    "    [1215, 990],\n",
    "    [1815, 1530]\n",
    "]"
   ]
  },
  {
   "cell_type": "code",
   "execution_count": null,
   "metadata": {},
   "outputs": [],
   "source": [
    "def divide_scores(scores):\n",
    "\n",
    "\n",
    "    return selected_scores + divide_score(scores[1:])"
   ]
  },
  {
   "cell_type": "code",
   "execution_count": null,
   "metadata": {},
   "outputs": [],
   "source": [
    "for i in range(len(player_scores) - 1):\n",
    "    raw_delta = player_scores[i + 1][1] - player_scores[i][1]\n",
    "    full_delta = player_scores[i + 1][0] - player_scores[i][0]\n",
    "    print(full_delta, raw_delta)\n",
    "    # sp = solve(raw_score=raw_delta, full_score=full_delta)\n",
    "    # print(sp.get_data_frame().to_string())"
   ]
  },
  {
   "cell_type": "code",
   "execution_count": null,
   "metadata": {},
   "outputs": [],
   "source": [
    "print(sp.get_data_frame())"
   ]
  },
  {
   "source": [
    "# Equations: \n",
    "\n",
    "full score = score(units) + score(tech) + score(city) + score(vision)\n",
    "\n",
    "raw score =  score(units) + score(tech) + score(city)\n",
    "\n",
    "'remaining stars + spt + extra stars = stars(units) + stars(tech) + star(building)'"
   ],
   "cell_type": "markdown",
   "metadata": {}
  },
  {
   "cell_type": "code",
   "execution_count": null,
   "metadata": {},
   "outputs": [],
   "source": [
    "model = cp_model.CpModel()\n",
    "eq_dict, sym_dict = addAllVars(model, values)\n",
    "tech_dict = addAllTechs(model, techs)\n",
    "\n",
    "full_delta = 25\n",
    "raw_delta = 10\n",
    "buildVisionConstraint(model, eq_dict, full_delta - raw_delta)\n",
    "buildFullScoreConstraint(model, eq_dict, full_delta)\n",
    "model.Add(_SumArray([sym_dict[e] for e in values['units'].keys()]) < 20)\n",
    "buildTechUnitsConstraints(model, techs, tech_dict, sym_dict)\n",
    "buildTechTreeConstraints(model, techs, tech_dict)\n",
    "linkTechAndTech(model, techs, tech_dict, sym_dict)\n",
    "\n",
    "solver = cp_model.CpSolver()\n",
    "solution_printer = DataFrameSolutionAggregator(list(sym_dict.values()) + list(tech_dict.values()))\n",
    "status = solver.SearchForAllSolutions(model, solution_printer)\n"
   ]
  },
  {
   "cell_type": "code",
   "execution_count": null,
   "metadata": {},
   "outputs": [],
   "source": [
    "map(lambda x: x.getElement(), tech_dict.values)"
   ]
  },
  {
   "cell_type": "code",
   "execution_count": null,
   "metadata": {},
   "outputs": [],
   "source": [
    "x = solution_printer.get_data_frame()\n",
    "x.drop_duplicates()"
   ]
  },
  {
   "cell_type": "code",
   "execution_count": null,
   "metadata": {},
   "outputs": [],
   "source": [
    "x = solution_printer.get_data_frame()\n",
    "x"
   ]
  },
  {
   "source": [
    "9*20 (territories)+ 100 (level 1 city)+ tech+ units= raw score turn 0\n",
    "\n",
    "turn 0, vision score is always 125=25*5"
   ],
   "cell_type": "markdown",
   "metadata": {}
  },
  {
   "cell_type": "code",
   "execution_count": null,
   "metadata": {},
   "outputs": [],
   "source": []
  }
 ]
}