{
 "metadata": {
  "language_info": {
   "codemirror_mode": {
    "name": "ipython",
    "version": 3
   },
   "file_extension": ".py",
   "mimetype": "text/x-python",
   "name": "python",
   "nbconvert_exporter": "python",
   "pygments_lexer": "ipython3",
   "version": "3.7.6-final"
  },
  "orig_nbformat": 2,
  "kernelspec": {
   "name": "Python 3.7.6 64-bit ('anaconda3': virtualenv)",
   "display_name": "Python 3.7.6 64-bit ('anaconda3': virtualenv)",
   "metadata": {
    "interpreter": {
     "hash": "e134e05457d34029b6460cd73bbf1ed73f339b5b6d98c95be70b69eba114fe95"
    }
   }
  }
 },
 "nbformat": 4,
 "nbformat_minor": 2,
 "cells": [
  {
   "cell_type": "code",
   "execution_count": 1,
   "metadata": {},
   "outputs": [],
   "source": [
    "from utils import *"
   ]
  },
  {
   "cell_type": "code",
   "execution_count": null,
   "metadata": {},
   "outputs": [],
   "source": [
    "from __future__ import absolute_import\n",
    "from __future__ import division\n",
    "from __future__ import print_function\n",
    "\n",
    "import json\n",
    "import pandas as pd\n",
    "\n",
    "from ortools.sat.python import cp_model\n",
    "from ortools.sat.python.cp_model import _SumArray"
   ]
  },
  {
   "cell_type": "code",
   "execution_count": null,
   "metadata": {},
   "outputs": [],
   "source": []
  },
  {
   "cell_type": "code",
   "execution_count": null,
   "metadata": {
    "tags": []
   },
   "outputs": [],
   "source": [
    "def solve(raw_score, full_score):\n",
    "    model = cp_model.CpModel()\n",
    "    eq_dict, sym_dict = addAllVars(turn)\n",
    "\n",
    "    buildScoreConstraint(model, eq_dict, full_score, True)\n",
    "    buildScoreConstraint(model, eq_dict, raw_score, False)\n",
    "    model.Add(_SumArray([sym_dict[e] for e in values['units'].keys()]) < 20)\n",
    "\n",
    "\n",
    "    solver = cp_model.CpSolver()\n",
    "    solution_printer = DataFrameSolutionAggregator(sym_dict.values())\n",
    "    status = solver.SearchForAllSolutions(model, solution_printer)\n",
    "    return solution_printer"
   ]
  },
  {
   "cell_type": "code",
   "execution_count": null,
   "metadata": {},
   "outputs": [],
   "source": [
    "# superb_ruin\n",
    "scores = [\n",
    "    ([515, 515], []),\n",
    "    ([565, 565], [440, 440]),\n",
    "    ([590, 600], [450, 450]),\n",
    "    ([855, 635], [700, 460]),\n",
    "    ([1385, 670], [1230, 460]),\n",
    "    ([1860, 1215], [1700, 990]),\n",
    "    ([2230, 1815], [2010, 1530])\n",
    "]"
   ]
  },
  {
   "cell_type": "code",
   "execution_count": null,
   "metadata": {},
   "outputs": [],
   "source": [
    "player_scores = [\n",
    "    [565, 440],\n",
    "    [590, 450],\n",
    "    [855, 700],\n",
    "    [1385, 1230],\n",
    "    [1860, 1700],\n",
    "    [2230, 2010]\n",
    "]"
   ]
  },
  {
   "cell_type": "code",
   "execution_count": null,
   "metadata": {},
   "outputs": [],
   "source": [
    "player_2_scores = [\n",
    "    [565, 440],\n",
    "    [600, 450],\n",
    "    [635, 460],\n",
    "    [670, 460],\n",
    "    [1215, 990],\n",
    "    [1815, 1530]\n",
    "]"
   ]
  },
  {
   "cell_type": "code",
   "execution_count": null,
   "metadata": {},
   "outputs": [],
   "source": [
    "def divide_scores(scores):\n",
    "\n",
    "\n",
    "    return selected_scores + divide_score(scores[1:])"
   ]
  },
  {
   "cell_type": "code",
   "execution_count": null,
   "metadata": {},
   "outputs": [],
   "source": [
    "for i in range(len(player_scores) - 1):\n",
    "    raw_delta = player_scores[i + 1][1] - player_scores[i][1]\n",
    "    full_delta = player_scores[i + 1][0] - player_scores[i][0]\n",
    "    print(full_delta, raw_delta)\n",
    "    # sp = solve(raw_score=raw_delta, full_score=full_delta)\n",
    "    # print(sp.get_data_frame().to_string())"
   ]
  },
  {
   "cell_type": "code",
   "execution_count": null,
   "metadata": {},
   "outputs": [],
   "source": [
    "print(sp.get_data_frame())"
   ]
  },
  {
   "source": [
    "# Equations: \n",
    "\n",
    "full score = score(units) + score(tech) + score(city) + score(vision)\n",
    "\n",
    "raw score =  score(units) + score(tech) + score(city)\n",
    "\n",
    "'remaining stars + spt + extra stars = stars(units) + stars(tech) + star(building)'"
   ],
   "cell_type": "markdown",
   "metadata": {}
  },
  {
   "cell_type": "code",
   "execution_count": 1,
   "metadata": {},
   "outputs": [
    {
     "output_type": "stream",
     "name": "stdout",
     "text": [
      "Solve status: FEASIBLE\n"
     ]
    }
   ],
   "source": [
    "import re\n",
    "from ortools.sat.python import cp_model\n",
    "from SolutionAggregator import SolutionAggregator\n",
    "from utils import * \n",
    "\n",
    "scores = {\n",
    "    \"start\": [515, 390],\n",
    "    \"t0\": [565, 440],\n",
    "    \"t1\": [600, 450],\n",
    "    \"t2\": [635, 460],\n",
    "    \"t3\": [670, 460],\n",
    "    \"t4\": [1215, 990],\n",
    "    \"t5\": [1815, 1530]\n",
    "}\n",
    "\n",
    "for turn in [\"start\", \"t0\"]:#, \"t1\", \"t2\", \"t3\"]:#, \"t4\", \"t5\"]:\n",
    "    buildDictionnaries(turn)\n",
    "    full_score = scores[turn][0] \n",
    "    raw_score = scores[turn][1]\n",
    "\n",
    "    buildAllConstraints(turn)\n",
    "\n",
    "    setRawScore(turn, raw_score)\n",
    "    setFullScore(turn, full_score)\n",
    "    setTribe(turn, \"Bardur\")\n",
    "\n",
    "    linkTurns(turn)\n",
    "    addInitialState(turn)\n",
    "\n",
    "addSolution(turn)\n",
    "\n",
    "solver = cp_model.CpSolver()\n",
    "output_variables = list(dic.values())\n",
    "# output_variables = list(h for turn, turn_dict in dic.items() for topic, topic_dict in turn_dict.items() for h in topic_dict.values())\n",
    "solution_printer = SolutionAggregator(output_variables)\n",
    "status = solver.SearchForAllSolutions(model, solution_printer)\n",
    "print('Solve status: %s' % solver.StatusName(status))"
   ]
  },
  {
   "cell_type": "code",
   "execution_count": 4,
   "metadata": {},
   "outputs": [
    {
     "output_type": "execute_result",
     "data": {
      "text/plain": [
       "[start_warrior(0..50),\n",
       " start_rider(0..50),\n",
       " start_archer(0..50),\n",
       " start_shield(0..50),\n",
       " start_cata(0..50),\n",
       " start_mindbender(0..50),\n",
       " start_swordpeople(0..50),\n",
       " start_knight(0..50),\n",
       " start_giant(0..50),\n",
       " start_level-1(0..50),\n",
       " start_level-2(0..50),\n",
       " start_level-3(0..50),\n",
       " start_level-4(0..50),\n",
       " start_level-5(0..50),\n",
       " start_level-6(0..50),\n",
       " start_level-7(0..50),\n",
       " start_level-8(0..50),\n",
       " start_level-9(0..50),\n",
       " start_level-10(0..50),\n",
       " start_population(0..50),\n",
       " start_monument(0..50),\n",
       " start_tier-1(0..50),\n",
       " start_tier-2(0..50),\n",
       " start_tier-3(0..50),\n",
       " start_claimed(0..50),\n",
       " start_revealed(0..50),\n",
       " start_explorer(0..50),\n",
       " start_hunting(0..1),\n",
       " start_forestry(0..1),\n",
       " start_mathematics(0..1),\n",
       " start_archery(0..1),\n",
       " start_spiritualism(0..1),\n",
       " start_fishing(0..1),\n",
       " start_sailing(0..1),\n",
       " start_navigation(0..1),\n",
       " start_whaling(0..1),\n",
       " start_acquatism(0..1),\n",
       " start_climbing(0..1),\n",
       " start_meditation(0..1),\n",
       " start_philosophy(0..1),\n",
       " start_mining(0..1),\n",
       " start_smithery(0..1),\n",
       " start_organisation(0..1),\n",
       " start_shields(0..1),\n",
       " start_farming(0..1),\n",
       " start_construction(0..1),\n",
       " start_riding(0..1),\n",
       " start_free spirit(0..1),\n",
       " start_chivalry(0..1),\n",
       " start_roads(0..1),\n",
       " start_trade(0..1),\n",
       " start_Xin-xi(0..1),\n",
       " start_Imperius(0..1),\n",
       " start_Bardur(0..1),\n",
       " start_Oumaji(0..1),\n",
       " start_Kickoo(0..1),\n",
       " start_Hoodrick(0..1),\n",
       " start_Luxidoor(0..1),\n",
       " start_Vengir(0..1),\n",
       " start_Zebasi(0..1),\n",
       " start_Ai-mo(0..1),\n",
       " start_Quetzali(0..1),\n",
       " start_Yadakk(0..1),\n",
       " start_raw_score(0..200000),\n",
       " start_full_score(0..200000),\n",
       " start_ruin(0..20),\n",
       " start_ruin_giant(0..20),\n",
       " start_ruin_explorer(0..20),\n",
       " start_ruin_tech(0..20),\n",
       " start_ruin_population(0..20),\n",
       " start_ruin_stars(0..20),\n",
       " start_whale(0..20),\n",
       " start_whale_stars(0..20),\n",
       " start_level-2_spt(0..20),\n",
       " start_level-2_explorer(0..20),\n",
       " start_level-3-stars(0..20),\n",
       " start_level-4_border_growth(0..20),\n",
       " start_level-4_population(0..20),\n",
       " start_level-5_giant(0..20),\n",
       " start_level-5_garden(0..20),\n",
       " start_level-6_giant(0..20),\n",
       " start_level-6_garden(0..20),\n",
       " start_level-7_giant(0..20),\n",
       " start_level-7_garden(0..20),\n",
       " start_level-8_giant(0..20),\n",
       " start_level-8_garden(0..20),\n",
       " start_level-9_giant(0..20),\n",
       " start_level-9_garden(0..20),\n",
       " start_level-10_giant(0..20),\n",
       " start_level-10_garden(0..20),\n",
       " start_level-1_count(0..20),\n",
       " start_level-2_count(0..20),\n",
       " start_level-3_count(0..20),\n",
       " start_level-4_count(0..20),\n",
       " start_level-5_count(0..20),\n",
       " start_level-6_count(0..20),\n",
       " start_level-7_count(0..20),\n",
       " start_level-8_count(0..20),\n",
       " start_level-9_count(0..20),\n",
       " start_level-10_count(0..20),\n",
       " start_pop_min(0..40),\n",
       " start_pop_max(0..40),\n",
       " start_animal(0..20),\n",
       " start_lumber_house(0..20),\n",
       " start_sawmill(0..20),\n",
       " start_sawmill_lumber_house(0..20),\n",
       " start_mine(0..20),\n",
       " start_forge(0..20),\n",
       " start_forge_mine(0..20),\n",
       " start_fruit(0..20),\n",
       " start_farm(0..20),\n",
       " start_windmill(0..20),\n",
       " start_windmill_farm(0..20),\n",
       " start_fish(0..20),\n",
       " start_port(0..20),\n",
       " t0_warrior(0..50),\n",
       " t0_rider(0..50),\n",
       " t0_archer(0..50),\n",
       " t0_shield(0..50),\n",
       " t0_cata(0..50),\n",
       " t0_mindbender(0..50),\n",
       " t0_swordpeople(0..50),\n",
       " t0_knight(0..50),\n",
       " t0_giant(0..50),\n",
       " t0_level-1(0..50),\n",
       " t0_level-2(0..50),\n",
       " t0_level-3(0..50),\n",
       " t0_level-4(0..50),\n",
       " t0_level-5(0..50),\n",
       " t0_level-6(0..50),\n",
       " t0_level-7(0..50),\n",
       " t0_level-8(0..50),\n",
       " t0_level-9(0..50),\n",
       " t0_level-10(0..50),\n",
       " t0_population(0..50),\n",
       " t0_monument(0..50),\n",
       " t0_tier-1(0..50),\n",
       " t0_tier-2(0..50),\n",
       " t0_tier-3(0..50),\n",
       " t0_claimed(0..50),\n",
       " t0_revealed(0..50),\n",
       " t0_explorer(0..50),\n",
       " t0_hunting(0..1),\n",
       " t0_forestry(0..1),\n",
       " t0_mathematics(0..1),\n",
       " t0_archery(0..1),\n",
       " t0_spiritualism(0..1),\n",
       " t0_fishing(0..1),\n",
       " t0_sailing(0..1),\n",
       " t0_navigation(0..1),\n",
       " t0_whaling(0..1),\n",
       " t0_acquatism(0..1),\n",
       " t0_climbing(0..1),\n",
       " t0_meditation(0..1),\n",
       " t0_philosophy(0..1),\n",
       " t0_mining(0..1),\n",
       " t0_smithery(0..1),\n",
       " t0_organisation(0..1),\n",
       " t0_shields(0..1),\n",
       " t0_farming(0..1),\n",
       " t0_construction(0..1),\n",
       " t0_riding(0..1),\n",
       " t0_free spirit(0..1),\n",
       " t0_chivalry(0..1),\n",
       " t0_roads(0..1),\n",
       " t0_trade(0..1),\n",
       " t0_Xin-xi(0..1),\n",
       " t0_Imperius(0..1),\n",
       " t0_Bardur(0..1),\n",
       " t0_Oumaji(0..1),\n",
       " t0_Kickoo(0..1),\n",
       " t0_Hoodrick(0..1),\n",
       " t0_Luxidoor(0..1),\n",
       " t0_Vengir(0..1),\n",
       " t0_Zebasi(0..1),\n",
       " t0_Ai-mo(0..1),\n",
       " t0_Quetzali(0..1),\n",
       " t0_Yadakk(0..1),\n",
       " t0_raw_score(0..200000),\n",
       " t0_full_score(0..200000),\n",
       " t0_claimed_cst(0..1),\n",
       " t0_lvl_1_cst(0..1),\n",
       " t0_ruin(0..20),\n",
       " t0_ruin_giant(0..20),\n",
       " t0_ruin_explorer(0..20),\n",
       " t0_ruin_tech(0..20),\n",
       " t0_ruin_population(0..20),\n",
       " t0_ruin_stars(0..20),\n",
       " t0_whale(0..20),\n",
       " t0_whale_stars(0..20),\n",
       " t0_level-2_spt(0..20),\n",
       " t0_level-2_explorer(0..20),\n",
       " t0_level-3-stars(0..20),\n",
       " t0_level-4_border_growth(0..20),\n",
       " t0_level-4_population(0..20),\n",
       " t0_level-5_giant(0..20),\n",
       " t0_level-5_garden(0..20),\n",
       " t0_level-6_giant(0..20),\n",
       " t0_level-6_garden(0..20),\n",
       " t0_level-7_giant(0..20),\n",
       " t0_level-7_garden(0..20),\n",
       " t0_level-8_giant(0..20),\n",
       " t0_level-8_garden(0..20),\n",
       " t0_level-9_giant(0..20),\n",
       " t0_level-9_garden(0..20),\n",
       " t0_level-10_giant(0..20),\n",
       " t0_level-10_garden(0..20),\n",
       " t0_level-1_count(0..20),\n",
       " t0_level-2_count(0..20),\n",
       " t0_level-3_count(0..20),\n",
       " t0_level-4_count(0..20),\n",
       " t0_level-5_count(0..20),\n",
       " t0_level-6_count(0..20),\n",
       " t0_level-7_count(0..20),\n",
       " t0_level-8_count(0..20),\n",
       " t0_level-9_count(0..20),\n",
       " t0_level-10_count(0..20),\n",
       " t0_pop_min(0..40),\n",
       " t0_pop_max(0..40),\n",
       " t0_animal(0..20),\n",
       " t0_lumber_house(0..20),\n",
       " t0_sawmill(0..20),\n",
       " t0_sawmill_lumber_house(0..20),\n",
       " t0_mine(0..20),\n",
       " t0_forge(0..20),\n",
       " t0_forge_mine(0..20),\n",
       " t0_fruit(0..20),\n",
       " t0_farm(0..20),\n",
       " t0_windmill(0..20),\n",
       " t0_windmill_farm(0..20),\n",
       " t0_fish(0..20),\n",
       " t0_port(0..20)]"
      ]
     },
     "metadata": {},
     "execution_count": 4
    }
   ],
   "source": [
    "output_variables"
   ]
  },
  {
   "cell_type": "code",
   "execution_count": null,
   "metadata": {},
   "outputs": [],
   "source": [
    "x = solution_printer.get_data_frame()"
   ]
  },
  {
   "cell_type": "code",
   "execution_count": null,
   "metadata": {},
   "outputs": [],
   "source": [
    "printValueList(x)"
   ]
  },
  {
   "cell_type": "code",
   "execution_count": null,
   "metadata": {},
   "outputs": [],
   "source": [
    "x[x['t2_population'] ==]"
   ]
  },
  {
   "cell_type": "code",
   "execution_count": null,
   "metadata": {},
   "outputs": [],
   "source": [
    "cleaned = chooseBestSolution(x[x['t2_population'] == 2])"
   ]
  },
  {
   "cell_type": "code",
   "execution_count": null,
   "metadata": {},
   "outputs": [],
   "source": [
    "cleaned"
   ]
  },
  {
   "cell_type": "code",
   "execution_count": null,
   "metadata": {
    "tags": []
   },
   "outputs": [],
   "source": [
    "def printScenario(full_df):\n",
    "    regex = getScenarioRegex()\n",
    "    selected_columns = [u for u in full_df.columns if sum(re.search(r, u) is not None for r in regex) != 0]\n",
    "    #print(selected_columns)\n",
    "    df = full_df[selected_columns]\n",
    "    identical_columns = list(filter(lambda x: len(df[x].unique()) == 1, selected_columns))\n",
    "    different_columns = list(filter(lambda x: len(df[x].unique()) != 1, selected_columns))\n",
    "    turns = list(set(map(lambda u: u.split(\"_\")[0], selected_columns)))\n",
    "    for turn_i in sorted(turns):\n",
    "        turn_string = (\"Turn \" + turn_i[1:] + \":\" if turn_i.startswith(\"t\") else \"Start:\")\n",
    "        print(turn_string)\n",
    "        print(\"  Common:\")\n",
    "        for element in identical_columns:\n",
    "            # print(df[element].iloc[0])\n",
    "            if element.startswith(turn_i) and df[element].iloc[0] != 0:\n",
    "                print(\"   \" + \" \".join(element.split(\"_\")[1:]) + \": \" + str(df[element].iloc[0]))\n",
    "        if sum(e.startswith(turn_i) for e in different_columns) > 0:\n",
    "            for i, row in df.iterrows():\n",
    "                print(\" Scenario \" + str(i) + \":\")\n",
    "                print(\"  Specific:\")\n",
    "                for element in different_columns:\n",
    "                    if element.startswith(turn_i):\n",
    "                        print(\"   \" + \" \".join(element.split(\"_\")[1:]) + \": \" + str(row[element]))\n",
    "printScenario(cleaned)"
   ]
  },
  {
   "cell_type": "code",
   "execution_count": null,
   "metadata": {},
   "outputs": [],
   "source": [
    "variants = printVariants(cleaned)"
   ]
  },
  {
   "cell_type": "code",
   "execution_count": null,
   "metadata": {},
   "outputs": [],
   "source": [
    "x['start_warrior'].head(1)"
   ]
  },
  {
   "cell_type": "code",
   "execution_count": null,
   "metadata": {},
   "outputs": [],
   "source": [
    "variants"
   ]
  },
  {
   "cell_type": "code",
   "execution_count": null,
   "metadata": {},
   "outputs": [],
   "source": [
    "# def prettyPrint(variants):\n",
    "#     turns = list(set(map(lambda u: u[0].split(\"_\")[0], variants)))\n",
    "#     for turn_i in turns:\n",
    "#         turn_string = (\"Turn \" + turn_i[1:] + \":\" if turn_i.startswith(\"t\") else \"Start:\")\n",
    "#         print(turn_string)\n",
    "#         for element, value in map(lambda u: (\" \".join(u[0].split(\"_\")[1:]), u[1]), filter(lambda u: u[0].startswith(turn_i), # variants)):\n",
    "#             print(element + \":\", \", \".join(map(lambda u: str(u), value)))\n",
    "# prettyPrint(variants)"
   ]
  },
  {
   "cell_type": "code",
   "execution_count": null,
   "metadata": {},
   "outputs": [],
   "source": [
    "printValueList(cleaned)"
   ]
  },
  {
   "cell_type": "code",
   "execution_count": null,
   "metadata": {},
   "outputs": [],
   "source": [
    "printValueList(x)"
   ]
  },
  {
   "cell_type": "code",
   "execution_count": null,
   "metadata": {},
   "outputs": [],
   "source": [
    "{\n",
    "\t\t\"name\": \"water_temple\",\n",
    "\t\t\"cost\": 20,\n",
    "\t\t\"pop\": 1,\n",
    "\t\t\"requires\": \"acquatism\"\n",
    "\t},{\n",
    "\t\t\"name\": \"forest_temple\",\n",
    "\t\t\"cost\": 20,\n",
    "\t\t\"pop\": 1,\n",
    "\t\t\"requires\": \"spiritualism\"\n",
    "\t},{\n",
    "\t\t\"name\": \"mountain_temple\",\n",
    "\t\t\"cost\": 20,\n",
    "\t\t\"pop\": 1,\n",
    "\t\t\"requires\": \"meditation\"\n",
    "\t},{\n",
    "\t\t\"name\": \"temple\",\n",
    "\t\t\"cost\": 20,\n",
    "\t\t\"pop\": 1,\n",
    "\t\t\"requires\": \"free spirit\"\n",
    "\t},{\n",
    "\t\t\"name\": \"road_conection\",\n",
    "\t\t\"cost\": 0,\n",
    "\t\t\"pop\": 2,\n",
    "\t\t\"requires\": \"roads\"\n",
    "\t},{\n",
    "\t\t\"name\": \"water_connection\",\n",
    "\t\t\"cost\": 0,\n",
    "\t\t\"pop\": 2,\n",
    "\t\t\"requires\": \"sailing\"\n",
    "\t}"
   ]
  }
 ]
}