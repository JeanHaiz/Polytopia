{
 "metadata": {
  "language_info": {
   "codemirror_mode": {
    "name": "ipython",
    "version": 3
   },
   "file_extension": ".py",
   "mimetype": "text/x-python",
   "name": "python",
   "nbconvert_exporter": "python",
   "pygments_lexer": "ipython3",
   "version": "3.7.6-final"
  },
  "orig_nbformat": 2,
  "kernelspec": {
   "name": "Python 3.7.6 64-bit ('base': conda)",
   "display_name": "Python 3.7.6 64-bit ('base': conda)",
   "metadata": {
    "interpreter": {
     "hash": "e134e05457d34029b6460cd73bbf1ed73f339b5b6d98c95be70b69eba114fe95"
    }
   }
  }
 },
 "nbformat": 4,
 "nbformat_minor": 2,
 "cells": [
  {
   "cell_type": "code",
   "execution_count": null,
   "metadata": {},
   "outputs": [],
   "source": [
    "from utils import *"
   ]
  },
  {
   "cell_type": "code",
   "execution_count": null,
   "metadata": {},
   "outputs": [],
   "source": [
    "from __future__ import absolute_import\n",
    "from __future__ import division\n",
    "from __future__ import print_function\n",
    "\n",
    "import json\n",
    "import pandas as pd\n",
    "\n",
    "from ortools.sat.python import cp_model\n",
    "from ortools.sat.python.cp_model import _SumArray"
   ]
  },
  {
   "cell_type": "code",
   "execution_count": null,
   "metadata": {},
   "outputs": [],
   "source": [
    "values = getValues()\n",
    "techs = getTechs()\n",
    "tribes = getTribes()"
   ]
  },
  {
   "cell_type": "code",
   "execution_count": null,
   "metadata": {},
   "outputs": [],
   "source": [
    "class GameState:\n",
    "    turn = -1\n",
    "    player = \"\"\n",
    "    game = \"\"\n",
    "    parent_state = None\n",
    "    techs = {}\n",
    "    previous_techs = {}\n",
    "    vars = []\n",
    "    tribe = \"\"\n",
    "    cities = [] # \n",
    "    child_states = [] # GameStates\n",
    "    raw_score = None\n",
    "    full_score = None\n",
    "    model = None\n",
    "    solutions = None\n",
    "\n",
    "    def __init__(self, turn, parent_state=None, previous_tech={}):\n",
    "        self.turn = turn\n",
    "        self.model = cp_model.CpModel()\n",
    "        self.parent_state = parent_sate\n",
    "        self.previous_tech = previous_tech\n",
    "\n",
    "    def computeEndScore(self):\n",
    "        self.\n",
    "\n",
    "    def __repr__(self):\n",
    "        return \"GameState\"\n",
    "    \n",
    "    def __str__(self):\n",
    "        return \"GameState turn %d, player %s\" % (self.turn, self.player, self.game)\n",
    "\n",
    "class Player:\n",
    "    \n",
    "    initialGameState = []\n",
    "\n",
    "    def addScore(self):\n",
    "        if len(initialGameState):\n",
    "            pass\n",
    "        pass\n",
    "\n",
    "    def addTech(self):\n",
    "        pass\n",
    "\n",
    "    def addTribe(self, tribe):\n",
    "        data = getTribe()[tribe]\n",
    "        pass"
   ]
  },
  {
   "cell_type": "code",
   "execution_count": null,
   "metadata": {},
   "outputs": [],
   "source": [
    "g = GameState()\n"
   ]
  },
  {
   "cell_type": "code",
   "execution_count": null,
   "metadata": {
    "tags": []
   },
   "outputs": [],
   "source": [
    "def solve(raw_score, full_score):\n",
    "    model = cp_model.CpModel()\n",
    "    eq_dict, sym_dict = addAllVars(model, values)\n",
    "\n",
    "    buildScoreConstraint(model, eq_dict, full_score, True)\n",
    "    buildScoreConstraint(model, eq_dict, raw_score, False)\n",
    "    model.Add(_SumArray([sym_dict[e] for e in values['units'].keys()]) < 20)\n",
    "\n",
    "\n",
    "    solver = cp_model.CpSolver()\n",
    "    solution_printer = DataFrameSolutionAggregator(sym_dict.values())\n",
    "    status = solver.SearchForAllSolutions(model, solution_printer)\n",
    "    return solution_printer"
   ]
  },
  {
   "cell_type": "code",
   "execution_count": null,
   "metadata": {},
   "outputs": [],
   "source": [
    "# superb_ruin\n",
    "scores = [\n",
    "    ([515, 515], []),\n",
    "    ([565, 565], [440, 440]),\n",
    "    ([590, 600], [450, 450]),\n",
    "    ([855, 635], [700, 460]),\n",
    "    ([1385, 670], [1230, 460]),\n",
    "    ([1860, 1215], [1700, 990]),\n",
    "    ([2230, 1815], [2010, 1530])\n",
    "]"
   ]
  },
  {
   "cell_type": "code",
   "execution_count": null,
   "metadata": {},
   "outputs": [],
   "source": [
    "player_scores = [\n",
    "    [565, 440],\n",
    "    [590, 450],\n",
    "    [855, 700],\n",
    "    [1385, 1230],\n",
    "    [1860, 1700],\n",
    "    [2230, 2010]\n",
    "]"
   ]
  },
  {
   "cell_type": "code",
   "execution_count": null,
   "metadata": {},
   "outputs": [],
   "source": [
    "player_2_scores = [\n",
    "    [565, 440],\n",
    "    [600, 450],\n",
    "    [635, 460],\n",
    "    [670, 460],\n",
    "    [1215, 990],\n",
    "    [1815, 1530]\n",
    "]"
   ]
  },
  {
   "cell_type": "code",
   "execution_count": null,
   "metadata": {},
   "outputs": [],
   "source": [
    "def divide_scores(scores):\n",
    "\n",
    "\n",
    "    return selected_scores + divide_score(scores[1:])"
   ]
  },
  {
   "cell_type": "code",
   "execution_count": null,
   "metadata": {},
   "outputs": [],
   "source": [
    "for i in range(len(player_scores) - 1):\n",
    "    raw_delta = player_scores[i + 1][1] - player_scores[i][1]\n",
    "    full_delta = player_scores[i + 1][0] - player_scores[i][0]\n",
    "    print(full_delta, raw_delta)\n",
    "    # sp = solve(raw_score=raw_delta, full_score=full_delta)\n",
    "    # print(sp.get_data_frame().to_string())"
   ]
  },
  {
   "cell_type": "code",
   "execution_count": null,
   "metadata": {},
   "outputs": [],
   "source": [
    "print(sp.get_data_frame())"
   ]
  },
  {
   "source": [
    "# Equations: \n",
    "\n",
    "full score = score(units) + score(tech) + score(city) + score(vision)\n",
    "\n",
    "raw score =  score(units) + score(tech) + score(city)\n",
    "\n",
    "'remaining stars + spt + extra stars = stars(units) + stars(tech) + star(building)'"
   ],
   "cell_type": "markdown",
   "metadata": {}
  },
  {
   "cell_type": "code",
   "execution_count": null,
   "metadata": {},
   "outputs": [],
   "source": [
    "import re\n",
    "from utils import * \n",
    "model = cp_model.CpModel()\n",
    "\n",
    "past_turn = None\n",
    "dictionnaries = {}\n",
    "scores = {\n",
    "    \"start\": [515, 390],\n",
    "    \"t0\": [565, 440],\n",
    "    \"t1\": [600, 450],\n",
    "    \"t2\": [635, 460],\n",
    "    \"t3\": [670, 460],\n",
    "    \"t4\": [1215, 990],\n",
    "    \"t5\": [1815, 1530]\n",
    "}\n",
    "\n",
    "for turn in [\"start\", \"t0\"]:#, \"t1\", \"t2\", \"t3\"]:#, \"t4\", \"t5\"]:\n",
    "    dictionnaries[turn] = buildDictionnaries(model, turn)\n",
    "    full_score = scores[turn][0] \n",
    "    raw_score = scores[turn][1]\n",
    "\n",
    "    buildAllConstraints(model, turn, dictionnaries)\n",
    "\n",
    "    setRawScore(model, turn, dictionnaries[turn]['scores'], raw_score)\n",
    "    setFullScore(model, turn, dictionnaries[turn]['scores'], full_score)\n",
    "    setTribe(model, turn, \"Bardur\", dictionnaries[turn]['tribes'])\n",
    "\n",
    "    linkTurns(model, turn, dictionnaries)\n",
    "    addInitialState(model, turn, dictionnaries)\n",
    "    past_turn = turn\n",
    "\n",
    "addSolution(model, turn, dictionnaries)\n",
    "\n",
    "solver = cp_model.CpSolver()\n",
    "output_variables = list(h for turn, turn_dict in dictionnaries.items() for topic, topic_dict in turn_dict.items() for h in topic_dict.values() if topic != \"equations\")\n",
    "solution_printer = DataFrameSolutionAggregator(output_variables)\n",
    "status = solver.SearchForAllSolutions(model, solution_printer)\n",
    "print('Solve status: %s' % solver.StatusName(status))"
   ]
  },
  {
   "cell_type": "code",
   "execution_count": null,
   "metadata": {},
   "outputs": [],
   "source": [
    "x = solution_printer.get_data_frame()"
   ]
  },
  {
   "cell_type": "code",
   "execution_count": null,
   "metadata": {},
   "outputs": [],
   "source": [
    "printValueList(x)"
   ]
  },
  {
   "cell_type": "code",
   "execution_count": null,
   "metadata": {},
   "outputs": [],
   "source": [
    "x[x['t2_population'] ==]"
   ]
  },
  {
   "cell_type": "code",
   "execution_count": null,
   "metadata": {},
   "outputs": [],
   "source": [
    "cleaned = chooseBestSolution(x[x['t2_population'] == 2])"
   ]
  },
  {
   "cell_type": "code",
   "execution_count": null,
   "metadata": {},
   "outputs": [],
   "source": [
    "cleaned"
   ]
  },
  {
   "cell_type": "code",
   "execution_count": null,
   "metadata": {
    "tags": []
   },
   "outputs": [],
   "source": [
    "def printScenario(full_df):\n",
    "    regex = getScenarioRegex()\n",
    "    selected_columns = [u for u in full_df.columns if sum(re.search(r, u) is not None for r in regex) != 0]\n",
    "    #print(selected_columns)\n",
    "    df = full_df[selected_columns]\n",
    "    identical_columns = list(filter(lambda x: len(df[x].unique()) == 1, selected_columns))\n",
    "    different_columns = list(filter(lambda x: len(df[x].unique()) != 1, selected_columns))\n",
    "    turns = list(set(map(lambda u: u.split(\"_\")[0], selected_columns)))\n",
    "    for turn_i in sorted(turns):\n",
    "        turn_string = (\"Turn \" + turn_i[1:] + \":\" if turn_i.startswith(\"t\") else \"Start:\")\n",
    "        print(turn_string)\n",
    "        print(\"  Common:\")\n",
    "        for element in identical_columns:\n",
    "            # print(df[element].iloc[0])\n",
    "            if element.startswith(turn_i) and df[element].iloc[0] != 0:\n",
    "                print(\"   \" + \" \".join(element.split(\"_\")[1:]) + \": \" + str(df[element].iloc[0]))\n",
    "        if sum(e.startswith(turn_i) for e in different_columns) > 0:\n",
    "            for i, row in df.iterrows():\n",
    "                print(\" Scenario \" + str(i) + \":\")\n",
    "                print(\"  Specific:\")\n",
    "                for element in different_columns:\n",
    "                    if element.startswith(turn_i):\n",
    "                        print(\"   \" + \" \".join(element.split(\"_\")[1:]) + \": \" + str(row[element]))\n",
    "printScenario(cleaned)"
   ]
  },
  {
   "cell_type": "code",
   "execution_count": null,
   "metadata": {},
   "outputs": [],
   "source": [
    "variants = printVariants(cleaned)"
   ]
  },
  {
   "cell_type": "code",
   "execution_count": null,
   "metadata": {},
   "outputs": [],
   "source": [
    "x['start_warrior'].head(1)"
   ]
  },
  {
   "cell_type": "code",
   "execution_count": null,
   "metadata": {},
   "outputs": [],
   "source": [
    "variants"
   ]
  },
  {
   "cell_type": "code",
   "execution_count": null,
   "metadata": {},
   "outputs": [],
   "source": [
    "# def prettyPrint(variants):\n",
    "#     turns = list(set(map(lambda u: u[0].split(\"_\")[0], variants)))\n",
    "#     for turn_i in turns:\n",
    "#         turn_string = (\"Turn \" + turn_i[1:] + \":\" if turn_i.startswith(\"t\") else \"Start:\")\n",
    "#         print(turn_string)\n",
    "#         for element, value in map(lambda u: (\" \".join(u[0].split(\"_\")[1:]), u[1]), filter(lambda u: u[0].startswith(turn_i), # variants)):\n",
    "#             print(element + \":\", \", \".join(map(lambda u: str(u), value)))\n",
    "# prettyPrint(variants)"
   ]
  },
  {
   "cell_type": "code",
   "execution_count": null,
   "metadata": {},
   "outputs": [],
   "source": [
    "printValueList(cleaned)"
   ]
  },
  {
   "cell_type": "code",
   "execution_count": null,
   "metadata": {},
   "outputs": [],
   "source": [
    "printValueList(x)"
   ]
  },
  {
   "cell_type": "code",
   "execution_count": null,
   "metadata": {},
   "outputs": [],
   "source": [
    "{\n",
    "\t\t\"name\": \"water_temple\",\n",
    "\t\t\"cost\": 20,\n",
    "\t\t\"pop\": 1,\n",
    "\t\t\"requires\": \"acquatism\"\n",
    "\t},{\n",
    "\t\t\"name\": \"forest_temple\",\n",
    "\t\t\"cost\": 20,\n",
    "\t\t\"pop\": 1,\n",
    "\t\t\"requires\": \"spiritualism\"\n",
    "\t},{\n",
    "\t\t\"name\": \"mountain_temple\",\n",
    "\t\t\"cost\": 20,\n",
    "\t\t\"pop\": 1,\n",
    "\t\t\"requires\": \"meditation\"\n",
    "\t},{\n",
    "\t\t\"name\": \"temple\",\n",
    "\t\t\"cost\": 20,\n",
    "\t\t\"pop\": 1,\n",
    "\t\t\"requires\": \"free spirit\"\n",
    "\t},{\n",
    "\t\t\"name\": \"road_conection\",\n",
    "\t\t\"cost\": 0,\n",
    "\t\t\"pop\": 2,\n",
    "\t\t\"requires\": \"roads\"\n",
    "\t},{\n",
    "\t\t\"name\": \"water_connection\",\n",
    "\t\t\"cost\": 0,\n",
    "\t\t\"pop\": 2,\n",
    "\t\t\"requires\": \"sailing\"\n",
    "\t}"
   ]
  }
 ]
}