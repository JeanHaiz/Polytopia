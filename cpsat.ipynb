{
 "metadata": {
  "language_info": {
   "codemirror_mode": {
    "name": "ipython",
    "version": 3
   },
   "file_extension": ".py",
   "mimetype": "text/x-python",
   "name": "python",
   "nbconvert_exporter": "python",
   "pygments_lexer": "ipython3",
   "version": "3.7.6-final"
  },
  "orig_nbformat": 2,
  "kernelspec": {
   "name": "Python 3.7.6 64-bit ('base': conda)",
   "display_name": "Python 3.7.6 64-bit ('base': conda)",
   "metadata": {
    "interpreter": {
     "hash": "e134e05457d34029b6460cd73bbf1ed73f339b5b6d98c95be70b69eba114fe95"
    }
   }
  }
 },
 "nbformat": 4,
 "nbformat_minor": 2,
 "cells": [
  {
   "cell_type": "code",
   "execution_count": null,
   "metadata": {},
   "outputs": [],
   "source": [
    "from utils import *"
   ]
  },
  {
   "cell_type": "code",
   "execution_count": null,
   "metadata": {},
   "outputs": [],
   "source": [
    "from __future__ import absolute_import\n",
    "from __future__ import division\n",
    "from __future__ import print_function\n",
    "\n",
    "import json\n",
    "import pandas as pd\n",
    "\n",
    "from ortools.sat.python import cp_model\n",
    "from ortools.sat.python.cp_model import _SumArray"
   ]
  },
  {
   "cell_type": "code",
   "execution_count": null,
   "metadata": {},
   "outputs": [],
   "source": [
    "values = getValues()\n",
    "techs = getTechs()\n",
    "tribes = getTribes()"
   ]
  },
  {
   "cell_type": "code",
   "execution_count": null,
   "metadata": {},
   "outputs": [],
   "source": [
    "class GameState:\n",
    "    turn = -1\n",
    "    player = \"\"\n",
    "    game = \"\"\n",
    "    parent_state = None\n",
    "    techs = {}\n",
    "    previous_techs = {}\n",
    "    vars = []\n",
    "    tribe = \"\"\n",
    "    cities = [] # \n",
    "    child_states = [] # GameStates\n",
    "    raw_score = None\n",
    "    full_score = None\n",
    "    model = None\n",
    "    solutions = None\n",
    "\n",
    "    def __init__(self, turn, parent_state=None, previous_tech={}):\n",
    "        self.turn = turn\n",
    "        self.model = cp_model.CpModel()\n",
    "        self.parent_state = parent_sate\n",
    "        self.previous_tech = previous_tech\n",
    "\n",
    "    def computeEndScore(self):\n",
    "        self.\n",
    "\n",
    "    def __repr__(self):\n",
    "        return \"GameState\"\n",
    "    \n",
    "    def __str__(self):\n",
    "        return \"GameState turn %d, player %s\" % (self.turn, self.player, self.game)\n",
    "\n",
    "class Player:\n",
    "    \n",
    "    initialGameState = []\n",
    "\n",
    "    def addScore(self):\n",
    "        if len(initialGameState):\n",
    "            pass\n",
    "        pass\n",
    "\n",
    "    def addTech(self):\n",
    "        pass\n",
    "\n",
    "    def addTribe(self, tribe):\n",
    "        data = getTribe()[tribe]\n",
    "        pass"
   ]
  },
  {
   "cell_type": "code",
   "execution_count": null,
   "metadata": {},
   "outputs": [],
   "source": [
    "g = GameState()\n"
   ]
  },
  {
   "cell_type": "code",
   "execution_count": null,
   "metadata": {
    "tags": []
   },
   "outputs": [],
   "source": [
    "def solve(raw_score, full_score):\n",
    "    model = cp_model.CpModel()\n",
    "    eq_dict, sym_dict = addAllVars(model, values)\n",
    "\n",
    "    buildScoreConstraint(model, eq_dict, full_score, True)\n",
    "    buildScoreConstraint(model, eq_dict, raw_score, False)\n",
    "    model.Add(_SumArray([sym_dict[e] for e in values['units'].keys()]) < 20)\n",
    "\n",
    "\n",
    "    solver = cp_model.CpSolver()\n",
    "    solution_printer = DataFrameSolutionAggregator(sym_dict.values())\n",
    "    status = solver.SearchForAllSolutions(model, solution_printer)\n",
    "    return solution_printer"
   ]
  },
  {
   "cell_type": "code",
   "execution_count": null,
   "metadata": {},
   "outputs": [],
   "source": [
    "# superb_ruin\n",
    "scores = [\n",
    "    ([515, 515], []),\n",
    "    ([565, 565], [440, 440]),\n",
    "    ([590, 600], [450, 450]),\n",
    "    ([855, 635], [700, 460]),\n",
    "    ([1385, 670], [1230, 460]),\n",
    "    ([1860, 1215], [1700, 990]),\n",
    "    ([2230, 1815], [2010, 1530])\n",
    "]"
   ]
  },
  {
   "cell_type": "code",
   "execution_count": null,
   "metadata": {},
   "outputs": [],
   "source": [
    "player_scores = [\n",
    "    [565, 440],\n",
    "    [590, 450],\n",
    "    [855, 700],\n",
    "    [1385, 1230],\n",
    "    [1860, 1700],\n",
    "    [2230, 2010]\n",
    "]"
   ]
  },
  {
   "cell_type": "code",
   "execution_count": null,
   "metadata": {},
   "outputs": [],
   "source": [
    "player_2_scores = [\n",
    "    [565, 440],\n",
    "    [600, 450],\n",
    "    [635, 460],\n",
    "    [670, 460],\n",
    "    [1215, 990],\n",
    "    [1815, 1530]\n",
    "]"
   ]
  },
  {
   "cell_type": "code",
   "execution_count": null,
   "metadata": {},
   "outputs": [],
   "source": [
    "def divide_scores(scores):\n",
    "\n",
    "\n",
    "    return selected_scores + divide_score(scores[1:])"
   ]
  },
  {
   "cell_type": "code",
   "execution_count": null,
   "metadata": {},
   "outputs": [],
   "source": [
    "for i in range(len(player_scores) - 1):\n",
    "    raw_delta = player_scores[i + 1][1] - player_scores[i][1]\n",
    "    full_delta = player_scores[i + 1][0] - player_scores[i][0]\n",
    "    print(full_delta, raw_delta)\n",
    "    # sp = solve(raw_score=raw_delta, full_score=full_delta)\n",
    "    # print(sp.get_data_frame().to_string())"
   ]
  },
  {
   "cell_type": "code",
   "execution_count": null,
   "metadata": {},
   "outputs": [],
   "source": [
    "print(sp.get_data_frame())"
   ]
  },
  {
   "source": [
    "# Equations: \n",
    "\n",
    "full score = score(units) + score(tech) + score(city) + score(vision)\n",
    "\n",
    "raw score =  score(units) + score(tech) + score(city)\n",
    "\n",
    "'remaining stars + spt + extra stars = stars(units) + stars(tech) + star(building)'"
   ],
   "cell_type": "markdown",
   "metadata": {}
  },
  {
   "cell_type": "code",
   "execution_count": 1,
   "metadata": {},
   "outputs": [
    {
     "output_type": "stream",
     "name": "stdout",
     "text": [
      "((((((10 * start_warrior) + (15 * start_rider) + (15 * start_archer) + (15 * start_shield) + (40 * start_cata) + (25 * start_mindbender) + (25 * start_swordpeople) + (40 * start_knight) + (10 * start_giant))) + ((100 * start_level-1) + (40 * start_level-2) + (35 * start_level-3) + (30 * start_level-4) + (25 * start_level-5) + (5 * start_population) + (400 * start_monument))) + ((100 * start_tier-1) + (200 * start_tier-2) + (300 * start_tier-3))) + ((20 * start_claimed) + (5 * start_revealed) + (150 * start_explorer)))\n(start_level-1 + -start_level-2)\n((((((10 * t0_warrior) + (15 * t0_rider) + (15 * t0_archer) + (15 * t0_shield) + (40 * t0_cata) + (25 * t0_mindbender) + (25 * t0_swordpeople) + (40 * t0_knight) + (10 * t0_giant))) + ((100 * t0_level-1) + (40 * t0_level-2) + (35 * t0_level-3) + (30 * t0_level-4) + (25 * t0_level-5) + (5 * t0_population) + (400 * t0_monument))) + ((100 * t0_tier-1) + (200 * t0_tier-2) + (300 * t0_tier-3))) + ((20 * t0_claimed) + (5 * t0_revealed) + (150 * t0_explorer)))\n(t0_level-1 + -t0_level-2)\nSolve status: INFEASIBLE\n"
     ]
    }
   ],
   "source": [
    "from utils import * \n",
    "model = cp_model.CpModel()\n",
    "\n",
    "past_turn = None\n",
    "dictionnaries = {}\n",
    "scores = {\n",
    "    \"start\": [515, 390],\n",
    "    \"t0\": [565, 440],\n",
    "    \"t1\": [600, 450],\n",
    "    \"t2\": [635, 460],\n",
    "    \"t3\": [670, 460],\n",
    "    \"t4\": [1215, 990],\n",
    "    \"t5\": [1815, 1530]\n",
    "}\n",
    "\n",
    "for turn in [\"start\", \"t0\"]:#, \"t1\", \"t2\"]:\n",
    "    dictionnaries[turn] = buildDictionnaries(model, turn)\n",
    "    full_score = scores[turn][0] \n",
    "    raw_score = scores[turn][1]\n",
    "\n",
    "    buildAllConstraints(model, turn, dictionnaries)\n",
    "\n",
    "    setRawScore(model, turn, dictionnaries[turn]['scores'], raw_score)\n",
    "    #setDeltaRawScore(model, score_dict, delta_raw_score)\n",
    "    setFullScore(model, turn, dictionnaries[turn]['scores'], full_score)\n",
    "    #setDeltaFullScore(model, score_dict, delta_full_score)\n",
    "    setTribe(model, turn, \"Bardur\", dictionnaries[turn]['tribes'])\n",
    "\n",
    "    linkTurns(model, turn, dictionnaries)\n",
    "    addInitialState(model, turn, dictionnaries)\n",
    "    past_turn = turn\n",
    "\n",
    "model.Add(dictionnaries[\"start\"]['symbols'][\"start_monument\"] == 0)\n",
    "# model.Add(dictionnaries[\"start\"]['city'][\"start_level-2_count\"] == 0)\n",
    "# model.Add(dictionnaries[\"start\"]['city'][\"start_level-5_count\"] == 0)\n",
    "model.Add(dictionnaries[\"t0\"]['symbols'][\"t0_level-1\"] == 1)\n",
    "model.Add(dictionnaries[\"t0\"]['symbols'][\"t0_level-2\"] == 1)\n",
    "model.Add(dictionnaries[\"t0\"]['symbols'][\"t0_level-3\"] == 0)\n",
    "# model.Add(dictionnaries[\"t0\"]['city'][\"t0_level-1_count\"] == 0)\n",
    "# model.Add(dictionnaries[\"t0\"]['city'][\"t0_level-2_count\"] == 1)\n",
    "# model.Add(dictionnaries[\"t0\"]['city'][\"t0_level-3_count\"] == 0)\n",
    "# model.Add(dictionnaries[\"t0\"]['city'][\"t0_level-4_count\"] == 0)\n",
    "# model.Add(dictionnaries[\"t0\"]['city'][\"t0_level-5_count\"] == 0)\n",
    "\n",
    "model.Add(dictionnaries[\"t0\"]['symbols'][\"t0_population\"] == 2)\n",
    "model.Add(dictionnaries[\"t0\"]['symbols'][\"t0_claimed\"] == 9)\n",
    "model.Add(dictionnaries[\"t0\"]['symbols'][\"t0_tier-1\"] == 1)\n",
    "model.Add(dictionnaries[\"t0\"]['symbols'][\"t0_tier-2\"] == 0)\n",
    "model.Add(dictionnaries[\"t0\"]['symbols'][\"t0_monument\"] == 0)\n",
    "model.Add(dictionnaries[\"t0\"]['symbols'][\"t0_giant\"] == 0)\n",
    "model.Add(dictionnaries[\"t0\"]['symbols'][\"t0_warrior\"] == 1)\n",
    "model.Add(dictionnaries[\"t0\"]['symbols'][\"t0_explorer\"] == 0)\n",
    "\n",
    "\n",
    "\n",
    "solver = cp_model.CpSolver()\n",
    "output_variables = list([h for b, j in dictionnaries.items() for a,i in j.items() for h in i.values() if a != \"equations\"])\n",
    "solution_printer = DataFrameSolutionAggregator(output_variables)\n",
    "status = solver.SearchForAllSolutions(model, solution_printer)\n",
    "print('Solve status: %s' % solver.StatusName(status))"
   ]
  },
  {
   "source": [
    "(((((10 * start_warrior + (15 * start_rider) + (15 * start_archer) + (15 * start_shield) + (40 * start_cata) + (25 * start_mindbender) + (25 * start_swordpeople) + (40 * start_knight) + (10 * start_giant))) + ((100 * start_level-1) + (40 * start_level-2) + (35 * start_level-3) + (30 * start_level-4) + (25 * start_level-5) + (5 * start_population) + (400 * start_monument))) + ((100 * start_tier-1) + (200 * start_tier-2) + (300 * start_tier-3))) + ((20 * start_claimed) + (5 * start_revealed) + (150 * start_explorer)))\n",
    "((((((10 * t0_warrior) + (15 * t0_rider) + (15 * t0_archer) + (15 * t0_shield) + (40 * t0_cata) + (25 * t0_mindbender) + (25 * t0_swordpeople) + (40 * t0_knight) + (10 * t0_giant))) + ((100 * t0_level-1) + (40 * t0_level-2) + (35 * t0_level-3) + (30 * t0_level-4) + (25 * t0_level-5) + (5 * t0_population) + (400 * t0_monument))) + ((100 * t0_tier-1) + (200 * t0_tier-2) + (300 * t0_tier-3))) + ((20 * t0_claimed) + (5 * t0_revealed) + (150 * t0_explorer)))"
   ],
   "cell_type": "markdown",
   "metadata": {}
  },
  {
   "cell_type": "code",
   "execution_count": null,
   "metadata": {},
   "outputs": [],
   "source": [
    "x = solution_printer.get_data_frame()\n",
    "x"
   ]
  },
  {
   "cell_type": "code",
   "execution_count": null,
   "metadata": {},
   "outputs": [],
   "source": [
    "count = 1\n",
    "for i in range(len(x.columns)):\n",
    "    c = list(x.columns)[i]\n",
    "    print(c, len(x[c].unique()), x[c].unique())\n",
    "    count *= len(x[c].unique())\n",
    "count"
   ]
  },
  {
   "cell_type": "code",
   "execution_count": null,
   "metadata": {},
   "outputs": [],
   "source": [
    "x.loc[0]"
   ]
  },
  {
   "cell_type": "code",
   "execution_count": null,
   "metadata": {},
   "outputs": [],
   "source": [
    "x[(x[\"t0_level-2_spt\"] == 1)]# & (x[\"t0_level-2\"] == 1)]"
   ]
  },
  {
   "cell_type": "code",
   "execution_count": null,
   "metadata": {},
   "outputs": [],
   "source": [
    "x[(x[\"t0_warrior\"] == 1)]"
   ]
  },
  {
   "cell_type": "code",
   "execution_count": null,
   "metadata": {},
   "outputs": [],
   "source": [
    "x.loc[8]"
   ]
  },
  {
   "cell_type": "code",
   "execution_count": null,
   "metadata": {},
   "outputs": [],
   "source": [
    "x[(x[\"t0_monument\"] == 0) & (x[\"start_monument\"] == 0)]"
   ]
  },
  {
   "cell_type": "code",
   "execution_count": null,
   "metadata": {},
   "outputs": [],
   "source": [
    "x.drop_duplicates()"
   ]
  },
  {
   "source": [
    "9*20 (territories)+ 100 (level 1 city)+ tech+ units= raw score turn 0\n",
    "\n",
    "turn 0, vision score is always 125=25*5"
   ],
   "cell_type": "markdown",
   "metadata": {}
  },
  {
   "cell_type": "code",
   "execution_count": null,
   "metadata": {},
   "outputs": [],
   "source": [
    "score_dict"
   ]
  },
  {
   "source": [],
   "cell_type": "markdown",
   "metadata": {}
  },
  {
   "cell_type": "code",
   "execution_count": null,
   "metadata": {},
   "outputs": [],
   "source": [
    "\"level-6\" : 20,\n",
    "\t\t\"level-7\" : 15,\n",
    "\t\t\"level-8\" : 10,\n",
    "\t\t\"level-9\" : 5,\n",
    "\t\t\"level-10\" : 0,"
   ]
  },
  {
   "source": [
    "1: min = 0, max = 1\n",
    "2: min = 2, max = 4\n",
    "3: min = 5, max = 8\n",
    "4: min = 9, max = 13\n",
    "5: min = 14, max = 19\n",
    "\n",
    "b:     min(1)     = 0\n",
    "\n",
    "x:     min(x)     = max(x - 1) + 1\n",
    "                  = min(x - 1) + x, \n",
    "       max(x)     = min(x) + x\n",
    "\n",
    "x + 1: min(x + 1) = max(x) + 1\n",
    "                  = min(x) + x + 1, \n",
    "       max(x + 1) = min(x + 1) + x + 1 \n",
    "                  = min(x) + 2x + 2\n",
    "x + 2: min(x + 2) = min(x) + 2x + 3 \n",
    "       max(x + 2) = min(x + 2) + x + 2 \n",
    "                  = min(x) + 2x + 3  + x + 2 \n",
    "                  = min(x) + 3x + 5\n",
    "x + 3: min(x + 3) = min(x + 1) + 2(x + 1) + 3 \n",
    "                  = min(x) + 3x + 6, \n",
    "       max(x + 3) = min(x + 3) + x + 3 \n",
    "                  = max(x) + x + 9"
   ],
   "cell_type": "markdown",
   "metadata": {}
  },
  {
   "cell_type": "code",
   "execution_count": null,
   "metadata": {},
   "outputs": [],
   "source": [
    "Bière 058 469 96 05"
   ]
  }
 ]
}