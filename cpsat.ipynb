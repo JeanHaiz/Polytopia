{
 "metadata": {
  "language_info": {
   "codemirror_mode": {
    "name": "ipython",
    "version": 3
   },
   "file_extension": ".py",
   "mimetype": "text/x-python",
   "name": "python",
   "nbconvert_exporter": "python",
   "pygments_lexer": "ipython3",
   "version": "3.7.6-final"
  },
  "orig_nbformat": 2,
  "kernelspec": {
   "name": "Python 3.7.6 64-bit ('anaconda3': virtualenv)",
   "display_name": "Python 3.7.6 64-bit ('anaconda3': virtualenv)",
   "metadata": {
    "interpreter": {
     "hash": "e134e05457d34029b6460cd73bbf1ed73f339b5b6d98c95be70b69eba114fe95"
    }
   }
  }
 },
 "nbformat": 4,
 "nbformat_minor": 2,
 "cells": [
  {
   "cell_type": "code",
   "execution_count": 1,
   "metadata": {},
   "outputs": [],
   "source": [
    "from utils import *"
   ]
  },
  {
   "cell_type": "code",
   "execution_count": null,
   "metadata": {},
   "outputs": [],
   "source": [
    "from __future__ import absolute_import\n",
    "from __future__ import division\n",
    "from __future__ import print_function\n",
    "\n",
    "import json\n",
    "import pandas as pd\n",
    "\n",
    "from ortools.sat.python import cp_model\n",
    "from ortools.sat.python.cp_model import _SumArray"
   ]
  },
  {
   "cell_type": "code",
   "execution_count": null,
   "metadata": {},
   "outputs": [],
   "source": []
  },
  {
   "cell_type": "code",
   "execution_count": null,
   "metadata": {
    "tags": []
   },
   "outputs": [],
   "source": [
    "def solve(raw_score, full_score):\n",
    "    model = cp_model.CpModel()\n",
    "    eq_dict, sym_dict = addAllVars(turn)\n",
    "\n",
    "    buildScoreConstraint(model, eq_dict, full_score, True)\n",
    "    buildScoreConstraint(model, eq_dict, raw_score, False)\n",
    "    model.Add(_SumArray([sym_dict[e] for e in values['units'].keys()]) < 20)\n",
    "\n",
    "\n",
    "    solver = cp_model.CpSolver()\n",
    "    solution_printer = DataFrameSolutionAggregator(sym_dict.values())\n",
    "    status = solver.SearchForAllSolutions(model, solution_printer)\n",
    "    return solution_printer"
   ]
  },
  {
   "cell_type": "code",
   "execution_count": null,
   "metadata": {},
   "outputs": [],
   "source": [
    "# superb_ruin\n",
    "scores = [\n",
    "    ([515, 515], []),\n",
    "    ([565, 565], [440, 440]),\n",
    "    ([590, 600], [450, 450]),\n",
    "    ([855, 635], [700, 460]),\n",
    "    ([1385, 670], [1230, 460]),\n",
    "    ([1860, 1215], [1700, 990]),\n",
    "    ([2230, 1815], [2010, 1530])\n",
    "]"
   ]
  },
  {
   "cell_type": "code",
   "execution_count": null,
   "metadata": {},
   "outputs": [],
   "source": [
    "player_scores = [\n",
    "    [565, 440],\n",
    "    [590, 450],\n",
    "    [855, 700],\n",
    "    [1385, 1230],\n",
    "    [1860, 1700],\n",
    "    [2230, 2010]\n",
    "]"
   ]
  },
  {
   "cell_type": "code",
   "execution_count": null,
   "metadata": {},
   "outputs": [],
   "source": [
    "player_2_scores = [\n",
    "    [565, 440],\n",
    "    [600, 450],\n",
    "    [635, 460],\n",
    "    [670, 460],\n",
    "    [1215, 990],\n",
    "    [1815, 1530]\n",
    "]"
   ]
  },
  {
   "cell_type": "code",
   "execution_count": null,
   "metadata": {},
   "outputs": [],
   "source": [
    "def divide_scores(scores):\n",
    "\n",
    "\n",
    "    return selected_scores + divide_score(scores[1:])"
   ]
  },
  {
   "cell_type": "code",
   "execution_count": null,
   "metadata": {},
   "outputs": [],
   "source": [
    "for i in range(len(player_scores) - 1):\n",
    "    raw_delta = player_scores[i + 1][1] - player_scores[i][1]\n",
    "    full_delta = player_scores[i + 1][0] - player_scores[i][0]\n",
    "    print(full_delta, raw_delta)\n",
    "    # sp = solve(raw_score=raw_delta, full_score=full_delta)\n",
    "    # print(sp.get_data_frame().to_string())"
   ]
  },
  {
   "cell_type": "code",
   "execution_count": null,
   "metadata": {},
   "outputs": [],
   "source": [
    "print(sp.get_data_frame())"
   ]
  },
  {
   "source": [
    "# Equations: \n",
    "\n",
    "full score = score(units) + score(tech) + score(city) + score(vision)\n",
    "\n",
    "raw score =  score(units) + score(tech) + score(city)\n",
    "\n",
    "'remaining stars + spt + extra stars = stars(units) + stars(tech) + star(building)'"
   ],
   "cell_type": "markdown",
   "metadata": {}
  },
  {
   "cell_type": "code",
   "execution_count": 1,
   "metadata": {},
   "outputs": [
    {
     "output_type": "error",
     "ename": "NameError",
     "evalue": "name 'buildAllConstraints' is not defined",
     "traceback": [
      "\u001b[0;31m---------------------------------------------------------------------------\u001b[0m",
      "\u001b[0;31mNameError\u001b[0m                                 Traceback (most recent call last)",
      "\u001b[0;32m<ipython-input-1-c5b113974677>\u001b[0m in \u001b[0;36m<module>\u001b[0;34m\u001b[0m\n\u001b[1;32m     19\u001b[0m     \u001b[0mraw_score\u001b[0m \u001b[0;34m=\u001b[0m \u001b[0mscores\u001b[0m\u001b[0;34m[\u001b[0m\u001b[0mturn\u001b[0m\u001b[0;34m]\u001b[0m\u001b[0;34m[\u001b[0m\u001b[0;36m1\u001b[0m\u001b[0;34m]\u001b[0m\u001b[0;34m\u001b[0m\u001b[0;34m\u001b[0m\u001b[0m\n\u001b[1;32m     20\u001b[0m \u001b[0;34m\u001b[0m\u001b[0m\n\u001b[0;32m---> 21\u001b[0;31m     \u001b[0mbuildAllConstraints\u001b[0m\u001b[0;34m(\u001b[0m\u001b[0mturn\u001b[0m\u001b[0;34m)\u001b[0m\u001b[0;34m\u001b[0m\u001b[0;34m\u001b[0m\u001b[0m\n\u001b[0m\u001b[1;32m     22\u001b[0m \u001b[0;34m\u001b[0m\u001b[0m\n\u001b[1;32m     23\u001b[0m     \u001b[0msetRawScore\u001b[0m\u001b[0;34m(\u001b[0m\u001b[0mturn\u001b[0m\u001b[0;34m,\u001b[0m \u001b[0mraw_score\u001b[0m\u001b[0;34m)\u001b[0m\u001b[0;34m\u001b[0m\u001b[0;34m\u001b[0m\u001b[0m\n",
      "\u001b[0;31mNameError\u001b[0m: name 'buildAllConstraints' is not defined"
     ]
    }
   ],
   "source": [
    "import re\n",
    "from ortools.sat.python import cp_model\n",
    "from SolutionAggregator import SolutionAggregator\n",
    "from utils import * \n",
    "from constr_utils import buildAllConstraints\n",
    "\n",
    "scores = {\n",
    "    \"start\": [515, 390],\n",
    "    \"t0\": [565, 440],\n",
    "    \"t1\": [600, 450],\n",
    "    \"t2\": [635, 460],\n",
    "    \"t3\": [670, 460],\n",
    "    \"t4\": [1215, 990],\n",
    "    \"t5\": [1815, 1530]\n",
    "}\n",
    "\n",
    "for turn in [\"start\", \"t0\"]:#, \"t1\", \"t2\", \"t3\"]:#, \"t4\", \"t5\"]:\n",
    "    buildDictionnaries(turn)\n",
    "    full_score = scores[turn][0] \n",
    "    raw_score = scores[turn][1]\n",
    "\n",
    "    buildAllConstraints(turn)\n",
    "\n",
    "    setRawScore(turn, raw_score)\n",
    "    setFullScore(turn, full_score)\n",
    "    setTribe(turn, \"Bardur\")\n",
    "\n",
    "    linkTurns(turn)\n",
    "    addInitialState(turn)\n",
    "\n",
    "# addSolution(turn)\n",
    "\n",
    "solver = cp_model.CpSolver()\n",
    "output_variables = list(dic.values())\n",
    "# output_variables = list(h for turn, turn_dict in dic.items() for topic, topic_dict in turn_dict.items() for h in topic_dict.values())\n",
    "solution_printer = SolutionAggregator(output_variables)\n",
    "status = solver.SearchForAllSolutions(model, solution_printer)\n",
    "print('Solve status: %s' % solver.StatusName(status))"
   ]
  },
  {
   "cell_type": "code",
   "execution_count": 2,
   "metadata": {},
   "outputs": [],
   "source": [
    "x = solution_printer.get_data_frame()"
   ]
  },
  {
   "cell_type": "code",
   "execution_count": 3,
   "metadata": {},
   "outputs": [
    {
     "output_type": "stream",
     "name": "stdout",
     "text": [
      "start_warrior 1 [1]\nstart_level-1 1 [1]\nstart_tier-1 1 [1]\nstart_claimed 1 [9]\nstart_revealed 1 [25]\nstart_hunting 1 [1]\nstart_Bardur 1 [1]\nstart_raw_score 1 [390]\nstart_full_score 1 [515]\nstart_level-1_count 21 [ 0  1  2  3  4  5  6  7  8  9 10 11 12 13 14 15 16 17 18 19 20]\nstart_pop_max 21 [ 0  1  2  3  4  5  6  7  8  9 10 11 12 13 14 15 16 17 18 19 20]\nt0_warrior 4 [0 3 1 2]\nt0_rider 2 [0 2]\nt0_giant 2 [0 1]\nt0_level-1 3 [0 2 1]\nt0_level-2 2 [0 1]\nt0_population 2 [0 2]\nt0_tier-1 4 [4 2 3 1]\nt0_tier-2 2 [0 1]\nt0_claimed 9 [ 2  7 17  0  9  6 12  1  5]\nt0_revealed 1 [25]\nt0_hunting 1 [1]\nt0_forestry 2 [0 1]\nt0_archery 2 [0 1]\nt0_fishing 2 [0 1]\nt0_sailing 2 [0 1]\nt0_whaling 2 [0 1]\nt0_climbing 2 [1 0]\nt0_organisation 2 [1 0]\nt0_riding 2 [1 0]\nt0_Bardur 1 [1]\nt0_raw_score 1 [440]\nt0_full_score 1 [565]\nt0_claimed_cst 2 [0 1]\nt0_lvl_1_cst 2 [1 0]\nt0_ruin 2 [0 1]\nt0_ruin_giant 2 [0 1]\nt0_ruin_tech 2 [0 1]\nt0_ruin_stars 2 [0 1]\nt0_whale 12 [ 0  1  2  3  4  5  6  7  8  9 10 11]\nt0_whale_stars 12 [ 0  1  2  3  4  5  6  7  8  9 10 11]\nt0_level-2_spt 2 [0 1]\nt0_level-1_count 2 [0 2]\nt0_level-2_count 2 [0 1]\nt0_pop_min 2 [0 2]\nt0_pop_max 3 [0 2 4]\nt0_animal 2 [0 2]\nt0_fruit 2 [0 2]\n"
     ]
    },
    {
     "output_type": "execute_result",
     "data": {
      "text/plain": [
       "2761569482047488"
      ]
     },
     "metadata": {},
     "execution_count": 3
    }
   ],
   "source": [
    "printValueList(x)"
   ]
  },
  {
   "cell_type": "code",
   "execution_count": null,
   "metadata": {},
   "outputs": [],
   "source": [
    "x[x['t2_population'] ==]"
   ]
  },
  {
   "cell_type": "code",
   "execution_count": null,
   "metadata": {},
   "outputs": [],
   "source": [
    "cleaned = chooseBestSolution(x[x['t2_population'] == 2])"
   ]
  },
  {
   "cell_type": "code",
   "execution_count": null,
   "metadata": {},
   "outputs": [],
   "source": [
    "cleaned"
   ]
  },
  {
   "cell_type": "code",
   "execution_count": null,
   "metadata": {
    "tags": []
   },
   "outputs": [],
   "source": [
    "def printScenario(full_df):\n",
    "    regex = getScenarioRegex()\n",
    "    selected_columns = [u for u in full_df.columns if sum(re.search(r, u) is not None for r in regex) != 0]\n",
    "    #print(selected_columns)\n",
    "    df = full_df[selected_columns]\n",
    "    identical_columns = list(filter(lambda x: len(df[x].unique()) == 1, selected_columns))\n",
    "    different_columns = list(filter(lambda x: len(df[x].unique()) != 1, selected_columns))\n",
    "    turns = list(set(map(lambda u: u.split(\"_\")[0], selected_columns)))\n",
    "    for turn_i in sorted(turns):\n",
    "        turn_string = (\"Turn \" + turn_i[1:] + \":\" if turn_i.startswith(\"t\") else \"Start:\")\n",
    "        print(turn_string)\n",
    "        print(\"  Common:\")\n",
    "        for element in identical_columns:\n",
    "            # print(df[element].iloc[0])\n",
    "            if element.startswith(turn_i) and df[element].iloc[0] != 0:\n",
    "                print(\"   \" + \" \".join(element.split(\"_\")[1:]) + \": \" + str(df[element].iloc[0]))\n",
    "        if sum(e.startswith(turn_i) for e in different_columns) > 0:\n",
    "            for i, row in df.iterrows():\n",
    "                print(\" Scenario \" + str(i) + \":\")\n",
    "                print(\"  Specific:\")\n",
    "                for element in different_columns:\n",
    "                    if element.startswith(turn_i):\n",
    "                        print(\"   \" + \" \".join(element.split(\"_\")[1:]) + \": \" + str(row[element]))\n",
    "printScenario(cleaned)"
   ]
  },
  {
   "cell_type": "code",
   "execution_count": null,
   "metadata": {},
   "outputs": [],
   "source": [
    "variants = printVariants(cleaned)"
   ]
  },
  {
   "cell_type": "code",
   "execution_count": null,
   "metadata": {},
   "outputs": [],
   "source": [
    "x['start_warrior'].head(1)"
   ]
  },
  {
   "cell_type": "code",
   "execution_count": null,
   "metadata": {},
   "outputs": [],
   "source": [
    "variants"
   ]
  },
  {
   "cell_type": "code",
   "execution_count": null,
   "metadata": {},
   "outputs": [],
   "source": [
    "# def prettyPrint(variants):\n",
    "#     turns = list(set(map(lambda u: u[0].split(\"_\")[0], variants)))\n",
    "#     for turn_i in turns:\n",
    "#         turn_string = (\"Turn \" + turn_i[1:] + \":\" if turn_i.startswith(\"t\") else \"Start:\")\n",
    "#         print(turn_string)\n",
    "#         for element, value in map(lambda u: (\" \".join(u[0].split(\"_\")[1:]), u[1]), filter(lambda u: u[0].startswith(turn_i), # variants)):\n",
    "#             print(element + \":\", \", \".join(map(lambda u: str(u), value)))\n",
    "# prettyPrint(variants)"
   ]
  },
  {
   "cell_type": "code",
   "execution_count": null,
   "metadata": {},
   "outputs": [],
   "source": [
    "printValueList(cleaned)"
   ]
  },
  {
   "cell_type": "code",
   "execution_count": null,
   "metadata": {},
   "outputs": [],
   "source": [
    "printValueList(x)"
   ]
  },
  {
   "cell_type": "code",
   "execution_count": null,
   "metadata": {},
   "outputs": [],
   "source": [
    "{\n",
    "\t\t\"name\": \"water_temple\",\n",
    "\t\t\"cost\": 20,\n",
    "\t\t\"pop\": 1,\n",
    "\t\t\"requires\": \"acquatism\"\n",
    "\t},{\n",
    "\t\t\"name\": \"forest_temple\",\n",
    "\t\t\"cost\": 20,\n",
    "\t\t\"pop\": 1,\n",
    "\t\t\"requires\": \"spiritualism\"\n",
    "\t},{\n",
    "\t\t\"name\": \"mountain_temple\",\n",
    "\t\t\"cost\": 20,\n",
    "\t\t\"pop\": 1,\n",
    "\t\t\"requires\": \"meditation\"\n",
    "\t},{\n",
    "\t\t\"name\": \"temple\",\n",
    "\t\t\"cost\": 20,\n",
    "\t\t\"pop\": 1,\n",
    "\t\t\"requires\": \"free spirit\"\n",
    "\t},{\n",
    "\t\t\"name\": \"road_conection\",\n",
    "\t\t\"cost\": 0,\n",
    "\t\t\"pop\": 2,\n",
    "\t\t\"requires\": \"roads\"\n",
    "\t},{\n",
    "\t\t\"name\": \"water_connection\",\n",
    "\t\t\"cost\": 0,\n",
    "\t\t\"pop\": 2,\n",
    "\t\t\"requires\": \"sailing\"\n",
    "\t}"
   ]
  }
 ]
}