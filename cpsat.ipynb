{
 "metadata": {
  "language_info": {
   "codemirror_mode": {
    "name": "ipython",
    "version": 3
   },
   "file_extension": ".py",
   "mimetype": "text/x-python",
   "name": "python",
   "nbconvert_exporter": "python",
   "pygments_lexer": "ipython3",
   "version": "3.7.6-final"
  },
  "orig_nbformat": 2,
  "kernelspec": {
   "name": "Python 3.7.6 64-bit ('base': conda)",
   "display_name": "Python 3.7.6 64-bit ('base': conda)",
   "metadata": {
    "interpreter": {
     "hash": "e134e05457d34029b6460cd73bbf1ed73f339b5b6d98c95be70b69eba114fe95"
    }
   }
  }
 },
 "nbformat": 4,
 "nbformat_minor": 2,
 "cells": [
  {
   "cell_type": "code",
   "execution_count": null,
   "metadata": {},
   "outputs": [],
   "source": [
    "from utils import *"
   ]
  },
  {
   "cell_type": "code",
   "execution_count": null,
   "metadata": {},
   "outputs": [],
   "source": [
    "from __future__ import absolute_import\n",
    "from __future__ import division\n",
    "from __future__ import print_function\n",
    "\n",
    "import json\n",
    "import pandas as pd\n",
    "\n",
    "from ortools.sat.python import cp_model\n",
    "from ortools.sat.python.cp_model import _SumArray"
   ]
  },
  {
   "cell_type": "code",
   "execution_count": null,
   "metadata": {},
   "outputs": [],
   "source": [
    "values = getValues()\n",
    "techs = getTechs()\n",
    "tribes = getTribes()"
   ]
  },
  {
   "cell_type": "code",
   "execution_count": null,
   "metadata": {},
   "outputs": [],
   "source": [
    "class GameState:\n",
    "    turn = -1\n",
    "    player = \"\"\n",
    "    game = \"\"\n",
    "    parent_state = None\n",
    "    techs = {}\n",
    "    previous_techs = {}\n",
    "    vars = []\n",
    "    tribe = \"\"\n",
    "    cities = [] # \n",
    "    child_states = [] # GameStates\n",
    "    raw_score = None\n",
    "    full_score = None\n",
    "    model = None\n",
    "    solutions = None\n",
    "\n",
    "    def __init__(self, turn, parent_state=None, previous_tech={}):\n",
    "        self.turn = turn\n",
    "        self.model = cp_model.CpModel()\n",
    "        self.parent_state = parent_sate\n",
    "        self.previous_tech = previous_tech\n",
    "\n",
    "    def computeEndScore(self):\n",
    "        self.\n",
    "\n",
    "    def __repr__(self):\n",
    "        return \"GameState\"\n",
    "    \n",
    "    def __str__(self):\n",
    "        return \"GameState turn %d, player %s\" % (self.turn, self.player, self.game)\n",
    "\n",
    "class Player:\n",
    "    \n",
    "    initialGameState = []\n",
    "\n",
    "    def addScore(self):\n",
    "        if len(initialGameState):\n",
    "            pass\n",
    "        pass\n",
    "\n",
    "    def addTech(self):\n",
    "        pass\n",
    "\n",
    "    def addTribe(self, tribe):\n",
    "        data = getTribe()[tribe]\n",
    "        pass"
   ]
  },
  {
   "cell_type": "code",
   "execution_count": null,
   "metadata": {},
   "outputs": [],
   "source": [
    "g = GameState()\n"
   ]
  },
  {
   "cell_type": "code",
   "execution_count": null,
   "metadata": {
    "tags": []
   },
   "outputs": [],
   "source": [
    "def solve(raw_score, full_score):\n",
    "    model = cp_model.CpModel()\n",
    "    eq_dict, sym_dict = addAllVars(model, values)\n",
    "\n",
    "    buildScoreConstraint(model, eq_dict, full_score, True)\n",
    "    buildScoreConstraint(model, eq_dict, raw_score, False)\n",
    "    model.Add(_SumArray([sym_dict[e] for e in values['units'].keys()]) < 20)\n",
    "\n",
    "\n",
    "    solver = cp_model.CpSolver()\n",
    "    solution_printer = DataFrameSolutionAggregator(sym_dict.values())\n",
    "    status = solver.SearchForAllSolutions(model, solution_printer)\n",
    "    return solution_printer"
   ]
  },
  {
   "cell_type": "code",
   "execution_count": null,
   "metadata": {},
   "outputs": [],
   "source": [
    "# superb_ruin\n",
    "scores = [\n",
    "    ([515, 515], []),\n",
    "    ([565, 565], [440, 440]),\n",
    "    ([590, 600], [450, 450]),\n",
    "    ([855, 635], [700, 460]),\n",
    "    ([1385, 670], [1230, 460]),\n",
    "    ([1860, 1215], [1700, 990]),\n",
    "    ([2230, 1815], [2010, 1530])\n",
    "]"
   ]
  },
  {
   "cell_type": "code",
   "execution_count": null,
   "metadata": {},
   "outputs": [],
   "source": [
    "player_scores = [\n",
    "    [565, 440],\n",
    "    [590, 450],\n",
    "    [855, 700],\n",
    "    [1385, 1230],\n",
    "    [1860, 1700],\n",
    "    [2230, 2010]\n",
    "]"
   ]
  },
  {
   "cell_type": "code",
   "execution_count": null,
   "metadata": {},
   "outputs": [],
   "source": [
    "player_2_scores = [\n",
    "    [565, 440],\n",
    "    [600, 450],\n",
    "    [635, 460],\n",
    "    [670, 460],\n",
    "    [1215, 990],\n",
    "    [1815, 1530]\n",
    "]"
   ]
  },
  {
   "cell_type": "code",
   "execution_count": null,
   "metadata": {},
   "outputs": [],
   "source": [
    "def divide_scores(scores):\n",
    "\n",
    "\n",
    "    return selected_scores + divide_score(scores[1:])"
   ]
  },
  {
   "cell_type": "code",
   "execution_count": null,
   "metadata": {},
   "outputs": [],
   "source": [
    "for i in range(len(player_scores) - 1):\n",
    "    raw_delta = player_scores[i + 1][1] - player_scores[i][1]\n",
    "    full_delta = player_scores[i + 1][0] - player_scores[i][0]\n",
    "    print(full_delta, raw_delta)\n",
    "    # sp = solve(raw_score=raw_delta, full_score=full_delta)\n",
    "    # print(sp.get_data_frame().to_string())"
   ]
  },
  {
   "cell_type": "code",
   "execution_count": null,
   "metadata": {},
   "outputs": [],
   "source": [
    "print(sp.get_data_frame())"
   ]
  },
  {
   "source": [
    "# Equations: \n",
    "\n",
    "full score = score(units) + score(tech) + score(city) + score(vision)\n",
    "\n",
    "raw score =  score(units) + score(tech) + score(city)\n",
    "\n",
    "'remaining stars + spt + extra stars = stars(units) + stars(tech) + star(building)'"
   ],
   "cell_type": "markdown",
   "metadata": {}
  },
  {
   "cell_type": "code",
   "execution_count": 1,
   "metadata": {},
   "outputs": [
    {
     "output_type": "error",
     "ename": "TypeError",
     "evalue": "Search for all solutions is only defined on satisfiability problems",
     "traceback": [
      "\u001b[0;31m---------------------------------------------------------------------------\u001b[0m",
      "\u001b[0;31mTypeError\u001b[0m                                 Traceback (most recent call last)",
      "\u001b[0;32m<ipython-input-1-36ed98ab79dd>\u001b[0m in \u001b[0;36m<module>\u001b[0;34m\u001b[0m\n\u001b[1;32m     57\u001b[0m \u001b[0moutput_variables\u001b[0m \u001b[0;34m=\u001b[0m \u001b[0mlist\u001b[0m\u001b[0;34m(\u001b[0m\u001b[0;34m[\u001b[0m\u001b[0mh\u001b[0m \u001b[0;32mfor\u001b[0m \u001b[0mb\u001b[0m\u001b[0;34m,\u001b[0m \u001b[0mj\u001b[0m \u001b[0;32min\u001b[0m \u001b[0mdictionnaries\u001b[0m\u001b[0;34m.\u001b[0m\u001b[0mitems\u001b[0m\u001b[0;34m(\u001b[0m\u001b[0;34m)\u001b[0m \u001b[0;32mfor\u001b[0m \u001b[0ma\u001b[0m\u001b[0;34m,\u001b[0m\u001b[0mi\u001b[0m \u001b[0;32min\u001b[0m \u001b[0mj\u001b[0m\u001b[0;34m.\u001b[0m\u001b[0mitems\u001b[0m\u001b[0;34m(\u001b[0m\u001b[0;34m)\u001b[0m \u001b[0;32mfor\u001b[0m \u001b[0mh\u001b[0m \u001b[0;32min\u001b[0m \u001b[0mi\u001b[0m\u001b[0;34m.\u001b[0m\u001b[0mvalues\u001b[0m\u001b[0;34m(\u001b[0m\u001b[0;34m)\u001b[0m \u001b[0;32mif\u001b[0m \u001b[0ma\u001b[0m \u001b[0;34m!=\u001b[0m \u001b[0;34m\"equations\"\u001b[0m\u001b[0;34m]\u001b[0m\u001b[0;34m)\u001b[0m\u001b[0;34m\u001b[0m\u001b[0;34m\u001b[0m\u001b[0m\n\u001b[1;32m     58\u001b[0m \u001b[0msolution_printer\u001b[0m \u001b[0;34m=\u001b[0m \u001b[0mDataFrameSolutionAggregator\u001b[0m\u001b[0;34m(\u001b[0m\u001b[0moutput_variables\u001b[0m\u001b[0;34m)\u001b[0m\u001b[0;34m\u001b[0m\u001b[0;34m\u001b[0m\u001b[0m\n\u001b[0;32m---> 59\u001b[0;31m \u001b[0mstatus\u001b[0m \u001b[0;34m=\u001b[0m \u001b[0msolver\u001b[0m\u001b[0;34m.\u001b[0m\u001b[0mSearchForAllSolutions\u001b[0m\u001b[0;34m(\u001b[0m\u001b[0mmodel\u001b[0m\u001b[0;34m,\u001b[0m \u001b[0msolution_printer\u001b[0m\u001b[0;34m)\u001b[0m\u001b[0;34m\u001b[0m\u001b[0;34m\u001b[0m\u001b[0m\n\u001b[0m\u001b[1;32m     60\u001b[0m \u001b[0mprint\u001b[0m\u001b[0;34m(\u001b[0m\u001b[0;34m'Solve status: %s'\u001b[0m \u001b[0;34m%\u001b[0m \u001b[0msolver\u001b[0m\u001b[0;34m.\u001b[0m\u001b[0mStatusName\u001b[0m\u001b[0;34m(\u001b[0m\u001b[0mstatus\u001b[0m\u001b[0;34m)\u001b[0m\u001b[0;34m)\u001b[0m\u001b[0;34m\u001b[0m\u001b[0;34m\u001b[0m\u001b[0m\n",
      "\u001b[0;32m/usr/local/anaconda3/lib/python3.7/site-packages/ortools/sat/python/cp_model.py\u001b[0m in \u001b[0;36mSearchForAllSolutions\u001b[0;34m(self, model, callback)\u001b[0m\n\u001b[1;32m   1619\u001b[0m     \"\"\"\n\u001b[1;32m   1620\u001b[0m         \u001b[0;32mif\u001b[0m \u001b[0mmodel\u001b[0m\u001b[0;34m.\u001b[0m\u001b[0mHasObjective\u001b[0m\u001b[0;34m(\u001b[0m\u001b[0;34m)\u001b[0m\u001b[0;34m:\u001b[0m\u001b[0;34m\u001b[0m\u001b[0;34m\u001b[0m\u001b[0m\n\u001b[0;32m-> 1621\u001b[0;31m             raise TypeError('Search for all solutions is only defined on '\n\u001b[0m\u001b[1;32m   1622\u001b[0m                             'satisfiability problems')\n\u001b[1;32m   1623\u001b[0m         \u001b[0;31m# Store old values.\u001b[0m\u001b[0;34m\u001b[0m\u001b[0;34m\u001b[0m\u001b[0;34m\u001b[0m\u001b[0m\n",
      "\u001b[0;31mTypeError\u001b[0m: Search for all solutions is only defined on satisfiability problems"
     ]
    }
   ],
   "source": [
    "from utils import * \n",
    "model = cp_model.CpModel()\n",
    "\n",
    "past_turn = None\n",
    "dictionnaries = {}\n",
    "scores = {\n",
    "    \"start\": [515, 390],\n",
    "    \"t0\": [565, 440],\n",
    "    \"t1\": [600, 450],\n",
    "    \"t2\": [635, 460],\n",
    "    \"t3\": [670, 460],\n",
    "    \"t4\": [1215, 990],\n",
    "    \"t5\": [1815, 1530]\n",
    "}\n",
    "\n",
    "for turn in [\"start\", \"t0\"]:#, \"t1\", \"t2\"]:\n",
    "    dictionnaries[turn] = buildDictionnaries(model, turn)\n",
    "    full_score = scores[turn][0] \n",
    "    raw_score = scores[turn][1]\n",
    "\n",
    "    buildAllConstraints(model, turn, dictionnaries)\n",
    "\n",
    "    setRawScore(model, turn, dictionnaries[turn]['scores'], raw_score)\n",
    "    #setDeltaRawScore(model, score_dict, delta_raw_score)\n",
    "    setFullScore(model, turn, dictionnaries[turn]['scores'], full_score)\n",
    "    #setDeltaFullScore(model, score_dict, delta_full_score)\n",
    "    setTribe(model, turn, \"Bardur\", dictionnaries[turn]['tribes'])\n",
    "\n",
    "    linkTurns(model, turn, dictionnaries)\n",
    "    addInitialState(model, turn, dictionnaries)\n",
    "    past_turn = turn\n",
    "\n",
    "# model.Add(dictionnaries[\"start\"]['symbols'][\"start_monument\"] == 0)\n",
    "# model.Add(dictionnaries[\"start\"]['city'][\"start_level-2_count\"] == 0)\n",
    "# model.Add(dictionnaries[\"start\"]['city'][\"start_level-5_count\"] == 0)\n",
    "# model.Add(dictionnaries[\"t0\"]['symbols'][\"t0_level-1\"] == 1)\n",
    "# model.Add(dictionnaries[\"t0\"]['symbols'][\"t0_level-2\"] == 1)\n",
    "# model.Add(dictionnaries[\"t0\"]['symbols'][\"t0_level-3\"] == 0)\n",
    "# model.Add(dictionnaries[\"t0\"]['city'][\"t0_level-1_count\"] == 0)\n",
    "# model.Add(dictionnaries[\"t0\"]['city'][\"t0_level-2_count\"] == 1)\n",
    "# model.Add(dictionnaries[\"t0\"]['city'][\"t0_level-3_count\"] == 0)\n",
    "# model.Add(dictionnaries[\"t0\"]['city'][\"t0_level-4_count\"] == 0)\n",
    "# model.Add(dictionnaries[\"t0\"]['city'][\"t0_level-5_count\"] == 0)\n",
    "\n",
    "# model.Add(dictionnaries[\"t0\"]['symbols'][\"t0_population\"] == 2)\n",
    "# model.Add(dictionnaries[\"t0\"]['symbols'][\"t0_claimed\"] == 9)\n",
    "# model.Add(dictionnaries[\"t0\"]['symbols'][\"t0_tier-1\"] == 1)\n",
    "# model.Add(dictionnaries[\"t0\"]['symbols'][\"t0_tier-2\"] == 0)\n",
    "# model.Add(dictionnaries[\"t0\"]['symbols'][\"t0_monument\"] == 0)\n",
    "# model.Add(dictionnaries[\"t0\"]['symbols'][\"t0_giant\"] == 0)\n",
    "# model.Add(dictionnaries[\"t0\"]['symbols'][\"t0_warrior\"] == 1)\n",
    "# model.Add(dictionnaries[\"t0\"]['symbols'][\"t0_explorer\"] == 0)\n",
    "\n",
    "# setObjective(model, turn, dictionnaries)\n",
    "\n",
    "solver = cp_model.CpSolver()\n",
    "output_variables = list([h for b, j in dictionnaries.items() for a,i in j.items() for h in i.values() if a != \"equations\"])\n",
    "solution_printer = DataFrameSolutionAggregator(output_variables)\n",
    "status = solver.SearchForAllSolutions(model, solution_printer)\n",
    "print('Solve status: %s' % solver.StatusName(status))"
   ]
  },
  {
   "cell_type": "code",
   "execution_count": 2,
   "metadata": {},
   "outputs": [
    {
     "output_type": "execute_result",
     "data": {
      "text/plain": [
       "    start_warrior  start_level-1  start_tier-1  start_claimed  start_revealed  \\\n",
       "0               1              1             1              9              25   \n",
       "1               1              1             1              9              25   \n",
       "2               1              1             1              9              25   \n",
       "3               1              1             1              9              25   \n",
       "4               1              1             1              9              25   \n",
       "5               1              1             1              9              25   \n",
       "6               1              1             1              9              25   \n",
       "7               1              1             1              9              25   \n",
       "8               1              1             1              9              25   \n",
       "9               1              1             1              9              25   \n",
       "10              1              1             1              9              25   \n",
       "11              1              1             1              9              25   \n",
       "12              1              1             1              9              25   \n",
       "13              1              1             1              9              25   \n",
       "14              1              1             1              9              25   \n",
       "15              1              1             1              9              25   \n",
       "16              1              1             1              9              25   \n",
       "17              1              1             1              9              25   \n",
       "18              1              1             1              9              25   \n",
       "19              1              1             1              9              25   \n",
       "20              1              1             1              9              25   \n",
       "21              1              1             1              9              25   \n",
       "22              1              1             1              9              25   \n",
       "23              1              1             1              9              25   \n",
       "24              1              1             1              9              25   \n",
       "25              1              1             1              9              25   \n",
       "26              1              1             1              9              25   \n",
       "27              1              1             1              9              25   \n",
       "28              1              1             1              9              25   \n",
       "29              1              1             1              9              25   \n",
       "30              1              1             1              9              25   \n",
       "31              1              1             1              9              25   \n",
       "32              1              1             1              9              25   \n",
       "33              1              1             1              9              25   \n",
       "34              1              1             1              9              25   \n",
       "35              1              1             1              9              25   \n",
       "36              1              1             1              9              25   \n",
       "37              1              1             1              9              25   \n",
       "38              1              1             1              9              25   \n",
       "39              1              1             1              9              25   \n",
       "40              1              1             1              9              25   \n",
       "\n",
       "    start_hunting  start_Bardur  start_raw_score  start_full_score  \\\n",
       "0               1             1              390               515   \n",
       "1               1             1              390               515   \n",
       "2               1             1              390               515   \n",
       "3               1             1              390               515   \n",
       "4               1             1              390               515   \n",
       "5               1             1              390               515   \n",
       "6               1             1              390               515   \n",
       "7               1             1              390               515   \n",
       "8               1             1              390               515   \n",
       "9               1             1              390               515   \n",
       "10              1             1              390               515   \n",
       "11              1             1              390               515   \n",
       "12              1             1              390               515   \n",
       "13              1             1              390               515   \n",
       "14              1             1              390               515   \n",
       "15              1             1              390               515   \n",
       "16              1             1              390               515   \n",
       "17              1             1              390               515   \n",
       "18              1             1              390               515   \n",
       "19              1             1              390               515   \n",
       "20              1             1              390               515   \n",
       "21              1             1              390               515   \n",
       "22              1             1              390               515   \n",
       "23              1             1              390               515   \n",
       "24              1             1              390               515   \n",
       "25              1             1              390               515   \n",
       "26              1             1              390               515   \n",
       "27              1             1              390               515   \n",
       "28              1             1              390               515   \n",
       "29              1             1              390               515   \n",
       "30              1             1              390               515   \n",
       "31              1             1              390               515   \n",
       "32              1             1              390               515   \n",
       "33              1             1              390               515   \n",
       "34              1             1              390               515   \n",
       "35              1             1              390               515   \n",
       "36              1             1              390               515   \n",
       "37              1             1              390               515   \n",
       "38              1             1              390               515   \n",
       "39              1             1              390               515   \n",
       "40              1             1              390               515   \n",
       "\n",
       "    start_ruin  ...  t0_claimed_cst  t0_hunting  t0_Bardur  t0_raw_score  \\\n",
       "0            0  ...               1           1          1           440   \n",
       "1            0  ...               1           1          1           440   \n",
       "2            0  ...               1           1          1           440   \n",
       "3            0  ...               1           1          1           440   \n",
       "4            0  ...               1           1          1           440   \n",
       "5            0  ...               1           1          1           440   \n",
       "6            0  ...               1           1          1           440   \n",
       "7            0  ...               1           1          1           440   \n",
       "8            0  ...               1           1          1           440   \n",
       "9            0  ...               1           1          1           440   \n",
       "10           0  ...               1           1          1           440   \n",
       "11           0  ...               1           1          1           440   \n",
       "12           0  ...               1           1          1           440   \n",
       "13           0  ...               1           1          1           440   \n",
       "14           0  ...               1           1          1           440   \n",
       "15           0  ...               1           1          1           440   \n",
       "16           0  ...               1           1          1           440   \n",
       "17           0  ...               1           1          1           440   \n",
       "18           0  ...               1           1          1           440   \n",
       "19           0  ...               1           1          1           440   \n",
       "20           0  ...               1           1          1           440   \n",
       "21           1  ...               1           1          1           440   \n",
       "22           1  ...               1           1          1           440   \n",
       "23           1  ...               1           1          1           440   \n",
       "24           1  ...               1           1          1           440   \n",
       "25           1  ...               1           1          1           440   \n",
       "26           1  ...               1           1          1           440   \n",
       "27           1  ...               1           1          1           440   \n",
       "28           1  ...               1           1          1           440   \n",
       "29           1  ...               1           1          1           440   \n",
       "30           1  ...               1           1          1           440   \n",
       "31           1  ...               1           1          1           440   \n",
       "32           1  ...               1           1          1           440   \n",
       "33           1  ...               1           1          1           440   \n",
       "34           1  ...               1           1          1           440   \n",
       "35           1  ...               1           1          1           440   \n",
       "36           1  ...               1           1          1           440   \n",
       "37           1  ...               1           1          1           440   \n",
       "38           1  ...               1           1          1           440   \n",
       "39           1  ...               1           1          1           440   \n",
       "40           1  ...               1           1          1           440   \n",
       "\n",
       "    t0_full_score  t0_ruin  t0_ruin_tech  t0_ruin_stars  t0_level-2_spt  \\\n",
       "0             565        0             0              0               1   \n",
       "1             565        1             0              1               1   \n",
       "2             565        2             0              2               1   \n",
       "3             565        3             0              3               1   \n",
       "4             565        4             0              4               1   \n",
       "5             565        5             0              5               1   \n",
       "6             565        6             0              6               1   \n",
       "7             565        7             0              7               1   \n",
       "8             565        8             0              8               1   \n",
       "9             565        9             0              9               1   \n",
       "10            565       10             0             10               1   \n",
       "11            565       11             0             11               1   \n",
       "12            565       12             0             12               1   \n",
       "13            565       13             0             13               1   \n",
       "14            565       14             0             14               1   \n",
       "15            565       15             0             15               1   \n",
       "16            565       16             0             16               1   \n",
       "17            565       17             0             17               1   \n",
       "18            565       18             0             18               1   \n",
       "19            565       19             0             19               1   \n",
       "20            565       20             0             20               1   \n",
       "21            565       20             1             19               1   \n",
       "22            565       19             1             18               1   \n",
       "23            565       18             1             17               1   \n",
       "24            565       17             1             16               1   \n",
       "25            565       16             1             15               1   \n",
       "26            565       15             1             14               1   \n",
       "27            565       14             1             13               1   \n",
       "28            565       13             1             12               1   \n",
       "29            565       12             1             11               1   \n",
       "30            565       11             1             10               1   \n",
       "31            565       10             1              9               1   \n",
       "32            565        9             1              8               1   \n",
       "33            565        8             1              7               1   \n",
       "34            565        7             1              6               1   \n",
       "35            565        6             1              5               1   \n",
       "36            565        5             1              4               1   \n",
       "37            565        4             1              3               1   \n",
       "38            565        3             1              2               1   \n",
       "39            565        2             1              1               1   \n",
       "40            565        1             1              0               1   \n",
       "\n",
       "    t0_level-2_count  \n",
       "0                  1  \n",
       "1                  1  \n",
       "2                  1  \n",
       "3                  1  \n",
       "4                  1  \n",
       "5                  1  \n",
       "6                  1  \n",
       "7                  1  \n",
       "8                  1  \n",
       "9                  1  \n",
       "10                 1  \n",
       "11                 1  \n",
       "12                 1  \n",
       "13                 1  \n",
       "14                 1  \n",
       "15                 1  \n",
       "16                 1  \n",
       "17                 1  \n",
       "18                 1  \n",
       "19                 1  \n",
       "20                 1  \n",
       "21                 1  \n",
       "22                 1  \n",
       "23                 1  \n",
       "24                 1  \n",
       "25                 1  \n",
       "26                 1  \n",
       "27                 1  \n",
       "28                 1  \n",
       "29                 1  \n",
       "30                 1  \n",
       "31                 1  \n",
       "32                 1  \n",
       "33                 1  \n",
       "34                 1  \n",
       "35                 1  \n",
       "36                 1  \n",
       "37                 1  \n",
       "38                 1  \n",
       "39                 1  \n",
       "40                 1  \n",
       "\n",
       "[41 rows x 28 columns]"
      ],
      "text/html": "<div>\n<style scoped>\n    .dataframe tbody tr th:only-of-type {\n        vertical-align: middle;\n    }\n\n    .dataframe tbody tr th {\n        vertical-align: top;\n    }\n\n    .dataframe thead th {\n        text-align: right;\n    }\n</style>\n<table border=\"1\" class=\"dataframe\">\n  <thead>\n    <tr style=\"text-align: right;\">\n      <th></th>\n      <th>start_warrior</th>\n      <th>start_level-1</th>\n      <th>start_tier-1</th>\n      <th>start_claimed</th>\n      <th>start_revealed</th>\n      <th>start_hunting</th>\n      <th>start_Bardur</th>\n      <th>start_raw_score</th>\n      <th>start_full_score</th>\n      <th>start_ruin</th>\n      <th>...</th>\n      <th>t0_claimed_cst</th>\n      <th>t0_hunting</th>\n      <th>t0_Bardur</th>\n      <th>t0_raw_score</th>\n      <th>t0_full_score</th>\n      <th>t0_ruin</th>\n      <th>t0_ruin_tech</th>\n      <th>t0_ruin_stars</th>\n      <th>t0_level-2_spt</th>\n      <th>t0_level-2_count</th>\n    </tr>\n  </thead>\n  <tbody>\n    <tr>\n      <th>0</th>\n      <td>1</td>\n      <td>1</td>\n      <td>1</td>\n      <td>9</td>\n      <td>25</td>\n      <td>1</td>\n      <td>1</td>\n      <td>390</td>\n      <td>515</td>\n      <td>0</td>\n      <td>...</td>\n      <td>1</td>\n      <td>1</td>\n      <td>1</td>\n      <td>440</td>\n      <td>565</td>\n      <td>0</td>\n      <td>0</td>\n      <td>0</td>\n      <td>1</td>\n      <td>1</td>\n    </tr>\n    <tr>\n      <th>1</th>\n      <td>1</td>\n      <td>1</td>\n      <td>1</td>\n      <td>9</td>\n      <td>25</td>\n      <td>1</td>\n      <td>1</td>\n      <td>390</td>\n      <td>515</td>\n      <td>0</td>\n      <td>...</td>\n      <td>1</td>\n      <td>1</td>\n      <td>1</td>\n      <td>440</td>\n      <td>565</td>\n      <td>1</td>\n      <td>0</td>\n      <td>1</td>\n      <td>1</td>\n      <td>1</td>\n    </tr>\n    <tr>\n      <th>2</th>\n      <td>1</td>\n      <td>1</td>\n      <td>1</td>\n      <td>9</td>\n      <td>25</td>\n      <td>1</td>\n      <td>1</td>\n      <td>390</td>\n      <td>515</td>\n      <td>0</td>\n      <td>...</td>\n      <td>1</td>\n      <td>1</td>\n      <td>1</td>\n      <td>440</td>\n      <td>565</td>\n      <td>2</td>\n      <td>0</td>\n      <td>2</td>\n      <td>1</td>\n      <td>1</td>\n    </tr>\n    <tr>\n      <th>3</th>\n      <td>1</td>\n      <td>1</td>\n      <td>1</td>\n      <td>9</td>\n      <td>25</td>\n      <td>1</td>\n      <td>1</td>\n      <td>390</td>\n      <td>515</td>\n      <td>0</td>\n      <td>...</td>\n      <td>1</td>\n      <td>1</td>\n      <td>1</td>\n      <td>440</td>\n      <td>565</td>\n      <td>3</td>\n      <td>0</td>\n      <td>3</td>\n      <td>1</td>\n      <td>1</td>\n    </tr>\n    <tr>\n      <th>4</th>\n      <td>1</td>\n      <td>1</td>\n      <td>1</td>\n      <td>9</td>\n      <td>25</td>\n      <td>1</td>\n      <td>1</td>\n      <td>390</td>\n      <td>515</td>\n      <td>0</td>\n      <td>...</td>\n      <td>1</td>\n      <td>1</td>\n      <td>1</td>\n      <td>440</td>\n      <td>565</td>\n      <td>4</td>\n      <td>0</td>\n      <td>4</td>\n      <td>1</td>\n      <td>1</td>\n    </tr>\n    <tr>\n      <th>5</th>\n      <td>1</td>\n      <td>1</td>\n      <td>1</td>\n      <td>9</td>\n      <td>25</td>\n      <td>1</td>\n      <td>1</td>\n      <td>390</td>\n      <td>515</td>\n      <td>0</td>\n      <td>...</td>\n      <td>1</td>\n      <td>1</td>\n      <td>1</td>\n      <td>440</td>\n      <td>565</td>\n      <td>5</td>\n      <td>0</td>\n      <td>5</td>\n      <td>1</td>\n      <td>1</td>\n    </tr>\n    <tr>\n      <th>6</th>\n      <td>1</td>\n      <td>1</td>\n      <td>1</td>\n      <td>9</td>\n      <td>25</td>\n      <td>1</td>\n      <td>1</td>\n      <td>390</td>\n      <td>515</td>\n      <td>0</td>\n      <td>...</td>\n      <td>1</td>\n      <td>1</td>\n      <td>1</td>\n      <td>440</td>\n      <td>565</td>\n      <td>6</td>\n      <td>0</td>\n      <td>6</td>\n      <td>1</td>\n      <td>1</td>\n    </tr>\n    <tr>\n      <th>7</th>\n      <td>1</td>\n      <td>1</td>\n      <td>1</td>\n      <td>9</td>\n      <td>25</td>\n      <td>1</td>\n      <td>1</td>\n      <td>390</td>\n      <td>515</td>\n      <td>0</td>\n      <td>...</td>\n      <td>1</td>\n      <td>1</td>\n      <td>1</td>\n      <td>440</td>\n      <td>565</td>\n      <td>7</td>\n      <td>0</td>\n      <td>7</td>\n      <td>1</td>\n      <td>1</td>\n    </tr>\n    <tr>\n      <th>8</th>\n      <td>1</td>\n      <td>1</td>\n      <td>1</td>\n      <td>9</td>\n      <td>25</td>\n      <td>1</td>\n      <td>1</td>\n      <td>390</td>\n      <td>515</td>\n      <td>0</td>\n      <td>...</td>\n      <td>1</td>\n      <td>1</td>\n      <td>1</td>\n      <td>440</td>\n      <td>565</td>\n      <td>8</td>\n      <td>0</td>\n      <td>8</td>\n      <td>1</td>\n      <td>1</td>\n    </tr>\n    <tr>\n      <th>9</th>\n      <td>1</td>\n      <td>1</td>\n      <td>1</td>\n      <td>9</td>\n      <td>25</td>\n      <td>1</td>\n      <td>1</td>\n      <td>390</td>\n      <td>515</td>\n      <td>0</td>\n      <td>...</td>\n      <td>1</td>\n      <td>1</td>\n      <td>1</td>\n      <td>440</td>\n      <td>565</td>\n      <td>9</td>\n      <td>0</td>\n      <td>9</td>\n      <td>1</td>\n      <td>1</td>\n    </tr>\n    <tr>\n      <th>10</th>\n      <td>1</td>\n      <td>1</td>\n      <td>1</td>\n      <td>9</td>\n      <td>25</td>\n      <td>1</td>\n      <td>1</td>\n      <td>390</td>\n      <td>515</td>\n      <td>0</td>\n      <td>...</td>\n      <td>1</td>\n      <td>1</td>\n      <td>1</td>\n      <td>440</td>\n      <td>565</td>\n      <td>10</td>\n      <td>0</td>\n      <td>10</td>\n      <td>1</td>\n      <td>1</td>\n    </tr>\n    <tr>\n      <th>11</th>\n      <td>1</td>\n      <td>1</td>\n      <td>1</td>\n      <td>9</td>\n      <td>25</td>\n      <td>1</td>\n      <td>1</td>\n      <td>390</td>\n      <td>515</td>\n      <td>0</td>\n      <td>...</td>\n      <td>1</td>\n      <td>1</td>\n      <td>1</td>\n      <td>440</td>\n      <td>565</td>\n      <td>11</td>\n      <td>0</td>\n      <td>11</td>\n      <td>1</td>\n      <td>1</td>\n    </tr>\n    <tr>\n      <th>12</th>\n      <td>1</td>\n      <td>1</td>\n      <td>1</td>\n      <td>9</td>\n      <td>25</td>\n      <td>1</td>\n      <td>1</td>\n      <td>390</td>\n      <td>515</td>\n      <td>0</td>\n      <td>...</td>\n      <td>1</td>\n      <td>1</td>\n      <td>1</td>\n      <td>440</td>\n      <td>565</td>\n      <td>12</td>\n      <td>0</td>\n      <td>12</td>\n      <td>1</td>\n      <td>1</td>\n    </tr>\n    <tr>\n      <th>13</th>\n      <td>1</td>\n      <td>1</td>\n      <td>1</td>\n      <td>9</td>\n      <td>25</td>\n      <td>1</td>\n      <td>1</td>\n      <td>390</td>\n      <td>515</td>\n      <td>0</td>\n      <td>...</td>\n      <td>1</td>\n      <td>1</td>\n      <td>1</td>\n      <td>440</td>\n      <td>565</td>\n      <td>13</td>\n      <td>0</td>\n      <td>13</td>\n      <td>1</td>\n      <td>1</td>\n    </tr>\n    <tr>\n      <th>14</th>\n      <td>1</td>\n      <td>1</td>\n      <td>1</td>\n      <td>9</td>\n      <td>25</td>\n      <td>1</td>\n      <td>1</td>\n      <td>390</td>\n      <td>515</td>\n      <td>0</td>\n      <td>...</td>\n      <td>1</td>\n      <td>1</td>\n      <td>1</td>\n      <td>440</td>\n      <td>565</td>\n      <td>14</td>\n      <td>0</td>\n      <td>14</td>\n      <td>1</td>\n      <td>1</td>\n    </tr>\n    <tr>\n      <th>15</th>\n      <td>1</td>\n      <td>1</td>\n      <td>1</td>\n      <td>9</td>\n      <td>25</td>\n      <td>1</td>\n      <td>1</td>\n      <td>390</td>\n      <td>515</td>\n      <td>0</td>\n      <td>...</td>\n      <td>1</td>\n      <td>1</td>\n      <td>1</td>\n      <td>440</td>\n      <td>565</td>\n      <td>15</td>\n      <td>0</td>\n      <td>15</td>\n      <td>1</td>\n      <td>1</td>\n    </tr>\n    <tr>\n      <th>16</th>\n      <td>1</td>\n      <td>1</td>\n      <td>1</td>\n      <td>9</td>\n      <td>25</td>\n      <td>1</td>\n      <td>1</td>\n      <td>390</td>\n      <td>515</td>\n      <td>0</td>\n      <td>...</td>\n      <td>1</td>\n      <td>1</td>\n      <td>1</td>\n      <td>440</td>\n      <td>565</td>\n      <td>16</td>\n      <td>0</td>\n      <td>16</td>\n      <td>1</td>\n      <td>1</td>\n    </tr>\n    <tr>\n      <th>17</th>\n      <td>1</td>\n      <td>1</td>\n      <td>1</td>\n      <td>9</td>\n      <td>25</td>\n      <td>1</td>\n      <td>1</td>\n      <td>390</td>\n      <td>515</td>\n      <td>0</td>\n      <td>...</td>\n      <td>1</td>\n      <td>1</td>\n      <td>1</td>\n      <td>440</td>\n      <td>565</td>\n      <td>17</td>\n      <td>0</td>\n      <td>17</td>\n      <td>1</td>\n      <td>1</td>\n    </tr>\n    <tr>\n      <th>18</th>\n      <td>1</td>\n      <td>1</td>\n      <td>1</td>\n      <td>9</td>\n      <td>25</td>\n      <td>1</td>\n      <td>1</td>\n      <td>390</td>\n      <td>515</td>\n      <td>0</td>\n      <td>...</td>\n      <td>1</td>\n      <td>1</td>\n      <td>1</td>\n      <td>440</td>\n      <td>565</td>\n      <td>18</td>\n      <td>0</td>\n      <td>18</td>\n      <td>1</td>\n      <td>1</td>\n    </tr>\n    <tr>\n      <th>19</th>\n      <td>1</td>\n      <td>1</td>\n      <td>1</td>\n      <td>9</td>\n      <td>25</td>\n      <td>1</td>\n      <td>1</td>\n      <td>390</td>\n      <td>515</td>\n      <td>0</td>\n      <td>...</td>\n      <td>1</td>\n      <td>1</td>\n      <td>1</td>\n      <td>440</td>\n      <td>565</td>\n      <td>19</td>\n      <td>0</td>\n      <td>19</td>\n      <td>1</td>\n      <td>1</td>\n    </tr>\n    <tr>\n      <th>20</th>\n      <td>1</td>\n      <td>1</td>\n      <td>1</td>\n      <td>9</td>\n      <td>25</td>\n      <td>1</td>\n      <td>1</td>\n      <td>390</td>\n      <td>515</td>\n      <td>0</td>\n      <td>...</td>\n      <td>1</td>\n      <td>1</td>\n      <td>1</td>\n      <td>440</td>\n      <td>565</td>\n      <td>20</td>\n      <td>0</td>\n      <td>20</td>\n      <td>1</td>\n      <td>1</td>\n    </tr>\n    <tr>\n      <th>21</th>\n      <td>1</td>\n      <td>1</td>\n      <td>1</td>\n      <td>9</td>\n      <td>25</td>\n      <td>1</td>\n      <td>1</td>\n      <td>390</td>\n      <td>515</td>\n      <td>1</td>\n      <td>...</td>\n      <td>1</td>\n      <td>1</td>\n      <td>1</td>\n      <td>440</td>\n      <td>565</td>\n      <td>20</td>\n      <td>1</td>\n      <td>19</td>\n      <td>1</td>\n      <td>1</td>\n    </tr>\n    <tr>\n      <th>22</th>\n      <td>1</td>\n      <td>1</td>\n      <td>1</td>\n      <td>9</td>\n      <td>25</td>\n      <td>1</td>\n      <td>1</td>\n      <td>390</td>\n      <td>515</td>\n      <td>1</td>\n      <td>...</td>\n      <td>1</td>\n      <td>1</td>\n      <td>1</td>\n      <td>440</td>\n      <td>565</td>\n      <td>19</td>\n      <td>1</td>\n      <td>18</td>\n      <td>1</td>\n      <td>1</td>\n    </tr>\n    <tr>\n      <th>23</th>\n      <td>1</td>\n      <td>1</td>\n      <td>1</td>\n      <td>9</td>\n      <td>25</td>\n      <td>1</td>\n      <td>1</td>\n      <td>390</td>\n      <td>515</td>\n      <td>1</td>\n      <td>...</td>\n      <td>1</td>\n      <td>1</td>\n      <td>1</td>\n      <td>440</td>\n      <td>565</td>\n      <td>18</td>\n      <td>1</td>\n      <td>17</td>\n      <td>1</td>\n      <td>1</td>\n    </tr>\n    <tr>\n      <th>24</th>\n      <td>1</td>\n      <td>1</td>\n      <td>1</td>\n      <td>9</td>\n      <td>25</td>\n      <td>1</td>\n      <td>1</td>\n      <td>390</td>\n      <td>515</td>\n      <td>1</td>\n      <td>...</td>\n      <td>1</td>\n      <td>1</td>\n      <td>1</td>\n      <td>440</td>\n      <td>565</td>\n      <td>17</td>\n      <td>1</td>\n      <td>16</td>\n      <td>1</td>\n      <td>1</td>\n    </tr>\n    <tr>\n      <th>25</th>\n      <td>1</td>\n      <td>1</td>\n      <td>1</td>\n      <td>9</td>\n      <td>25</td>\n      <td>1</td>\n      <td>1</td>\n      <td>390</td>\n      <td>515</td>\n      <td>1</td>\n      <td>...</td>\n      <td>1</td>\n      <td>1</td>\n      <td>1</td>\n      <td>440</td>\n      <td>565</td>\n      <td>16</td>\n      <td>1</td>\n      <td>15</td>\n      <td>1</td>\n      <td>1</td>\n    </tr>\n    <tr>\n      <th>26</th>\n      <td>1</td>\n      <td>1</td>\n      <td>1</td>\n      <td>9</td>\n      <td>25</td>\n      <td>1</td>\n      <td>1</td>\n      <td>390</td>\n      <td>515</td>\n      <td>1</td>\n      <td>...</td>\n      <td>1</td>\n      <td>1</td>\n      <td>1</td>\n      <td>440</td>\n      <td>565</td>\n      <td>15</td>\n      <td>1</td>\n      <td>14</td>\n      <td>1</td>\n      <td>1</td>\n    </tr>\n    <tr>\n      <th>27</th>\n      <td>1</td>\n      <td>1</td>\n      <td>1</td>\n      <td>9</td>\n      <td>25</td>\n      <td>1</td>\n      <td>1</td>\n      <td>390</td>\n      <td>515</td>\n      <td>1</td>\n      <td>...</td>\n      <td>1</td>\n      <td>1</td>\n      <td>1</td>\n      <td>440</td>\n      <td>565</td>\n      <td>14</td>\n      <td>1</td>\n      <td>13</td>\n      <td>1</td>\n      <td>1</td>\n    </tr>\n    <tr>\n      <th>28</th>\n      <td>1</td>\n      <td>1</td>\n      <td>1</td>\n      <td>9</td>\n      <td>25</td>\n      <td>1</td>\n      <td>1</td>\n      <td>390</td>\n      <td>515</td>\n      <td>1</td>\n      <td>...</td>\n      <td>1</td>\n      <td>1</td>\n      <td>1</td>\n      <td>440</td>\n      <td>565</td>\n      <td>13</td>\n      <td>1</td>\n      <td>12</td>\n      <td>1</td>\n      <td>1</td>\n    </tr>\n    <tr>\n      <th>29</th>\n      <td>1</td>\n      <td>1</td>\n      <td>1</td>\n      <td>9</td>\n      <td>25</td>\n      <td>1</td>\n      <td>1</td>\n      <td>390</td>\n      <td>515</td>\n      <td>1</td>\n      <td>...</td>\n      <td>1</td>\n      <td>1</td>\n      <td>1</td>\n      <td>440</td>\n      <td>565</td>\n      <td>12</td>\n      <td>1</td>\n      <td>11</td>\n      <td>1</td>\n      <td>1</td>\n    </tr>\n    <tr>\n      <th>30</th>\n      <td>1</td>\n      <td>1</td>\n      <td>1</td>\n      <td>9</td>\n      <td>25</td>\n      <td>1</td>\n      <td>1</td>\n      <td>390</td>\n      <td>515</td>\n      <td>1</td>\n      <td>...</td>\n      <td>1</td>\n      <td>1</td>\n      <td>1</td>\n      <td>440</td>\n      <td>565</td>\n      <td>11</td>\n      <td>1</td>\n      <td>10</td>\n      <td>1</td>\n      <td>1</td>\n    </tr>\n    <tr>\n      <th>31</th>\n      <td>1</td>\n      <td>1</td>\n      <td>1</td>\n      <td>9</td>\n      <td>25</td>\n      <td>1</td>\n      <td>1</td>\n      <td>390</td>\n      <td>515</td>\n      <td>1</td>\n      <td>...</td>\n      <td>1</td>\n      <td>1</td>\n      <td>1</td>\n      <td>440</td>\n      <td>565</td>\n      <td>10</td>\n      <td>1</td>\n      <td>9</td>\n      <td>1</td>\n      <td>1</td>\n    </tr>\n    <tr>\n      <th>32</th>\n      <td>1</td>\n      <td>1</td>\n      <td>1</td>\n      <td>9</td>\n      <td>25</td>\n      <td>1</td>\n      <td>1</td>\n      <td>390</td>\n      <td>515</td>\n      <td>1</td>\n      <td>...</td>\n      <td>1</td>\n      <td>1</td>\n      <td>1</td>\n      <td>440</td>\n      <td>565</td>\n      <td>9</td>\n      <td>1</td>\n      <td>8</td>\n      <td>1</td>\n      <td>1</td>\n    </tr>\n    <tr>\n      <th>33</th>\n      <td>1</td>\n      <td>1</td>\n      <td>1</td>\n      <td>9</td>\n      <td>25</td>\n      <td>1</td>\n      <td>1</td>\n      <td>390</td>\n      <td>515</td>\n      <td>1</td>\n      <td>...</td>\n      <td>1</td>\n      <td>1</td>\n      <td>1</td>\n      <td>440</td>\n      <td>565</td>\n      <td>8</td>\n      <td>1</td>\n      <td>7</td>\n      <td>1</td>\n      <td>1</td>\n    </tr>\n    <tr>\n      <th>34</th>\n      <td>1</td>\n      <td>1</td>\n      <td>1</td>\n      <td>9</td>\n      <td>25</td>\n      <td>1</td>\n      <td>1</td>\n      <td>390</td>\n      <td>515</td>\n      <td>1</td>\n      <td>...</td>\n      <td>1</td>\n      <td>1</td>\n      <td>1</td>\n      <td>440</td>\n      <td>565</td>\n      <td>7</td>\n      <td>1</td>\n      <td>6</td>\n      <td>1</td>\n      <td>1</td>\n    </tr>\n    <tr>\n      <th>35</th>\n      <td>1</td>\n      <td>1</td>\n      <td>1</td>\n      <td>9</td>\n      <td>25</td>\n      <td>1</td>\n      <td>1</td>\n      <td>390</td>\n      <td>515</td>\n      <td>1</td>\n      <td>...</td>\n      <td>1</td>\n      <td>1</td>\n      <td>1</td>\n      <td>440</td>\n      <td>565</td>\n      <td>6</td>\n      <td>1</td>\n      <td>5</td>\n      <td>1</td>\n      <td>1</td>\n    </tr>\n    <tr>\n      <th>36</th>\n      <td>1</td>\n      <td>1</td>\n      <td>1</td>\n      <td>9</td>\n      <td>25</td>\n      <td>1</td>\n      <td>1</td>\n      <td>390</td>\n      <td>515</td>\n      <td>1</td>\n      <td>...</td>\n      <td>1</td>\n      <td>1</td>\n      <td>1</td>\n      <td>440</td>\n      <td>565</td>\n      <td>5</td>\n      <td>1</td>\n      <td>4</td>\n      <td>1</td>\n      <td>1</td>\n    </tr>\n    <tr>\n      <th>37</th>\n      <td>1</td>\n      <td>1</td>\n      <td>1</td>\n      <td>9</td>\n      <td>25</td>\n      <td>1</td>\n      <td>1</td>\n      <td>390</td>\n      <td>515</td>\n      <td>1</td>\n      <td>...</td>\n      <td>1</td>\n      <td>1</td>\n      <td>1</td>\n      <td>440</td>\n      <td>565</td>\n      <td>4</td>\n      <td>1</td>\n      <td>3</td>\n      <td>1</td>\n      <td>1</td>\n    </tr>\n    <tr>\n      <th>38</th>\n      <td>1</td>\n      <td>1</td>\n      <td>1</td>\n      <td>9</td>\n      <td>25</td>\n      <td>1</td>\n      <td>1</td>\n      <td>390</td>\n      <td>515</td>\n      <td>1</td>\n      <td>...</td>\n      <td>1</td>\n      <td>1</td>\n      <td>1</td>\n      <td>440</td>\n      <td>565</td>\n      <td>3</td>\n      <td>1</td>\n      <td>2</td>\n      <td>1</td>\n      <td>1</td>\n    </tr>\n    <tr>\n      <th>39</th>\n      <td>1</td>\n      <td>1</td>\n      <td>1</td>\n      <td>9</td>\n      <td>25</td>\n      <td>1</td>\n      <td>1</td>\n      <td>390</td>\n      <td>515</td>\n      <td>1</td>\n      <td>...</td>\n      <td>1</td>\n      <td>1</td>\n      <td>1</td>\n      <td>440</td>\n      <td>565</td>\n      <td>2</td>\n      <td>1</td>\n      <td>1</td>\n      <td>1</td>\n      <td>1</td>\n    </tr>\n    <tr>\n      <th>40</th>\n      <td>1</td>\n      <td>1</td>\n      <td>1</td>\n      <td>9</td>\n      <td>25</td>\n      <td>1</td>\n      <td>1</td>\n      <td>390</td>\n      <td>515</td>\n      <td>1</td>\n      <td>...</td>\n      <td>1</td>\n      <td>1</td>\n      <td>1</td>\n      <td>440</td>\n      <td>565</td>\n      <td>1</td>\n      <td>1</td>\n      <td>0</td>\n      <td>1</td>\n      <td>1</td>\n    </tr>\n  </tbody>\n</table>\n<p>41 rows × 28 columns</p>\n</div>"
     },
     "metadata": {},
     "execution_count": 2
    }
   ],
   "source": [
    "x = solution_printer.get_data_frame()\n",
    "x"
   ]
  },
  {
   "cell_type": "code",
   "execution_count": 3,
   "metadata": {},
   "outputs": [
    {
     "output_type": "stream",
     "name": "stdout",
     "text": [
      "start_warrior 1 [1]\nstart_level-1 1 [1]\nstart_tier-1 1 [1]\nstart_claimed 1 [9]\nstart_revealed 1 [25]\nstart_hunting 1 [1]\nstart_Bardur 1 [1]\nstart_raw_score 1 [390]\nstart_full_score 1 [515]\nstart_ruin 2 [0 1]\nstart_ruin_tech 2 [0 1]\nt0_warrior 1 [1]\nt0_level-1 1 [1]\nt0_level-2 1 [1]\nt0_population 1 [2]\nt0_tier-1 1 [1]\nt0_claimed 1 [9]\nt0_revealed 1 [25]\nt0_claimed_cst 1 [1]\nt0_hunting 1 [1]\nt0_Bardur 1 [1]\nt0_raw_score 1 [440]\nt0_full_score 1 [565]\nt0_ruin 21 [ 0  1  2  3  4  5  6  7  8  9 10 11 12 13 14 15 16 17 18 19 20]\nt0_ruin_tech 2 [0 1]\nt0_ruin_stars 21 [ 0  1  2  3  4  5  6  7  8  9 10 11 12 13 14 15 16 17 18 19 20]\nt0_level-2_spt 1 [1]\nt0_level-2_count 1 [1]\n"
     ]
    },
    {
     "output_type": "execute_result",
     "data": {
      "text/plain": [
       "3528"
      ]
     },
     "metadata": {},
     "execution_count": 3
    }
   ],
   "source": [
    "count = 1\n",
    "for i in range(len(x.columns)):\n",
    "    c = list(x.columns)[i]\n",
    "    print(c, len(x[c].unique()), x[c].unique())\n",
    "    count *= len(x[c].unique())\n",
    "count"
   ]
  },
  {
   "cell_type": "code",
   "execution_count": null,
   "metadata": {},
   "outputs": [],
   "source": [
    "x.loc[0]"
   ]
  },
  {
   "cell_type": "code",
   "execution_count": null,
   "metadata": {},
   "outputs": [],
   "source": [
    "x[(x[\"t0_level-2_spt\"] == 1)]# & (x[\"t0_level-2\"] == 1)]"
   ]
  },
  {
   "cell_type": "code",
   "execution_count": null,
   "metadata": {},
   "outputs": [],
   "source": [
    "x[(x[\"t0_warrior\"] == 1)]"
   ]
  },
  {
   "cell_type": "code",
   "execution_count": null,
   "metadata": {},
   "outputs": [],
   "source": [
    "x.loc[8]"
   ]
  },
  {
   "cell_type": "code",
   "execution_count": null,
   "metadata": {},
   "outputs": [],
   "source": [
    "x[(x[\"t0_monument\"] == 0) & (x[\"start_monument\"] == 0)]"
   ]
  },
  {
   "cell_type": "code",
   "execution_count": null,
   "metadata": {},
   "outputs": [],
   "source": [
    "x.drop_duplicates()"
   ]
  },
  {
   "source": [
    "9*20 (territories)+ 100 (level 1 city)+ tech+ units= raw score turn 0\n",
    "\n",
    "turn 0, vision score is always 125=25*5"
   ],
   "cell_type": "markdown",
   "metadata": {}
  },
  {
   "cell_type": "code",
   "execution_count": null,
   "metadata": {},
   "outputs": [],
   "source": [
    "score_dict"
   ]
  },
  {
   "source": [],
   "cell_type": "markdown",
   "metadata": {}
  },
  {
   "cell_type": "code",
   "execution_count": null,
   "metadata": {},
   "outputs": [],
   "source": []
  },
  {
   "source": [
    "1: min = 0, max = 1\n",
    "2: min = 2, max = 4\n",
    "3: min = 5, max = 8\n",
    "4: min = 9, max = 13\n",
    "5: min = 14, max = 19\n",
    "\n",
    "b:     min(1)     = 0\n",
    "\n",
    "x:     min(x)     = max(x - 1) + 1\n",
    "                  = min(x - 1) + x, \n",
    "       max(x)     = min(x) + x\n",
    "\n",
    "x + 1: min(x + 1) = max(x) + 1\n",
    "                  = min(x) + x + 1, \n",
    "       max(x + 1) = min(x + 1) + x + 1 \n",
    "                  = min(x) + 2x + 2\n",
    "x + 2: min(x + 2) = min(x) + 2x + 3 \n",
    "       max(x + 2) = min(x + 2) + x + 2 \n",
    "                  = min(x) + 2x + 3  + x + 2 \n",
    "                  = min(x) + 3x + 5\n",
    "x + 3: min(x + 3) = min(x + 1) + 2(x + 1) + 3 \n",
    "                  = min(x) + 3x + 6, \n",
    "       max(x + 3) = min(x + 3) + x + 3 \n",
    "                  = max(x) + x + 9"
   ],
   "cell_type": "markdown",
   "metadata": {}
  },
  {
   "cell_type": "code",
   "execution_count": null,
   "metadata": {},
   "outputs": [],
   "source": [
    "Bière 058 469 96 05"
   ]
  }
 ]
}