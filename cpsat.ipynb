{
 "metadata": {
  "language_info": {
   "codemirror_mode": {
    "name": "ipython",
    "version": 3
   },
   "file_extension": ".py",
   "mimetype": "text/x-python",
   "name": "python",
   "nbconvert_exporter": "python",
   "pygments_lexer": "ipython3",
   "version": "3.7.6-final"
  },
  "orig_nbformat": 2,
  "kernelspec": {
   "name": "Python 3.7.6 64-bit ('base': conda)",
   "display_name": "Python 3.7.6 64-bit ('base': conda)",
   "metadata": {
    "interpreter": {
     "hash": "e134e05457d34029b6460cd73bbf1ed73f339b5b6d98c95be70b69eba114fe95"
    }
   }
  }
 },
 "nbformat": 4,
 "nbformat_minor": 2,
 "cells": [
  {
   "cell_type": "code",
   "execution_count": null,
   "metadata": {},
   "outputs": [],
   "source": [
    "from utils import *"
   ]
  },
  {
   "cell_type": "code",
   "execution_count": null,
   "metadata": {},
   "outputs": [],
   "source": [
    "from __future__ import absolute_import\n",
    "from __future__ import division\n",
    "from __future__ import print_function\n",
    "\n",
    "import json\n",
    "import pandas as pd\n",
    "\n",
    "from ortools.sat.python import cp_model\n",
    "from ortools.sat.python.cp_model import _SumArray"
   ]
  },
  {
   "cell_type": "code",
   "execution_count": null,
   "metadata": {},
   "outputs": [],
   "source": [
    "values = getValues()\n",
    "techs = getTechs()\n",
    "tribes = getTribes()"
   ]
  },
  {
   "cell_type": "code",
   "execution_count": null,
   "metadata": {},
   "outputs": [],
   "source": [
    "class GameState:\n",
    "    turn = -1\n",
    "    player = \"\"\n",
    "    game = \"\"\n",
    "    parent_state = None\n",
    "    techs = {}\n",
    "    previous_techs = {}\n",
    "    vars = []\n",
    "    tribe = \"\"\n",
    "    cities = [] # \n",
    "    child_states = [] # GameStates\n",
    "    raw_score = None\n",
    "    full_score = None\n",
    "    model = None\n",
    "    solutions = None\n",
    "\n",
    "    def __init__(self, turn, parent_state=None, previous_tech={}):\n",
    "        self.turn = turn\n",
    "        self.model = cp_model.CpModel()\n",
    "        self.parent_state = parent_sate\n",
    "        self.previous_tech = previous_tech\n",
    "\n",
    "    def computeEndScore(self):\n",
    "        self.\n",
    "\n",
    "    def __repr__(self):\n",
    "        return \"GameState\"\n",
    "    \n",
    "    def __str__(self):\n",
    "        return \"GameState turn %d, player %s\" % (self.turn, self.player, self.game)\n",
    "\n",
    "class Player:\n",
    "    \n",
    "    initialGameState = []\n",
    "\n",
    "    def addScore(self):\n",
    "        if len(initialGameState):\n",
    "            pass\n",
    "        pass\n",
    "\n",
    "    def addTech(self):\n",
    "        pass\n",
    "\n",
    "    def addTribe(self, tribe):\n",
    "        data = getTribe()[tribe]\n",
    "        pass"
   ]
  },
  {
   "cell_type": "code",
   "execution_count": null,
   "metadata": {},
   "outputs": [],
   "source": [
    "g = GameState()\n"
   ]
  },
  {
   "cell_type": "code",
   "execution_count": null,
   "metadata": {
    "tags": []
   },
   "outputs": [],
   "source": [
    "def solve(raw_score, full_score):\n",
    "    model = cp_model.CpModel()\n",
    "    eq_dict, sym_dict = addAllVars(model, values)\n",
    "\n",
    "    buildScoreConstraint(model, eq_dict, full_score, True)\n",
    "    buildScoreConstraint(model, eq_dict, raw_score, False)\n",
    "    model.Add(_SumArray([sym_dict[e] for e in values['units'].keys()]) < 20)\n",
    "\n",
    "\n",
    "    solver = cp_model.CpSolver()\n",
    "    solution_printer = DataFrameSolutionAggregator(sym_dict.values())\n",
    "    status = solver.SearchForAllSolutions(model, solution_printer)\n",
    "    return solution_printer"
   ]
  },
  {
   "cell_type": "code",
   "execution_count": null,
   "metadata": {},
   "outputs": [],
   "source": [
    "# superb_ruin\n",
    "scores = [\n",
    "    ([515, 515], []),\n",
    "    ([565, 565], [440, 440]),\n",
    "    ([590, 600], [450, 450]),\n",
    "    ([855, 635], [700, 460]),\n",
    "    ([1385, 670], [1230, 460]),\n",
    "    ([1860, 1215], [1700, 990]),\n",
    "    ([2230, 1815], [2010, 1530])\n",
    "]"
   ]
  },
  {
   "cell_type": "code",
   "execution_count": null,
   "metadata": {},
   "outputs": [],
   "source": [
    "player_scores = [\n",
    "    [565, 440],\n",
    "    [590, 450],\n",
    "    [855, 700],\n",
    "    [1385, 1230],\n",
    "    [1860, 1700],\n",
    "    [2230, 2010]\n",
    "]"
   ]
  },
  {
   "cell_type": "code",
   "execution_count": null,
   "metadata": {},
   "outputs": [],
   "source": [
    "player_2_scores = [\n",
    "    [565, 440],\n",
    "    [600, 450],\n",
    "    [635, 460],\n",
    "    [670, 460],\n",
    "    [1215, 990],\n",
    "    [1815, 1530]\n",
    "]"
   ]
  },
  {
   "cell_type": "code",
   "execution_count": null,
   "metadata": {},
   "outputs": [],
   "source": [
    "def divide_scores(scores):\n",
    "\n",
    "\n",
    "    return selected_scores + divide_score(scores[1:])"
   ]
  },
  {
   "cell_type": "code",
   "execution_count": null,
   "metadata": {},
   "outputs": [],
   "source": [
    "for i in range(len(player_scores) - 1):\n",
    "    raw_delta = player_scores[i + 1][1] - player_scores[i][1]\n",
    "    full_delta = player_scores[i + 1][0] - player_scores[i][0]\n",
    "    print(full_delta, raw_delta)\n",
    "    # sp = solve(raw_score=raw_delta, full_score=full_delta)\n",
    "    # print(sp.get_data_frame().to_string())"
   ]
  },
  {
   "cell_type": "code",
   "execution_count": null,
   "metadata": {},
   "outputs": [],
   "source": [
    "print(sp.get_data_frame())"
   ]
  },
  {
   "source": [
    "# Equations: \n",
    "\n",
    "full score = score(units) + score(tech) + score(city) + score(vision)\n",
    "\n",
    "raw score =  score(units) + score(tech) + score(city)\n",
    "\n",
    "'remaining stars + spt + extra stars = stars(units) + stars(tech) + star(building)'"
   ],
   "cell_type": "markdown",
   "metadata": {}
  },
  {
   "cell_type": "code",
   "execution_count": 6,
   "metadata": {},
   "outputs": [
    {
     "output_type": "stream",
     "name": "stdout",
     "text": [
      "Solve status: OPTIMAL\n"
     ]
    }
   ],
   "source": [
    "from utils import * \n",
    "model = cp_model.CpModel()\n",
    "\n",
    "past_turn = None\n",
    "dictionnaries = {}\n",
    "scores = {\n",
    "    \"start\": [515, 390],\n",
    "    \"t0\": [565, 440],\n",
    "    \"t1\": [600, 450],\n",
    "    \"t2\": [635, 460],\n",
    "    \"t3\": [670, 460],\n",
    "    \"t4\": [1215, 990],\n",
    "    \"t5\": [1815, 1530]\n",
    "}\n",
    "\n",
    "for turn in [\"start\", \"t0\", \"t1\", \"t2\", \"t3\"]:#, \"t4\", \"t5\"]:\n",
    "    dictionnaries[turn] = buildDictionnaries(model, turn)\n",
    "    full_score = scores[turn][0] \n",
    "    raw_score = scores[turn][1]\n",
    "\n",
    "    buildAllConstraints(model, turn, dictionnaries)\n",
    "\n",
    "    setRawScore(model, turn, dictionnaries[turn]['scores'], raw_score)\n",
    "    #setDeltaRawScore(model, score_dict, delta_raw_score)\n",
    "    setFullScore(model, turn, dictionnaries[turn]['scores'], full_score)\n",
    "    #setDeltaFullScore(model, score_dict, delta_full_score)\n",
    "    setTribe(model, turn, \"Bardur\", dictionnaries[turn]['tribes'])\n",
    "\n",
    "    linkTurns(model, turn, dictionnaries)\n",
    "    addInitialState(model, turn, dictionnaries)\n",
    "    past_turn = turn\n",
    "\n",
    "\n",
    "solver = cp_model.CpSolver()\n",
    "output_variables = list([h for b, j in dictionnaries.items() for a,i in j.items() for h in i.values() if a != \"equations\"])\n",
    "solution_printer = DataFrameSolutionAggregator(output_variables)\n",
    "status = solver.SearchForAllSolutions(model, solution_printer)\n",
    "print('Solve status: %s' % solver.StatusName(status))"
   ]
  },
  {
   "cell_type": "code",
   "execution_count": 7,
   "metadata": {},
   "outputs": [
    {
     "output_type": "execute_result",
     "data": {
      "text/plain": [
       "    start_warrior  start_level-1  start_tier-1  start_claimed  start_revealed  \\\n",
       "0               1              1             1              9              25   \n",
       "1               1              1             1              9              25   \n",
       "2               1              1             1              9              25   \n",
       "3               1              1             1              9              25   \n",
       "4               1              1             1              9              25   \n",
       "..            ...            ...           ...            ...             ...   \n",
       "56              1              1             1              9              25   \n",
       "57              1              1             1              9              25   \n",
       "58              1              1             1              9              25   \n",
       "59              1              1             1              9              25   \n",
       "60              1              1             1              9              25   \n",
       "\n",
       "    start_hunting  start_Bardur  start_raw_score  start_full_score  \\\n",
       "0               1             1              390               515   \n",
       "1               1             1              390               515   \n",
       "2               1             1              390               515   \n",
       "3               1             1              390               515   \n",
       "4               1             1              390               515   \n",
       "..            ...           ...              ...               ...   \n",
       "56              1             1              390               515   \n",
       "57              1             1              390               515   \n",
       "58              1             1              390               515   \n",
       "59              1             1              390               515   \n",
       "60              1             1              390               515   \n",
       "\n",
       "    t0_warrior  ...  t3_claimed_cst  t3_hunting  t3_Bardur  t3_raw_score  \\\n",
       "0            1  ...               1           1          1           460   \n",
       "1            1  ...               1           1          1           460   \n",
       "2            1  ...               1           1          1           460   \n",
       "3            1  ...               1           1          1           460   \n",
       "4            1  ...               1           1          1           460   \n",
       "..         ...  ...             ...         ...        ...           ...   \n",
       "56           1  ...               1           1          1           460   \n",
       "57           1  ...               1           1          1           460   \n",
       "58           1  ...               1           1          1           460   \n",
       "59           1  ...               1           1          1           460   \n",
       "60           1  ...               1           1          1           460   \n",
       "\n",
       "    t3_full_score  t3_ruin  t3_ruin_giant  t3_ruin_stars  t3_level-2_spt  \\\n",
       "0             670        0              0              0               1   \n",
       "1             670        0              0              0               1   \n",
       "2             670        0              0              0               1   \n",
       "3             670        1              0              1               1   \n",
       "4             670        1              0              1               1   \n",
       "..            ...      ...            ...            ...             ...   \n",
       "56            670        3              1              2               1   \n",
       "57            670        1              1              0               1   \n",
       "58            670        1              1              0               1   \n",
       "59            670        2              2              0               1   \n",
       "60            670        3              2              1               1   \n",
       "\n",
       "    t3_level-2_count  \n",
       "0                  1  \n",
       "1                  1  \n",
       "2                  1  \n",
       "3                  1  \n",
       "4                  1  \n",
       "..               ...  \n",
       "56                 1  \n",
       "57                 1  \n",
       "58                 1  \n",
       "59                 1  \n",
       "60                 1  \n",
       "\n",
       "[61 rows x 79 columns]"
      ],
      "text/html": "<div>\n<style scoped>\n    .dataframe tbody tr th:only-of-type {\n        vertical-align: middle;\n    }\n\n    .dataframe tbody tr th {\n        vertical-align: top;\n    }\n\n    .dataframe thead th {\n        text-align: right;\n    }\n</style>\n<table border=\"1\" class=\"dataframe\">\n  <thead>\n    <tr style=\"text-align: right;\">\n      <th></th>\n      <th>start_warrior</th>\n      <th>start_level-1</th>\n      <th>start_tier-1</th>\n      <th>start_claimed</th>\n      <th>start_revealed</th>\n      <th>start_hunting</th>\n      <th>start_Bardur</th>\n      <th>start_raw_score</th>\n      <th>start_full_score</th>\n      <th>t0_warrior</th>\n      <th>...</th>\n      <th>t3_claimed_cst</th>\n      <th>t3_hunting</th>\n      <th>t3_Bardur</th>\n      <th>t3_raw_score</th>\n      <th>t3_full_score</th>\n      <th>t3_ruin</th>\n      <th>t3_ruin_giant</th>\n      <th>t3_ruin_stars</th>\n      <th>t3_level-2_spt</th>\n      <th>t3_level-2_count</th>\n    </tr>\n  </thead>\n  <tbody>\n    <tr>\n      <th>0</th>\n      <td>1</td>\n      <td>1</td>\n      <td>1</td>\n      <td>9</td>\n      <td>25</td>\n      <td>1</td>\n      <td>1</td>\n      <td>390</td>\n      <td>515</td>\n      <td>1</td>\n      <td>...</td>\n      <td>1</td>\n      <td>1</td>\n      <td>1</td>\n      <td>460</td>\n      <td>670</td>\n      <td>0</td>\n      <td>0</td>\n      <td>0</td>\n      <td>1</td>\n      <td>1</td>\n    </tr>\n    <tr>\n      <th>1</th>\n      <td>1</td>\n      <td>1</td>\n      <td>1</td>\n      <td>9</td>\n      <td>25</td>\n      <td>1</td>\n      <td>1</td>\n      <td>390</td>\n      <td>515</td>\n      <td>1</td>\n      <td>...</td>\n      <td>1</td>\n      <td>1</td>\n      <td>1</td>\n      <td>460</td>\n      <td>670</td>\n      <td>0</td>\n      <td>0</td>\n      <td>0</td>\n      <td>1</td>\n      <td>1</td>\n    </tr>\n    <tr>\n      <th>2</th>\n      <td>1</td>\n      <td>1</td>\n      <td>1</td>\n      <td>9</td>\n      <td>25</td>\n      <td>1</td>\n      <td>1</td>\n      <td>390</td>\n      <td>515</td>\n      <td>1</td>\n      <td>...</td>\n      <td>1</td>\n      <td>1</td>\n      <td>1</td>\n      <td>460</td>\n      <td>670</td>\n      <td>0</td>\n      <td>0</td>\n      <td>0</td>\n      <td>1</td>\n      <td>1</td>\n    </tr>\n    <tr>\n      <th>3</th>\n      <td>1</td>\n      <td>1</td>\n      <td>1</td>\n      <td>9</td>\n      <td>25</td>\n      <td>1</td>\n      <td>1</td>\n      <td>390</td>\n      <td>515</td>\n      <td>1</td>\n      <td>...</td>\n      <td>1</td>\n      <td>1</td>\n      <td>1</td>\n      <td>460</td>\n      <td>670</td>\n      <td>1</td>\n      <td>0</td>\n      <td>1</td>\n      <td>1</td>\n      <td>1</td>\n    </tr>\n    <tr>\n      <th>4</th>\n      <td>1</td>\n      <td>1</td>\n      <td>1</td>\n      <td>9</td>\n      <td>25</td>\n      <td>1</td>\n      <td>1</td>\n      <td>390</td>\n      <td>515</td>\n      <td>1</td>\n      <td>...</td>\n      <td>1</td>\n      <td>1</td>\n      <td>1</td>\n      <td>460</td>\n      <td>670</td>\n      <td>1</td>\n      <td>0</td>\n      <td>1</td>\n      <td>1</td>\n      <td>1</td>\n    </tr>\n    <tr>\n      <th>...</th>\n      <td>...</td>\n      <td>...</td>\n      <td>...</td>\n      <td>...</td>\n      <td>...</td>\n      <td>...</td>\n      <td>...</td>\n      <td>...</td>\n      <td>...</td>\n      <td>...</td>\n      <td>...</td>\n      <td>...</td>\n      <td>...</td>\n      <td>...</td>\n      <td>...</td>\n      <td>...</td>\n      <td>...</td>\n      <td>...</td>\n      <td>...</td>\n      <td>...</td>\n      <td>...</td>\n    </tr>\n    <tr>\n      <th>56</th>\n      <td>1</td>\n      <td>1</td>\n      <td>1</td>\n      <td>9</td>\n      <td>25</td>\n      <td>1</td>\n      <td>1</td>\n      <td>390</td>\n      <td>515</td>\n      <td>1</td>\n      <td>...</td>\n      <td>1</td>\n      <td>1</td>\n      <td>1</td>\n      <td>460</td>\n      <td>670</td>\n      <td>3</td>\n      <td>1</td>\n      <td>2</td>\n      <td>1</td>\n      <td>1</td>\n    </tr>\n    <tr>\n      <th>57</th>\n      <td>1</td>\n      <td>1</td>\n      <td>1</td>\n      <td>9</td>\n      <td>25</td>\n      <td>1</td>\n      <td>1</td>\n      <td>390</td>\n      <td>515</td>\n      <td>1</td>\n      <td>...</td>\n      <td>1</td>\n      <td>1</td>\n      <td>1</td>\n      <td>460</td>\n      <td>670</td>\n      <td>1</td>\n      <td>1</td>\n      <td>0</td>\n      <td>1</td>\n      <td>1</td>\n    </tr>\n    <tr>\n      <th>58</th>\n      <td>1</td>\n      <td>1</td>\n      <td>1</td>\n      <td>9</td>\n      <td>25</td>\n      <td>1</td>\n      <td>1</td>\n      <td>390</td>\n      <td>515</td>\n      <td>1</td>\n      <td>...</td>\n      <td>1</td>\n      <td>1</td>\n      <td>1</td>\n      <td>460</td>\n      <td>670</td>\n      <td>1</td>\n      <td>1</td>\n      <td>0</td>\n      <td>1</td>\n      <td>1</td>\n    </tr>\n    <tr>\n      <th>59</th>\n      <td>1</td>\n      <td>1</td>\n      <td>1</td>\n      <td>9</td>\n      <td>25</td>\n      <td>1</td>\n      <td>1</td>\n      <td>390</td>\n      <td>515</td>\n      <td>1</td>\n      <td>...</td>\n      <td>1</td>\n      <td>1</td>\n      <td>1</td>\n      <td>460</td>\n      <td>670</td>\n      <td>2</td>\n      <td>2</td>\n      <td>0</td>\n      <td>1</td>\n      <td>1</td>\n    </tr>\n    <tr>\n      <th>60</th>\n      <td>1</td>\n      <td>1</td>\n      <td>1</td>\n      <td>9</td>\n      <td>25</td>\n      <td>1</td>\n      <td>1</td>\n      <td>390</td>\n      <td>515</td>\n      <td>1</td>\n      <td>...</td>\n      <td>1</td>\n      <td>1</td>\n      <td>1</td>\n      <td>460</td>\n      <td>670</td>\n      <td>3</td>\n      <td>2</td>\n      <td>1</td>\n      <td>1</td>\n      <td>1</td>\n    </tr>\n  </tbody>\n</table>\n<p>61 rows × 79 columns</p>\n</div>"
     },
     "metadata": {},
     "execution_count": 7
    }
   ],
   "source": [
    "x = solution_printer.get_data_frame()\n",
    "x"
   ]
  },
  {
   "cell_type": "code",
   "execution_count": 8,
   "metadata": {},
   "outputs": [
    {
     "output_type": "stream",
     "name": "stdout",
     "text": [
      "start_warrior 1 [1]\nstart_level-1 1 [1]\nstart_tier-1 1 [1]\nstart_claimed 1 [9]\nstart_revealed 1 [25]\nstart_hunting 1 [1]\nstart_Bardur 1 [1]\nstart_raw_score 1 [390]\nstart_full_score 1 [515]\nt0_warrior 1 [1]\nt0_level-1 1 [1]\nt0_level-2 1 [1]\nt0_population 1 [2]\nt0_tier-1 1 [1]\nt0_claimed 1 [9]\nt0_revealed 1 [25]\nt0_claimed_cst 1 [1]\nt0_hunting 1 [1]\nt0_Bardur 1 [1]\nt0_raw_score 1 [440]\nt0_full_score 1 [565]\nt0_ruin 2 [0 1]\nt0_ruin_stars 2 [0 1]\nt0_level-2_spt 1 [1]\nt0_level-2_count 1 [1]\nt1_warrior 2 [2 1]\nt1_giant 2 [0 1]\nt1_level-1 1 [1]\nt1_level-2 1 [1]\nt1_population 2 [2 4]\nt1_tier-1 1 [1]\nt1_claimed 1 [9]\nt1_revealed 1 [30]\nt1_claimed_cst 1 [1]\nt1_hunting 1 [1]\nt1_Bardur 1 [1]\nt1_raw_score 1 [450]\nt1_full_score 1 [600]\nt1_ruin 2 [0 1]\nt1_ruin_giant 2 [0 1]\nt1_ruin_stars 2 [0 1]\nt1_level-2_spt 1 [1]\nt1_level-2_count 1 [1]\nt2_warrior 3 [3 2 1]\nt2_giant 3 [0 1 2]\nt2_level-1 1 [1]\nt2_level-2 1 [1]\nt2_population 2 [2 4]\nt2_tier-1 1 [1]\nt2_claimed 1 [9]\nt2_revealed 1 [35]\nt2_claimed_cst 1 [1]\nt2_hunting 1 [1]\nt2_Bardur 1 [1]\nt2_raw_score 1 [460]\nt2_full_score 1 [635]\nt2_ruin 3 [0 1 2]\nt2_ruin_giant 3 [0 1 2]\nt2_ruin_stars 3 [0 1 2]\nt2_level-2_spt 1 [1]\nt2_level-2_count 1 [1]\nt3_warrior 3 [3 2 1]\nt3_giant 3 [0 1 2]\nt3_level-1 1 [1]\nt3_level-2 1 [1]\nt3_population 2 [2 4]\nt3_tier-1 1 [1]\nt3_claimed 1 [9]\nt3_revealed 1 [42]\nt3_claimed_cst 1 [1]\nt3_hunting 1 [1]\nt3_Bardur 1 [1]\nt3_raw_score 1 [460]\nt3_full_score 1 [670]\nt3_ruin 4 [0 1 2 3]\nt3_ruin_giant 3 [0 1 2]\nt3_ruin_stars 4 [0 1 2 3]\nt3_level-2_spt 1 [1]\nt3_level-2_count 1 [1]\n"
     ]
    },
    {
     "output_type": "execute_result",
     "data": {
      "text/plain": [
       "107495424"
      ]
     },
     "metadata": {},
     "execution_count": 8
    }
   ],
   "source": [
    "count = 1\n",
    "for i in range(len(x.columns)):\n",
    "    c = list(x.columns)[i]\n",
    "    print(c, len(x[c].unique()), x[c].unique())\n",
    "    count *= len(x[c].unique())\n",
    "count"
   ]
  },
  {
   "cell_type": "code",
   "execution_count": null,
   "metadata": {},
   "outputs": [],
   "source": [
    "x.loc[0]"
   ]
  },
  {
   "cell_type": "code",
   "execution_count": null,
   "metadata": {},
   "outputs": [],
   "source": [
    "x[(x[\"t0_level-2_spt\"] == 1)]# & (x[\"t0_level-2\"] == 1)]"
   ]
  },
  {
   "cell_type": "code",
   "execution_count": null,
   "metadata": {},
   "outputs": [],
   "source": [
    "x[(x[\"t0_warrior\"] == 1)]"
   ]
  },
  {
   "cell_type": "code",
   "execution_count": null,
   "metadata": {},
   "outputs": [],
   "source": [
    "x.loc[8]"
   ]
  },
  {
   "cell_type": "code",
   "execution_count": null,
   "metadata": {},
   "outputs": [],
   "source": [
    "x[(x[\"t0_monument\"] == 0) & (x[\"start_monument\"] == 0)]"
   ]
  },
  {
   "cell_type": "code",
   "execution_count": null,
   "metadata": {},
   "outputs": [],
   "source": [
    "x.drop_duplicates()"
   ]
  },
  {
   "source": [
    "9*20 (territories)+ 100 (level 1 city)+ tech+ units= raw score turn 0\n",
    "\n",
    "turn 0, vision score is always 125=25*5"
   ],
   "cell_type": "markdown",
   "metadata": {}
  },
  {
   "cell_type": "code",
   "execution_count": null,
   "metadata": {},
   "outputs": [],
   "source": [
    "score_dict"
   ]
  },
  {
   "source": [],
   "cell_type": "markdown",
   "metadata": {}
  },
  {
   "cell_type": "code",
   "execution_count": null,
   "metadata": {},
   "outputs": [],
   "source": []
  },
  {
   "source": [
    "1: min = 0, max = 1\n",
    "2: min = 2, max = 4\n",
    "3: min = 5, max = 8\n",
    "4: min = 9, max = 13\n",
    "5: min = 14, max = 19\n",
    "\n",
    "b:     min(1)     = 0\n",
    "\n",
    "x:     min(x)     = max(x - 1) + 1\n",
    "                  = min(x - 1) + x, \n",
    "       max(x)     = min(x) + x\n",
    "\n",
    "x + 1: min(x + 1) = max(x) + 1\n",
    "                  = min(x) + x + 1, \n",
    "       max(x + 1) = min(x + 1) + x + 1 \n",
    "                  = min(x) + 2x + 2\n",
    "x + 2: min(x + 2) = min(x) + 2x + 3 \n",
    "       max(x + 2) = min(x + 2) + x + 2 \n",
    "                  = min(x) + 2x + 3  + x + 2 \n",
    "                  = min(x) + 3x + 5\n",
    "x + 3: min(x + 3) = min(x + 1) + 2(x + 1) + 3 \n",
    "                  = min(x) + 3x + 6, \n",
    "       max(x + 3) = min(x + 3) + x + 3 \n",
    "                  = max(x) + x + 9"
   ],
   "cell_type": "markdown",
   "metadata": {}
  },
  {
   "cell_type": "code",
   "execution_count": null,
   "metadata": {},
   "outputs": [],
   "source": [
    "Bière 058 469 96 05"
   ]
  }
 ]
}