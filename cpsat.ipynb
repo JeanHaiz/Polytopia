{
 "metadata": {
  "language_info": {
   "codemirror_mode": {
    "name": "ipython",
    "version": 3
   },
   "file_extension": ".py",
   "mimetype": "text/x-python",
   "name": "python",
   "nbconvert_exporter": "python",
   "pygments_lexer": "ipython3",
   "version": "3.7.6-final"
  },
  "orig_nbformat": 2,
  "kernelspec": {
   "name": "Python 3.7.6 64-bit ('base': conda)",
   "display_name": "Python 3.7.6 64-bit ('base': conda)",
   "metadata": {
    "interpreter": {
     "hash": "e134e05457d34029b6460cd73bbf1ed73f339b5b6d98c95be70b69eba114fe95"
    }
   }
  }
 },
 "nbformat": 4,
 "nbformat_minor": 2,
 "cells": [
  {
   "cell_type": "code",
   "execution_count": null,
   "metadata": {},
   "outputs": [],
   "source": [
    "from utils import *"
   ]
  },
  {
   "cell_type": "code",
   "execution_count": null,
   "metadata": {},
   "outputs": [],
   "source": [
    "from __future__ import absolute_import\n",
    "from __future__ import division\n",
    "from __future__ import print_function\n",
    "\n",
    "import json\n",
    "import pandas as pd\n",
    "\n",
    "from ortools.sat.python import cp_model\n",
    "from ortools.sat.python.cp_model import _SumArray"
   ]
  },
  {
   "cell_type": "code",
   "execution_count": null,
   "metadata": {},
   "outputs": [],
   "source": [
    "values = getValues()\n",
    "techs = getTechs()\n",
    "tribes = getTribes()"
   ]
  },
  {
   "cell_type": "code",
   "execution_count": null,
   "metadata": {},
   "outputs": [],
   "source": [
    "class GameState:\n",
    "    turn = -1\n",
    "    player = \"\"\n",
    "    game = \"\"\n",
    "    parent_state = None\n",
    "    techs = {}\n",
    "    previous_techs = {}\n",
    "    vars = []\n",
    "    tribe = \"\"\n",
    "    cities = [] # \n",
    "    child_states = [] # GameStates\n",
    "    raw_score = None\n",
    "    full_score = None\n",
    "    model = None\n",
    "    solutions = None\n",
    "\n",
    "    def __init__(self, turn, parent_state=None, previous_tech={}):\n",
    "        self.turn = turn\n",
    "        self.model = cp_model.CpModel()\n",
    "        self.parent_state = parent_sate\n",
    "        self.previous_tech = previous_tech\n",
    "\n",
    "    def computeEndScore(self):\n",
    "        self.\n",
    "\n",
    "    def __repr__(self):\n",
    "        return \"GameState\"\n",
    "    \n",
    "    def __str__(self):\n",
    "        return \"GameState turn %d, player %s\" % (self.turn, self.player, self.game)\n",
    "\n",
    "class Player:\n",
    "    \n",
    "    initialGameState = []\n",
    "\n",
    "    def addScore(self):\n",
    "        if len(initialGameState):\n",
    "            pass\n",
    "        pass\n",
    "\n",
    "    def addTech(self):\n",
    "        pass\n",
    "\n",
    "    def addTribe(self, tribe):\n",
    "        data = getTribe()[tribe]\n",
    "        pass"
   ]
  },
  {
   "cell_type": "code",
   "execution_count": null,
   "metadata": {},
   "outputs": [],
   "source": [
    "g = GameState()\n"
   ]
  },
  {
   "cell_type": "code",
   "execution_count": null,
   "metadata": {
    "tags": []
   },
   "outputs": [],
   "source": [
    "def solve(raw_score, full_score):\n",
    "    model = cp_model.CpModel()\n",
    "    eq_dict, sym_dict = addAllVars(model, values)\n",
    "\n",
    "    buildScoreConstraint(model, eq_dict, full_score, True)\n",
    "    buildScoreConstraint(model, eq_dict, raw_score, False)\n",
    "    model.Add(_SumArray([sym_dict[e] for e in values['units'].keys()]) < 20)\n",
    "\n",
    "\n",
    "    solver = cp_model.CpSolver()\n",
    "    solution_printer = DataFrameSolutionAggregator(sym_dict.values())\n",
    "    status = solver.SearchForAllSolutions(model, solution_printer)\n",
    "    return solution_printer"
   ]
  },
  {
   "cell_type": "code",
   "execution_count": null,
   "metadata": {},
   "outputs": [],
   "source": [
    "# superb_ruin\n",
    "scores = [\n",
    "    ([515, 515], []),\n",
    "    ([565, 565], [440, 440]),\n",
    "    ([590, 600], [450, 450]),\n",
    "    ([855, 635], [700, 460]),\n",
    "    ([1385, 670], [1230, 460]),\n",
    "    ([1860, 1215], [1700, 990]),\n",
    "    ([2230, 1815], [2010, 1530])\n",
    "]"
   ]
  },
  {
   "cell_type": "code",
   "execution_count": null,
   "metadata": {},
   "outputs": [],
   "source": [
    "player_scores = [\n",
    "    [565, 440],\n",
    "    [590, 450],\n",
    "    [855, 700],\n",
    "    [1385, 1230],\n",
    "    [1860, 1700],\n",
    "    [2230, 2010]\n",
    "]"
   ]
  },
  {
   "cell_type": "code",
   "execution_count": null,
   "metadata": {},
   "outputs": [],
   "source": [
    "player_2_scores = [\n",
    "    [565, 440],\n",
    "    [600, 450],\n",
    "    [635, 460],\n",
    "    [670, 460],\n",
    "    [1215, 990],\n",
    "    [1815, 1530]\n",
    "]"
   ]
  },
  {
   "cell_type": "code",
   "execution_count": null,
   "metadata": {},
   "outputs": [],
   "source": [
    "def divide_scores(scores):\n",
    "\n",
    "\n",
    "    return selected_scores + divide_score(scores[1:])"
   ]
  },
  {
   "cell_type": "code",
   "execution_count": null,
   "metadata": {},
   "outputs": [],
   "source": [
    "for i in range(len(player_scores) - 1):\n",
    "    raw_delta = player_scores[i + 1][1] - player_scores[i][1]\n",
    "    full_delta = player_scores[i + 1][0] - player_scores[i][0]\n",
    "    print(full_delta, raw_delta)\n",
    "    # sp = solve(raw_score=raw_delta, full_score=full_delta)\n",
    "    # print(sp.get_data_frame().to_string())"
   ]
  },
  {
   "cell_type": "code",
   "execution_count": null,
   "metadata": {},
   "outputs": [],
   "source": [
    "print(sp.get_data_frame())"
   ]
  },
  {
   "source": [
    "# Equations: \n",
    "\n",
    "full score = score(units) + score(tech) + score(city) + score(vision)\n",
    "\n",
    "raw score =  score(units) + score(tech) + score(city)\n",
    "\n",
    "'remaining stars + spt + extra stars = stars(units) + stars(tech) + star(building)'"
   ],
   "cell_type": "markdown",
   "metadata": {}
  },
  {
   "cell_type": "code",
   "execution_count": null,
   "metadata": {},
   "outputs": [],
   "source": [
    "m = cp_model.CpModel()\n",
    "m.NewBoolVar('a')\n",
    "m.NewBoolVar('a')\n",
    "m.solve()"
   ]
  },
  {
   "cell_type": "code",
   "execution_count": null,
   "metadata": {},
   "outputs": [],
   "source": [
    "from utils import * \n",
    "model = cp_model.CpModel()\n",
    "turn = \"start\"\n",
    "eq_dict, sym_dict = addAllVars(model, turn)\n",
    "tech_dict = addAllTechs(model, turn)\n",
    "tribe_dict = addAllTribes(model, turn, sym_dict, tech_dict)\n",
    "score_dict = addScore(model, turn)\n",
    "\n",
    "#delta_full_score = 25\n",
    "#delta_raw_score = 10\n",
    "\n",
    "full_score = 565 # 565 = 9*20 (territories) + 100 (level 1 city) + 100 (tech) + 10 (units) + 2 * 5 (pop) + 40 (lvl 2 upgrade)\n",
    "\n",
    "raw_score = 440 \n",
    "\n",
    "buildAllConstraints(model, turn, sym_dict, eq_dict, tech_dict, tribe_dict, score_dict)\n",
    "\n",
    "setRawScore(model, turn, score_dict, raw_score)\n",
    "#setDeltaRawScore(model, score_dict, delta_raw_score)\n",
    "setFullScore(model, turn, score_dict, full_score)\n",
    "#setDeltaFullScore(model, score_dict, delta_full_score)\n",
    "setTribe(model, turn, \"Bardur\", tribe_dict)\n",
    "\n",
    "solver = cp_model.CpSolver()\n",
    "output_variables = list(sym_dict.values()) + list(tech_dict.values()) + list(score_dict.values()) + list(tribe_dict.values())\n",
    "solution_printer = DataFrameSolutionAggregator(output_variables)\n",
    "status = solver.SearchForAllSolutions(model, solution_printer)\n",
    "print('Solve status: %s' % solver.StatusName(status))"
   ]
  },
  {
   "cell_type": "code",
   "execution_count": null,
   "metadata": {},
   "outputs": [],
   "source": [
    "x = solution_printer.get_data_frame()\n",
    "x"
   ]
  },
  {
   "cell_type": "code",
   "execution_count": null,
   "metadata": {},
   "outputs": [],
   "source": [
    "x.loc[4]"
   ]
  },
  {
   "cell_type": "code",
   "execution_count": null,
   "metadata": {},
   "outputs": [],
   "source": [
    "x.drop_duplicates()"
   ]
  },
  {
   "source": [
    "9*20 (territories)+ 100 (level 1 city)+ tech+ units= raw score turn 0\n",
    "\n",
    "turn 0, vision score is always 125=25*5"
   ],
   "cell_type": "markdown",
   "metadata": {}
  },
  {
   "cell_type": "code",
   "execution_count": null,
   "metadata": {},
   "outputs": [],
   "source": [
    "score_dict"
   ]
  },
  {
   "source": [],
   "cell_type": "markdown",
   "metadata": {}
  }
 ]
}