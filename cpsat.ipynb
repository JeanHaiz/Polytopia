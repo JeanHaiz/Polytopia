{
 "metadata": {
  "language_info": {
   "codemirror_mode": {
    "name": "ipython",
    "version": 3
   },
   "file_extension": ".py",
   "mimetype": "text/x-python",
   "name": "python",
   "nbconvert_exporter": "python",
   "pygments_lexer": "ipython3",
   "version": "3.7.6-final"
  },
  "orig_nbformat": 2,
  "kernelspec": {
   "name": "Python 3.7.6 64-bit ('base': conda)",
   "display_name": "Python 3.7.6 64-bit ('base': conda)",
   "metadata": {
    "interpreter": {
     "hash": "e134e05457d34029b6460cd73bbf1ed73f339b5b6d98c95be70b69eba114fe95"
    }
   }
  }
 },
 "nbformat": 4,
 "nbformat_minor": 2,
 "cells": [
  {
   "cell_type": "code",
   "execution_count": null,
   "metadata": {},
   "outputs": [],
   "source": [
    "from utils import *"
   ]
  },
  {
   "cell_type": "code",
   "execution_count": null,
   "metadata": {},
   "outputs": [],
   "source": [
    "from __future__ import absolute_import\n",
    "from __future__ import division\n",
    "from __future__ import print_function\n",
    "\n",
    "import json\n",
    "import pandas as pd\n",
    "\n",
    "from ortools.sat.python import cp_model\n",
    "from ortools.sat.python.cp_model import _SumArray"
   ]
  },
  {
   "cell_type": "code",
   "execution_count": null,
   "metadata": {},
   "outputs": [],
   "source": [
    "values = getValues()\n",
    "techs = getTechs()\n",
    "tribes = getTribes()"
   ]
  },
  {
   "cell_type": "code",
   "execution_count": null,
   "metadata": {},
   "outputs": [],
   "source": [
    "class GameState:\n",
    "    turn = -1\n",
    "    player = \"\"\n",
    "    game = \"\"\n",
    "    parent_state = None\n",
    "    techs = {}\n",
    "    previous_techs = {}\n",
    "    vars = []\n",
    "    tribe = \"\"\n",
    "    cities = [] # \n",
    "    child_states = [] # GameStates\n",
    "    raw_score = None\n",
    "    full_score = None\n",
    "    model = None\n",
    "    solutions = None\n",
    "\n",
    "    def __init__(self, turn, parent_state=None, previous_tech={}):\n",
    "        self.turn = turn\n",
    "        self.model = cp_model.CpModel()\n",
    "        self.parent_state = parent_sate\n",
    "        self.previous_tech = previous_tech\n",
    "\n",
    "    def computeEndScore(self):\n",
    "        self.\n",
    "\n",
    "    def __repr__(self):\n",
    "        return \"GameState\"\n",
    "    \n",
    "    def __str__(self):\n",
    "        return \"GameState turn %d, player %s\" % (self.turn, self.player, self.game)\n",
    "\n",
    "class Player:\n",
    "    \n",
    "    initialGameState = []\n",
    "\n",
    "    def addScore(self):\n",
    "        if len(initialGameState):\n",
    "            pass\n",
    "        pass\n",
    "\n",
    "    def addTech(self):\n",
    "        pass\n",
    "\n",
    "    def addTribe(self, tribe):\n",
    "        data = getTribe()[tribe]\n",
    "        pass"
   ]
  },
  {
   "cell_type": "code",
   "execution_count": null,
   "metadata": {},
   "outputs": [],
   "source": [
    "g = GameState()\n"
   ]
  },
  {
   "cell_type": "code",
   "execution_count": null,
   "metadata": {
    "tags": []
   },
   "outputs": [],
   "source": [
    "def solve(raw_score, full_score):\n",
    "    model = cp_model.CpModel()\n",
    "    eq_dict, sym_dict = addAllVars(model, values)\n",
    "\n",
    "    buildScoreConstraint(model, eq_dict, full_score, True)\n",
    "    buildScoreConstraint(model, eq_dict, raw_score, False)\n",
    "    model.Add(_SumArray([sym_dict[e] for e in values['units'].keys()]) < 20)\n",
    "\n",
    "\n",
    "    solver = cp_model.CpSolver()\n",
    "    solution_printer = DataFrameSolutionAggregator(sym_dict.values())\n",
    "    status = solver.SearchForAllSolutions(model, solution_printer)\n",
    "    return solution_printer"
   ]
  },
  {
   "cell_type": "code",
   "execution_count": null,
   "metadata": {},
   "outputs": [],
   "source": [
    "# superb_ruin\n",
    "scores = [\n",
    "    ([515, 515], []),\n",
    "    ([565, 565], [440, 440]),\n",
    "    ([590, 600], [450, 450]),\n",
    "    ([855, 635], [700, 460]),\n",
    "    ([1385, 670], [1230, 460]),\n",
    "    ([1860, 1215], [1700, 990]),\n",
    "    ([2230, 1815], [2010, 1530])\n",
    "]"
   ]
  },
  {
   "cell_type": "code",
   "execution_count": null,
   "metadata": {},
   "outputs": [],
   "source": [
    "player_scores = [\n",
    "    [565, 440],\n",
    "    [590, 450],\n",
    "    [855, 700],\n",
    "    [1385, 1230],\n",
    "    [1860, 1700],\n",
    "    [2230, 2010]\n",
    "]"
   ]
  },
  {
   "cell_type": "code",
   "execution_count": null,
   "metadata": {},
   "outputs": [],
   "source": [
    "player_2_scores = [\n",
    "    [565, 440],\n",
    "    [600, 450],\n",
    "    [635, 460],\n",
    "    [670, 460],\n",
    "    [1215, 990],\n",
    "    [1815, 1530]\n",
    "]"
   ]
  },
  {
   "cell_type": "code",
   "execution_count": null,
   "metadata": {},
   "outputs": [],
   "source": [
    "def divide_scores(scores):\n",
    "\n",
    "\n",
    "    return selected_scores + divide_score(scores[1:])"
   ]
  },
  {
   "cell_type": "code",
   "execution_count": null,
   "metadata": {},
   "outputs": [],
   "source": [
    "for i in range(len(player_scores) - 1):\n",
    "    raw_delta = player_scores[i + 1][1] - player_scores[i][1]\n",
    "    full_delta = player_scores[i + 1][0] - player_scores[i][0]\n",
    "    print(full_delta, raw_delta)\n",
    "    # sp = solve(raw_score=raw_delta, full_score=full_delta)\n",
    "    # print(sp.get_data_frame().to_string())"
   ]
  },
  {
   "cell_type": "code",
   "execution_count": null,
   "metadata": {},
   "outputs": [],
   "source": [
    "print(sp.get_data_frame())"
   ]
  },
  {
   "source": [
    "# Equations: \n",
    "\n",
    "full score = score(units) + score(tech) + score(city) + score(vision)\n",
    "\n",
    "raw score =  score(units) + score(tech) + score(city)\n",
    "\n",
    "'remaining stars + spt + extra stars = stars(units) + stars(tech) + star(building)'"
   ],
   "cell_type": "markdown",
   "metadata": {}
  },
  {
   "cell_type": "code",
   "execution_count": 1,
   "metadata": {},
   "outputs": [
    {
     "output_type": "stream",
     "name": "stdout",
     "text": [
      "Solve status: FEASIBLE\n"
     ]
    }
   ],
   "source": [
    "import re\n",
    "from utils import * \n",
    "model = cp_model.CpModel()\n",
    "\n",
    "past_turn = None\n",
    "dictionnaries = {}\n",
    "scores = {\n",
    "    \"start\": [515, 390],\n",
    "    \"t0\": [565, 440],\n",
    "    \"t1\": [600, 450],\n",
    "    \"t2\": [635, 460],\n",
    "    \"t3\": [670, 460],\n",
    "    \"t4\": [1215, 990],\n",
    "    \"t5\": [1815, 1530]\n",
    "}\n",
    "\n",
    "for turn in [\"start\", \"t0\"]:#, \"t1\", \"t2\", \"t3\"]:#, \"t4\", \"t5\"]:\n",
    "    dictionnaries[turn] = buildDictionnaries(model, turn)\n",
    "    full_score = scores[turn][0] \n",
    "    raw_score = scores[turn][1]\n",
    "\n",
    "    buildAllConstraints(model, turn, dictionnaries)\n",
    "\n",
    "    setRawScore(model, turn, dictionnaries[turn]['scores'], raw_score)\n",
    "    setFullScore(model, turn, dictionnaries[turn]['scores'], full_score)\n",
    "    setTribe(model, turn, \"Bardur\", dictionnaries[turn]['tribes'])\n",
    "\n",
    "    linkTurns(model, turn, dictionnaries)\n",
    "    addInitialState(model, turn, dictionnaries)\n",
    "    past_turn = turn\n",
    "\n",
    "addSolution(model, turn, dictionnaries)\n",
    "\n",
    "solver = cp_model.CpSolver()\n",
    "output_variables = list(h for turn, turn_dict in dictionnaries.items() for topic, topic_dict in turn_dict.items() for h in topic_dict.values() if topic != \"equations\")\n",
    "solution_printer = DataFrameSolutionAggregator(output_variables)\n",
    "status = solver.SearchForAllSolutions(model, solution_printer)\n",
    "print('Solve status: %s' % solver.StatusName(status))"
   ]
  },
  {
   "cell_type": "code",
   "execution_count": 2,
   "metadata": {},
   "outputs": [],
   "source": [
    "x = solution_printer.get_data_frame()"
   ]
  },
  {
   "cell_type": "code",
   "execution_count": 3,
   "metadata": {},
   "outputs": [
    {
     "output_type": "stream",
     "name": "stdout",
     "text": [
      "start_warrior 1 [1]\nstart_level-1 1 [1]\nstart_tier-1 1 [1]\nstart_claimed 1 [9]\nstart_revealed 1 [25]\nstart_hunting 1 [1]\nstart_Bardur 1 [1]\nstart_raw_score 1 [390]\nstart_full_score 1 [515]\nstart_stars 2 [0 1]\nstart_spt 1 [2]\nstart_star_income 2 [-100  -99]\nstart_star_spending 2 [-100  -99]\nstart_warrior_stars 1 [2]\nstart_tier-1_stars 1 [5]\nstart_tier-1_cost 1 [5]\nstart_tier-2_stars 1 [6]\nstart_tier-3_stars 1 [7]\nt0_warrior 1 [1]\nt0_level-1 1 [1]\nt0_level-2 1 [1]\nt0_population 1 [2]\nt0_tier-1 1 [1]\nt0_claimed 1 [9]\nt0_revealed 1 [25]\nt0_claimed_cst 1 [1]\nt0_hunting 1 [1]\nt0_Bardur 1 [1]\nt0_raw_score 1 [440]\nt0_full_score 1 [565]\nt0_level-2_spt 1 [1]\nt0_level-2_count 1 [1]\nt0_pop_min 1 [2]\nt0_pop_max 1 [4]\nt0_animal 1 [2]\nt0_stars 2 [0 1]\nt0_spt 2 [2 3]\nt0_star_income 2 [2 3]\nt0_star_spending 1 [4]\nt0_animal_stars 1 [4]\nt0_warrior_stars 1 [2]\nt0_tier-1_stars 1 [5]\nt0_tier-1_cost 1 [5]\nt0_tier-2_stars 1 [6]\nt0_tier-3_stars 1 [7]\n"
     ]
    },
    {
     "output_type": "execute_result",
     "data": {
      "text/plain": [
       "64"
      ]
     },
     "metadata": {},
     "execution_count": 3
    }
   ],
   "source": [
    "printValueList(x)"
   ]
  },
  {
   "cell_type": "code",
   "execution_count": 3,
   "metadata": {},
   "outputs": [
    {
     "output_type": "execute_result",
     "data": {
      "text/plain": [
       "     start_warrior  start_level-1  start_tier-1  start_claimed  \\\n",
       "0                1              1             1              9   \n",
       "3                1              1             1              9   \n",
       "4                1              1             1              9   \n",
       "5                1              1             1              9   \n",
       "6                1              1             1              9   \n",
       "..             ...            ...           ...            ...   \n",
       "872              1              1             1              9   \n",
       "873              1              1             1              9   \n",
       "874              1              1             1              9   \n",
       "875              1              1             1              9   \n",
       "876              1              1             1              9   \n",
       "\n",
       "     start_revealed  start_hunting  start_Bardur  start_raw_score  \\\n",
       "0                25              1             1              390   \n",
       "3                25              1             1              390   \n",
       "4                25              1             1              390   \n",
       "5                25              1             1              390   \n",
       "6                25              1             1              390   \n",
       "..              ...            ...           ...              ...   \n",
       "872              25              1             1              390   \n",
       "873              25              1             1              390   \n",
       "874              25              1             1              390   \n",
       "875              25              1             1              390   \n",
       "876              25              1             1              390   \n",
       "\n",
       "     start_full_score  start_stars  ...  t3_fish_stars  \\\n",
       "0                 515            5  ...              0   \n",
       "3                 515            5  ...              3   \n",
       "4                 515            5  ...              2   \n",
       "5                 515            5  ...              0   \n",
       "6                 515            5  ...              0   \n",
       "..                ...          ...  ...            ...   \n",
       "872               515            5  ...              0   \n",
       "873               515            5  ...              0   \n",
       "874               515            5  ...              0   \n",
       "875               515            5  ...              0   \n",
       "876               515            5  ...              0   \n",
       "\n",
       "     t3_road_conection_stars  t3_water_connection_stars  t3_warrior_stars  \\\n",
       "0                          0                          0                 0   \n",
       "3                          0                          0                 0   \n",
       "4                          0                          0                 0   \n",
       "5                          0                          0                 0   \n",
       "6                          0                          0                 0   \n",
       "..                       ...                        ...               ...   \n",
       "872                        0                          0                 0   \n",
       "873                        0                          0                 0   \n",
       "874                        0                          0                 0   \n",
       "875                        0                          0                 0   \n",
       "876                        0                          0                 0   \n",
       "\n",
       "     t3_rider_stars  t3_archer_stars  t3_tier-1_stars  t3_tier-1_cost  \\\n",
       "0                 0                0                5               5   \n",
       "3                 0                0                5               5   \n",
       "4                 0                0                5               5   \n",
       "5                 0                0                5               5   \n",
       "6                 0                0                5               5   \n",
       "..              ...              ...              ...             ...   \n",
       "872               0                0                5               5   \n",
       "873               0                0                5               5   \n",
       "874               0                0                5               5   \n",
       "875               0                0                5               5   \n",
       "876               0                0                5               5   \n",
       "\n",
       "     t3_tier-2_stars  t3_tier-3_stars  \n",
       "0                  6                7  \n",
       "3                  6                7  \n",
       "4                  6                7  \n",
       "5                  6                7  \n",
       "6                  6                7  \n",
       "..               ...              ...  \n",
       "872                6                7  \n",
       "873                6                7  \n",
       "874                6                7  \n",
       "875                6                7  \n",
       "876                6                7  \n",
       "\n",
       "[875 rows x 138 columns]"
      ],
      "text/html": "<div>\n<style scoped>\n    .dataframe tbody tr th:only-of-type {\n        vertical-align: middle;\n    }\n\n    .dataframe tbody tr th {\n        vertical-align: top;\n    }\n\n    .dataframe thead th {\n        text-align: right;\n    }\n</style>\n<table border=\"1\" class=\"dataframe\">\n  <thead>\n    <tr style=\"text-align: right;\">\n      <th></th>\n      <th>start_warrior</th>\n      <th>start_level-1</th>\n      <th>start_tier-1</th>\n      <th>start_claimed</th>\n      <th>start_revealed</th>\n      <th>start_hunting</th>\n      <th>start_Bardur</th>\n      <th>start_raw_score</th>\n      <th>start_full_score</th>\n      <th>start_stars</th>\n      <th>...</th>\n      <th>t3_fish_stars</th>\n      <th>t3_road_conection_stars</th>\n      <th>t3_water_connection_stars</th>\n      <th>t3_warrior_stars</th>\n      <th>t3_rider_stars</th>\n      <th>t3_archer_stars</th>\n      <th>t3_tier-1_stars</th>\n      <th>t3_tier-1_cost</th>\n      <th>t3_tier-2_stars</th>\n      <th>t3_tier-3_stars</th>\n    </tr>\n  </thead>\n  <tbody>\n    <tr>\n      <th>0</th>\n      <td>1</td>\n      <td>1</td>\n      <td>1</td>\n      <td>9</td>\n      <td>25</td>\n      <td>1</td>\n      <td>1</td>\n      <td>390</td>\n      <td>515</td>\n      <td>5</td>\n      <td>...</td>\n      <td>0</td>\n      <td>0</td>\n      <td>0</td>\n      <td>0</td>\n      <td>0</td>\n      <td>0</td>\n      <td>5</td>\n      <td>5</td>\n      <td>6</td>\n      <td>7</td>\n    </tr>\n    <tr>\n      <th>3</th>\n      <td>1</td>\n      <td>1</td>\n      <td>1</td>\n      <td>9</td>\n      <td>25</td>\n      <td>1</td>\n      <td>1</td>\n      <td>390</td>\n      <td>515</td>\n      <td>5</td>\n      <td>...</td>\n      <td>3</td>\n      <td>0</td>\n      <td>0</td>\n      <td>0</td>\n      <td>0</td>\n      <td>0</td>\n      <td>5</td>\n      <td>5</td>\n      <td>6</td>\n      <td>7</td>\n    </tr>\n    <tr>\n      <th>4</th>\n      <td>1</td>\n      <td>1</td>\n      <td>1</td>\n      <td>9</td>\n      <td>25</td>\n      <td>1</td>\n      <td>1</td>\n      <td>390</td>\n      <td>515</td>\n      <td>5</td>\n      <td>...</td>\n      <td>2</td>\n      <td>0</td>\n      <td>0</td>\n      <td>0</td>\n      <td>0</td>\n      <td>0</td>\n      <td>5</td>\n      <td>5</td>\n      <td>6</td>\n      <td>7</td>\n    </tr>\n    <tr>\n      <th>5</th>\n      <td>1</td>\n      <td>1</td>\n      <td>1</td>\n      <td>9</td>\n      <td>25</td>\n      <td>1</td>\n      <td>1</td>\n      <td>390</td>\n      <td>515</td>\n      <td>5</td>\n      <td>...</td>\n      <td>0</td>\n      <td>0</td>\n      <td>0</td>\n      <td>0</td>\n      <td>0</td>\n      <td>0</td>\n      <td>5</td>\n      <td>5</td>\n      <td>6</td>\n      <td>7</td>\n    </tr>\n    <tr>\n      <th>6</th>\n      <td>1</td>\n      <td>1</td>\n      <td>1</td>\n      <td>9</td>\n      <td>25</td>\n      <td>1</td>\n      <td>1</td>\n      <td>390</td>\n      <td>515</td>\n      <td>5</td>\n      <td>...</td>\n      <td>0</td>\n      <td>0</td>\n      <td>0</td>\n      <td>0</td>\n      <td>0</td>\n      <td>0</td>\n      <td>5</td>\n      <td>5</td>\n      <td>6</td>\n      <td>7</td>\n    </tr>\n    <tr>\n      <th>...</th>\n      <td>...</td>\n      <td>...</td>\n      <td>...</td>\n      <td>...</td>\n      <td>...</td>\n      <td>...</td>\n      <td>...</td>\n      <td>...</td>\n      <td>...</td>\n      <td>...</td>\n      <td>...</td>\n      <td>...</td>\n      <td>...</td>\n      <td>...</td>\n      <td>...</td>\n      <td>...</td>\n      <td>...</td>\n      <td>...</td>\n      <td>...</td>\n      <td>...</td>\n      <td>...</td>\n    </tr>\n    <tr>\n      <th>872</th>\n      <td>1</td>\n      <td>1</td>\n      <td>1</td>\n      <td>9</td>\n      <td>25</td>\n      <td>1</td>\n      <td>1</td>\n      <td>390</td>\n      <td>515</td>\n      <td>5</td>\n      <td>...</td>\n      <td>0</td>\n      <td>0</td>\n      <td>0</td>\n      <td>0</td>\n      <td>0</td>\n      <td>0</td>\n      <td>5</td>\n      <td>5</td>\n      <td>6</td>\n      <td>7</td>\n    </tr>\n    <tr>\n      <th>873</th>\n      <td>1</td>\n      <td>1</td>\n      <td>1</td>\n      <td>9</td>\n      <td>25</td>\n      <td>1</td>\n      <td>1</td>\n      <td>390</td>\n      <td>515</td>\n      <td>5</td>\n      <td>...</td>\n      <td>0</td>\n      <td>0</td>\n      <td>0</td>\n      <td>0</td>\n      <td>0</td>\n      <td>0</td>\n      <td>5</td>\n      <td>5</td>\n      <td>6</td>\n      <td>7</td>\n    </tr>\n    <tr>\n      <th>874</th>\n      <td>1</td>\n      <td>1</td>\n      <td>1</td>\n      <td>9</td>\n      <td>25</td>\n      <td>1</td>\n      <td>1</td>\n      <td>390</td>\n      <td>515</td>\n      <td>5</td>\n      <td>...</td>\n      <td>0</td>\n      <td>0</td>\n      <td>0</td>\n      <td>0</td>\n      <td>0</td>\n      <td>0</td>\n      <td>5</td>\n      <td>5</td>\n      <td>6</td>\n      <td>7</td>\n    </tr>\n    <tr>\n      <th>875</th>\n      <td>1</td>\n      <td>1</td>\n      <td>1</td>\n      <td>9</td>\n      <td>25</td>\n      <td>1</td>\n      <td>1</td>\n      <td>390</td>\n      <td>515</td>\n      <td>5</td>\n      <td>...</td>\n      <td>0</td>\n      <td>0</td>\n      <td>0</td>\n      <td>0</td>\n      <td>0</td>\n      <td>0</td>\n      <td>5</td>\n      <td>5</td>\n      <td>6</td>\n      <td>7</td>\n    </tr>\n    <tr>\n      <th>876</th>\n      <td>1</td>\n      <td>1</td>\n      <td>1</td>\n      <td>9</td>\n      <td>25</td>\n      <td>1</td>\n      <td>1</td>\n      <td>390</td>\n      <td>515</td>\n      <td>5</td>\n      <td>...</td>\n      <td>0</td>\n      <td>0</td>\n      <td>0</td>\n      <td>0</td>\n      <td>0</td>\n      <td>0</td>\n      <td>5</td>\n      <td>5</td>\n      <td>6</td>\n      <td>7</td>\n    </tr>\n  </tbody>\n</table>\n<p>875 rows × 138 columns</p>\n</div>"
     },
     "metadata": {},
     "execution_count": 3
    }
   ],
   "source": [
    "x[x['t2_population'] ==]"
   ]
  },
  {
   "cell_type": "code",
   "execution_count": 3,
   "metadata": {},
   "outputs": [],
   "source": [
    "cleaned = chooseBestSolution(x[x['t2_population'] == 2])"
   ]
  },
  {
   "cell_type": "code",
   "execution_count": 4,
   "metadata": {},
   "outputs": [
    {
     "output_type": "execute_result",
     "data": {
      "text/plain": [
       "     start_warrior  start_level-1  start_tier-1  start_claimed  \\\n",
       "0                1              1             1              9   \n",
       "18               1              1             1              9   \n",
       "19               1              1             1              9   \n",
       "20               1              1             1              9   \n",
       "21               1              1             1              9   \n",
       "..             ...            ...           ...            ...   \n",
       "371              1              1             1              9   \n",
       "372              1              1             1              9   \n",
       "373              1              1             1              9   \n",
       "374              1              1             1              9   \n",
       "375              1              1             1              9   \n",
       "\n",
       "     start_revealed  start_hunting  start_Bardur  start_raw_score  \\\n",
       "0                25              1             1              390   \n",
       "18               25              1             1              390   \n",
       "19               25              1             1              390   \n",
       "20               25              1             1              390   \n",
       "21               25              1             1              390   \n",
       "..              ...            ...           ...              ...   \n",
       "371              25              1             1              390   \n",
       "372              25              1             1              390   \n",
       "373              25              1             1              390   \n",
       "374              25              1             1              390   \n",
       "375              25              1             1              390   \n",
       "\n",
       "     start_full_score  start_stars  ...  t3_forest_temple_stars  \\\n",
       "0                 515            5  ...                       0   \n",
       "18                515            5  ...                       0   \n",
       "19                515            5  ...                       0   \n",
       "20                515            5  ...                       0   \n",
       "21                515            5  ...                       0   \n",
       "..                ...          ...  ...                     ...   \n",
       "371               515            5  ...                       0   \n",
       "372               515            5  ...                       0   \n",
       "373               515            5  ...                       0   \n",
       "374               515            5  ...                       0   \n",
       "375               515            5  ...                       0   \n",
       "\n",
       "     t3_mountain_temple_stars  t3_temple_stars  t3_road_conection_stars  \\\n",
       "0                           2                0                        0   \n",
       "18                          0                0                        0   \n",
       "19                          0                0                        0   \n",
       "20                          0                0                        0   \n",
       "21                          0                0                        0   \n",
       "..                        ...              ...                      ...   \n",
       "371                         0                0                        0   \n",
       "372                         0                0                        0   \n",
       "373                         0                0                        0   \n",
       "374                         0                0                        0   \n",
       "375                         0                0                        0   \n",
       "\n",
       "     t3_water_connection_stars  t3_warrior_stars  t3_tier-1_stars  \\\n",
       "0                            0                 6                5   \n",
       "18                           2                 6                5   \n",
       "19                           2                 6                5   \n",
       "20                           2                 6                5   \n",
       "21                           2                 6                5   \n",
       "..                         ...               ...              ...   \n",
       "371                          2                 6                5   \n",
       "372                          2                 6                5   \n",
       "373                          2                 6                5   \n",
       "374                          2                 6                5   \n",
       "375                          2                 6                5   \n",
       "\n",
       "     t3_tier-1_cost  t3_tier-2_stars  t3_tier-3_stars  \n",
       "0                 5                6                7  \n",
       "18                5                6                7  \n",
       "19                5                6                7  \n",
       "20                5                6                7  \n",
       "21                5                6                7  \n",
       "..              ...              ...              ...  \n",
       "371               5                6                7  \n",
       "372               5                6                7  \n",
       "373               5                6                7  \n",
       "374               5                6                7  \n",
       "375               5                6                7  \n",
       "\n",
       "[359 rows x 182 columns]"
      ],
      "text/html": "<div>\n<style scoped>\n    .dataframe tbody tr th:only-of-type {\n        vertical-align: middle;\n    }\n\n    .dataframe tbody tr th {\n        vertical-align: top;\n    }\n\n    .dataframe thead th {\n        text-align: right;\n    }\n</style>\n<table border=\"1\" class=\"dataframe\">\n  <thead>\n    <tr style=\"text-align: right;\">\n      <th></th>\n      <th>start_warrior</th>\n      <th>start_level-1</th>\n      <th>start_tier-1</th>\n      <th>start_claimed</th>\n      <th>start_revealed</th>\n      <th>start_hunting</th>\n      <th>start_Bardur</th>\n      <th>start_raw_score</th>\n      <th>start_full_score</th>\n      <th>start_stars</th>\n      <th>...</th>\n      <th>t3_forest_temple_stars</th>\n      <th>t3_mountain_temple_stars</th>\n      <th>t3_temple_stars</th>\n      <th>t3_road_conection_stars</th>\n      <th>t3_water_connection_stars</th>\n      <th>t3_warrior_stars</th>\n      <th>t3_tier-1_stars</th>\n      <th>t3_tier-1_cost</th>\n      <th>t3_tier-2_stars</th>\n      <th>t3_tier-3_stars</th>\n    </tr>\n  </thead>\n  <tbody>\n    <tr>\n      <th>0</th>\n      <td>1</td>\n      <td>1</td>\n      <td>1</td>\n      <td>9</td>\n      <td>25</td>\n      <td>1</td>\n      <td>1</td>\n      <td>390</td>\n      <td>515</td>\n      <td>5</td>\n      <td>...</td>\n      <td>0</td>\n      <td>2</td>\n      <td>0</td>\n      <td>0</td>\n      <td>0</td>\n      <td>6</td>\n      <td>5</td>\n      <td>5</td>\n      <td>6</td>\n      <td>7</td>\n    </tr>\n    <tr>\n      <th>18</th>\n      <td>1</td>\n      <td>1</td>\n      <td>1</td>\n      <td>9</td>\n      <td>25</td>\n      <td>1</td>\n      <td>1</td>\n      <td>390</td>\n      <td>515</td>\n      <td>5</td>\n      <td>...</td>\n      <td>0</td>\n      <td>0</td>\n      <td>0</td>\n      <td>0</td>\n      <td>2</td>\n      <td>6</td>\n      <td>5</td>\n      <td>5</td>\n      <td>6</td>\n      <td>7</td>\n    </tr>\n    <tr>\n      <th>19</th>\n      <td>1</td>\n      <td>1</td>\n      <td>1</td>\n      <td>9</td>\n      <td>25</td>\n      <td>1</td>\n      <td>1</td>\n      <td>390</td>\n      <td>515</td>\n      <td>5</td>\n      <td>...</td>\n      <td>0</td>\n      <td>0</td>\n      <td>0</td>\n      <td>0</td>\n      <td>2</td>\n      <td>6</td>\n      <td>5</td>\n      <td>5</td>\n      <td>6</td>\n      <td>7</td>\n    </tr>\n    <tr>\n      <th>20</th>\n      <td>1</td>\n      <td>1</td>\n      <td>1</td>\n      <td>9</td>\n      <td>25</td>\n      <td>1</td>\n      <td>1</td>\n      <td>390</td>\n      <td>515</td>\n      <td>5</td>\n      <td>...</td>\n      <td>0</td>\n      <td>0</td>\n      <td>0</td>\n      <td>0</td>\n      <td>2</td>\n      <td>6</td>\n      <td>5</td>\n      <td>5</td>\n      <td>6</td>\n      <td>7</td>\n    </tr>\n    <tr>\n      <th>21</th>\n      <td>1</td>\n      <td>1</td>\n      <td>1</td>\n      <td>9</td>\n      <td>25</td>\n      <td>1</td>\n      <td>1</td>\n      <td>390</td>\n      <td>515</td>\n      <td>5</td>\n      <td>...</td>\n      <td>0</td>\n      <td>0</td>\n      <td>0</td>\n      <td>0</td>\n      <td>2</td>\n      <td>6</td>\n      <td>5</td>\n      <td>5</td>\n      <td>6</td>\n      <td>7</td>\n    </tr>\n    <tr>\n      <th>...</th>\n      <td>...</td>\n      <td>...</td>\n      <td>...</td>\n      <td>...</td>\n      <td>...</td>\n      <td>...</td>\n      <td>...</td>\n      <td>...</td>\n      <td>...</td>\n      <td>...</td>\n      <td>...</td>\n      <td>...</td>\n      <td>...</td>\n      <td>...</td>\n      <td>...</td>\n      <td>...</td>\n      <td>...</td>\n      <td>...</td>\n      <td>...</td>\n      <td>...</td>\n      <td>...</td>\n    </tr>\n    <tr>\n      <th>371</th>\n      <td>1</td>\n      <td>1</td>\n      <td>1</td>\n      <td>9</td>\n      <td>25</td>\n      <td>1</td>\n      <td>1</td>\n      <td>390</td>\n      <td>515</td>\n      <td>5</td>\n      <td>...</td>\n      <td>0</td>\n      <td>0</td>\n      <td>0</td>\n      <td>0</td>\n      <td>2</td>\n      <td>6</td>\n      <td>5</td>\n      <td>5</td>\n      <td>6</td>\n      <td>7</td>\n    </tr>\n    <tr>\n      <th>372</th>\n      <td>1</td>\n      <td>1</td>\n      <td>1</td>\n      <td>9</td>\n      <td>25</td>\n      <td>1</td>\n      <td>1</td>\n      <td>390</td>\n      <td>515</td>\n      <td>5</td>\n      <td>...</td>\n      <td>0</td>\n      <td>0</td>\n      <td>0</td>\n      <td>0</td>\n      <td>2</td>\n      <td>6</td>\n      <td>5</td>\n      <td>5</td>\n      <td>6</td>\n      <td>7</td>\n    </tr>\n    <tr>\n      <th>373</th>\n      <td>1</td>\n      <td>1</td>\n      <td>1</td>\n      <td>9</td>\n      <td>25</td>\n      <td>1</td>\n      <td>1</td>\n      <td>390</td>\n      <td>515</td>\n      <td>5</td>\n      <td>...</td>\n      <td>0</td>\n      <td>0</td>\n      <td>0</td>\n      <td>0</td>\n      <td>2</td>\n      <td>6</td>\n      <td>5</td>\n      <td>5</td>\n      <td>6</td>\n      <td>7</td>\n    </tr>\n    <tr>\n      <th>374</th>\n      <td>1</td>\n      <td>1</td>\n      <td>1</td>\n      <td>9</td>\n      <td>25</td>\n      <td>1</td>\n      <td>1</td>\n      <td>390</td>\n      <td>515</td>\n      <td>5</td>\n      <td>...</td>\n      <td>0</td>\n      <td>0</td>\n      <td>0</td>\n      <td>0</td>\n      <td>2</td>\n      <td>6</td>\n      <td>5</td>\n      <td>5</td>\n      <td>6</td>\n      <td>7</td>\n    </tr>\n    <tr>\n      <th>375</th>\n      <td>1</td>\n      <td>1</td>\n      <td>1</td>\n      <td>9</td>\n      <td>25</td>\n      <td>1</td>\n      <td>1</td>\n      <td>390</td>\n      <td>515</td>\n      <td>5</td>\n      <td>...</td>\n      <td>0</td>\n      <td>0</td>\n      <td>0</td>\n      <td>0</td>\n      <td>2</td>\n      <td>6</td>\n      <td>5</td>\n      <td>5</td>\n      <td>6</td>\n      <td>7</td>\n    </tr>\n  </tbody>\n</table>\n<p>359 rows × 182 columns</p>\n</div>"
     },
     "metadata": {},
     "execution_count": 4
    }
   ],
   "source": [
    "cleaned"
   ]
  },
  {
   "cell_type": "code",
   "execution_count": 6,
   "metadata": {
    "tags": []
   },
   "outputs": [
    {
     "output_type": "stream",
     "name": "stdout",
     "text": [
      "Start:\n  Common:\n   warrior: 1\n   tier-1: 1\n   claimed: 9\n   revealed: 25\n   hunting: 1\n   Bardur: 1\n   tier-1 stars: 5\n   tier-1 cost: 5\n   tier-2 stars: 6\n   tier-3 stars: 7\nTurn 0:\n  Common:\n   warrior: 1\n   population: 2\n   tier-1: 1\n   claimed: 9\n   revealed: 25\n   claimed cst: 1\n   hunting: 1\n   Bardur: 1\n   level-2 spt: 1\n   level-2 count: 1\n   tier-1 stars: 5\n   tier-1 cost: 5\n   tier-2 stars: 6\n   tier-3 stars: 7\nTurn 1:\n  Common:\n   warrior: 2\n   population: 2\n   tier-1: 1\n   claimed: 9\n   revealed: 30\n   claimed cst: 1\n   hunting: 1\n   Bardur: 1\n   level-2 spt: 1\n   level-2 count: 1\n   tier-1 stars: 5\n   tier-1 cost: 5\n   tier-2 stars: 6\n   tier-3 stars: 7\nTurn 2:\n  Common:\n   warrior: 3\n   population: 2\n   tier-1: 1\n   claimed: 9\n   revealed: 35\n   claimed cst: 1\n   hunting: 1\n   Bardur: 1\n   level-2 spt: 1\n   level-2 count: 1\n   tier-1 stars: 5\n   tier-1 cost: 5\n   tier-2 stars: 6\n   tier-3 stars: 7\nTurn 3:\n  Common:\n   warrior: 3\n   population: 2\n   tier-1: 1\n   claimed: 9\n   revealed: 42\n   claimed cst: 1\n   hunting: 1\n   Bardur: 1\n   level-2 spt: 1\n   level-2 count: 1\n   tier-1 stars: 5\n   tier-1 cost: 5\n   tier-2 stars: 6\n   tier-3 stars: 7\n"
     ]
    }
   ],
   "source": [
    "def printScenario(full_df):\n",
    "    regex = getScenarioRegex()\n",
    "    selected_columns = [u for u in full_df.columns if sum(re.search(r, u) is not None for r in regex) != 0]\n",
    "    #print(selected_columns)\n",
    "    df = full_df[selected_columns]\n",
    "    identical_columns = list(filter(lambda x: len(df[x].unique()) == 1, selected_columns))\n",
    "    different_columns = list(filter(lambda x: len(df[x].unique()) != 1, selected_columns))\n",
    "    turns = list(set(map(lambda u: u.split(\"_\")[0], selected_columns)))\n",
    "    for turn_i in sorted(turns):\n",
    "        turn_string = (\"Turn \" + turn_i[1:] + \":\" if turn_i.startswith(\"t\") else \"Start:\")\n",
    "        print(turn_string)\n",
    "        print(\"  Common:\")\n",
    "        for element in identical_columns:\n",
    "            # print(df[element].iloc[0])\n",
    "            if element.startswith(turn_i) and df[element].iloc[0] != 0:\n",
    "                print(\"   \" + \" \".join(element.split(\"_\")[1:]) + \": \" + str(df[element].iloc[0]))\n",
    "        if sum(e.startswith(turn_i) for e in different_columns) > 0:\n",
    "            for i, row in df.iterrows():\n",
    "                print(\" Scenario \" + str(i) + \":\")\n",
    "                print(\"  Specific:\")\n",
    "                for element in different_columns:\n",
    "                    if element.startswith(turn_i):\n",
    "                        print(\"   \" + \" \".join(element.split(\"_\")[1:]) + \": \" + str(row[element]))\n",
    "printScenario(cleaned)"
   ]
  },
  {
   "cell_type": "code",
   "execution_count": 6,
   "metadata": {},
   "outputs": [],
   "source": [
    "variants = printVariants(cleaned)"
   ]
  },
  {
   "cell_type": "code",
   "execution_count": 36,
   "metadata": {},
   "outputs": [
    {
     "output_type": "execute_result",
     "data": {
      "text/plain": [
       "0    1\n",
       "Name: start_warrior, dtype: int64"
      ]
     },
     "metadata": {},
     "execution_count": 36
    }
   ],
   "source": [
    "x['start_warrior'].head(1)"
   ]
  },
  {
   "cell_type": "code",
   "execution_count": null,
   "metadata": {},
   "outputs": [],
   "source": [
    "variants"
   ]
  },
  {
   "cell_type": "code",
   "execution_count": null,
   "metadata": {},
   "outputs": [],
   "source": [
    "# def prettyPrint(variants):\n",
    "#     turns = list(set(map(lambda u: u[0].split(\"_\")[0], variants)))\n",
    "#     for turn_i in turns:\n",
    "#         turn_string = (\"Turn \" + turn_i[1:] + \":\" if turn_i.startswith(\"t\") else \"Start:\")\n",
    "#         print(turn_string)\n",
    "#         for element, value in map(lambda u: (\" \".join(u[0].split(\"_\")[1:]), u[1]), filter(lambda u: u[0].startswith(turn_i), # variants)):\n",
    "#             print(element + \":\", \", \".join(map(lambda u: str(u), value)))\n",
    "# prettyPrint(variants)"
   ]
  },
  {
   "cell_type": "code",
   "execution_count": null,
   "metadata": {},
   "outputs": [],
   "source": [
    "printValueList(cleaned)"
   ]
  },
  {
   "cell_type": "code",
   "execution_count": 4,
   "metadata": {},
   "outputs": [
    {
     "output_type": "stream",
     "name": "stdout",
     "text": [
      "start_warrior 1 [1]\nstart_level-1 1 [1]\nstart_tier-1 1 [1]\nstart_claimed 1 [9]\nstart_revealed 1 [25]\nstart_hunting 1 [1]\nstart_Bardur 1 [1]\nstart_raw_score 1 [390]\nstart_full_score 1 [515]\nstart_stars 1 [5]\nstart_spt 1 [2]\nt0_warrior 1 [1]\nt0_level-1 1 [1]\nt0_level-2 1 [1]\nt0_population 1 [2]\nt0_tier-1 1 [1]\nt0_claimed 1 [9]\nt0_revealed 1 [25]\nt0_claimed_cst 1 [1]\nt0_hunting 1 [1]\nt0_Bardur 1 [1]\nt0_raw_score 1 [440]\nt0_full_score 1 [565]\nt0_level-2_spt 1 [1]\nt0_level-2_count 1 [1]\nt0_pop_min 1 [2]\nt0_pop_max 1 [4]\nt0_animal 1 [2]\nt0_stars 1 [5]\nt0_spt 1 [2]\nt1_warrior 2 [2 1]\nt1_level-1 1 [1]\nt1_level-2 1 [1]\nt1_population 2 [2 4]\nt1_tier-1 1 [1]\nt1_claimed 1 [9]\nt1_revealed 1 [30]\nt1_claimed_cst 1 [1]\nt1_hunting 1 [1]\nt1_Bardur 1 [1]\nt1_raw_score 1 [450]\nt1_full_score 1 [600]\nt1_level-2_spt 1 [1]\nt1_level-2_count 1 [1]\nt1_pop_min 1 [2]\nt1_pop_max 1 [4]\nt1_animal 2 [2 4]\nt1_stars 1 [5]\nt1_spt 1 [2]\nt2_warrior 2 [3 2]\nt2_level-1 1 [1]\nt2_level-2 1 [1]\nt2_population 2 [2 4]\nt2_tier-1 1 [1]\nt2_claimed 1 [9]\nt2_revealed 1 [35]\nt2_claimed_cst 1 [1]\nt2_hunting 1 [1]\nt2_Bardur 1 [1]\nt2_raw_score 1 [460]\nt2_full_score 1 [635]\nt2_level-2_spt 1 [1]\nt2_level-2_count 1 [1]\nt2_pop_min 1 [2]\nt2_pop_max 1 [4]\nt2_animal 2 [2 4]\nt2_stars 1 [5]\nt2_spt 1 [2]\nt3_warrior 2 [3 2]\nt3_level-1 1 [1]\nt3_level-2 1 [1]\nt3_population 2 [2 4]\nt3_tier-1 1 [1]\nt3_claimed 1 [9]\nt3_revealed 1 [42]\nt3_claimed_cst 1 [1]\nt3_hunting 1 [1]\nt3_Bardur 1 [1]\nt3_raw_score 1 [460]\nt3_full_score 1 [670]\nt3_level-2_spt 1 [1]\nt3_level-2_count 1 [1]\nt3_pop_min 1 [2]\nt3_pop_max 1 [4]\nt3_animal 2 [2 4]\nt3_stars 1 [5]\nt3_spt 1 [2]\n"
     ]
    },
    {
     "output_type": "execute_result",
     "data": {
      "text/plain": [
       "512"
      ]
     },
     "metadata": {},
     "execution_count": 4
    }
   ],
   "source": [
    "printValueList(x)"
   ]
  },
  {
   "cell_type": "code",
   "execution_count": null,
   "metadata": {},
   "outputs": [],
   "source": [
    "{\n",
    "\t\t\"name\": \"water_temple\",\n",
    "\t\t\"cost\": 20,\n",
    "\t\t\"pop\": 1,\n",
    "\t\t\"requires\": \"acquatism\"\n",
    "\t},{\n",
    "\t\t\"name\": \"forest_temple\",\n",
    "\t\t\"cost\": 20,\n",
    "\t\t\"pop\": 1,\n",
    "\t\t\"requires\": \"spiritualism\"\n",
    "\t},{\n",
    "\t\t\"name\": \"mountain_temple\",\n",
    "\t\t\"cost\": 20,\n",
    "\t\t\"pop\": 1,\n",
    "\t\t\"requires\": \"meditation\"\n",
    "\t},{\n",
    "\t\t\"name\": \"temple\",\n",
    "\t\t\"cost\": 20,\n",
    "\t\t\"pop\": 1,\n",
    "\t\t\"requires\": \"free spirit\"\n",
    "\t},{\n",
    "\t\t\"name\": \"road_conection\",\n",
    "\t\t\"cost\": 0,\n",
    "\t\t\"pop\": 2,\n",
    "\t\t\"requires\": \"roads\"\n",
    "\t},{\n",
    "\t\t\"name\": \"water_connection\",\n",
    "\t\t\"cost\": 0,\n",
    "\t\t\"pop\": 2,\n",
    "\t\t\"requires\": \"sailing\"\n",
    "\t}"
   ]
  }
 ]
}