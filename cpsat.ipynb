{
 "metadata": {
  "language_info": {
   "codemirror_mode": {
    "name": "ipython",
    "version": 3
   },
   "file_extension": ".py",
   "mimetype": "text/x-python",
   "name": "python",
   "nbconvert_exporter": "python",
   "pygments_lexer": "ipython3",
   "version": "3.7.6-final"
  },
  "orig_nbformat": 2,
  "kernelspec": {
   "name": "Python 3.7.6 64-bit ('base': conda)",
   "display_name": "Python 3.7.6 64-bit ('base': conda)",
   "metadata": {
    "interpreter": {
     "hash": "e134e05457d34029b6460cd73bbf1ed73f339b5b6d98c95be70b69eba114fe95"
    }
   }
  }
 },
 "nbformat": 4,
 "nbformat_minor": 2,
 "cells": [
  {
   "cell_type": "code",
   "execution_count": null,
   "metadata": {},
   "outputs": [],
   "source": [
    "from utils import *"
   ]
  },
  {
   "cell_type": "code",
   "execution_count": null,
   "metadata": {},
   "outputs": [],
   "source": [
    "from __future__ import absolute_import\n",
    "from __future__ import division\n",
    "from __future__ import print_function\n",
    "\n",
    "import json\n",
    "import pandas as pd\n",
    "\n",
    "from ortools.sat.python import cp_model\n",
    "from ortools.sat.python.cp_model import _SumArray"
   ]
  },
  {
   "cell_type": "code",
   "execution_count": null,
   "metadata": {},
   "outputs": [],
   "source": [
    "values = getValues()\n",
    "techs = getTechs()\n",
    "tribes = getTribes()"
   ]
  },
  {
   "cell_type": "code",
   "execution_count": null,
   "metadata": {},
   "outputs": [],
   "source": [
    "class GameState:\n",
    "    turn = -1\n",
    "    player = \"\"\n",
    "    game = \"\"\n",
    "    parent_state = None\n",
    "    techs = {}\n",
    "    previous_techs = {}\n",
    "    vars = []\n",
    "    tribe = \"\"\n",
    "    cities = [] # \n",
    "    child_states = [] # GameStates\n",
    "    raw_score = None\n",
    "    full_score = None\n",
    "    model = None\n",
    "    solutions = None\n",
    "\n",
    "    def __init__(self, turn, parent_state=None, previous_tech={}):\n",
    "        self.turn = turn\n",
    "        self.model = cp_model.CpModel()\n",
    "        self.parent_state = parent_sate\n",
    "        self.previous_tech = previous_tech\n",
    "\n",
    "    def computeEndScore(self):\n",
    "        self.\n",
    "\n",
    "    def __repr__(self):\n",
    "        return \"GameState\"\n",
    "    \n",
    "    def __str__(self):\n",
    "        return \"GameState turn %d, player %s\" % (self.turn, self.player, self.game)\n",
    "\n",
    "class Player:\n",
    "    \n",
    "    initialGameState = []\n",
    "\n",
    "    def addScore(self):\n",
    "        if len(initialGameState):\n",
    "            pass\n",
    "        pass\n",
    "\n",
    "    def addTech(self):\n",
    "        pass\n",
    "\n",
    "    def addTribe(self, tribe):\n",
    "        data = getTribe()[tribe]\n",
    "        pass"
   ]
  },
  {
   "cell_type": "code",
   "execution_count": null,
   "metadata": {},
   "outputs": [],
   "source": [
    "g = GameState()\n"
   ]
  },
  {
   "cell_type": "code",
   "execution_count": null,
   "metadata": {
    "tags": []
   },
   "outputs": [],
   "source": [
    "def solve(raw_score, full_score):\n",
    "    model = cp_model.CpModel()\n",
    "    eq_dict, sym_dict = addAllVars(model, values)\n",
    "\n",
    "    buildScoreConstraint(model, eq_dict, full_score, True)\n",
    "    buildScoreConstraint(model, eq_dict, raw_score, False)\n",
    "    model.Add(_SumArray([sym_dict[e] for e in values['units'].keys()]) < 20)\n",
    "\n",
    "\n",
    "    solver = cp_model.CpSolver()\n",
    "    solution_printer = DataFrameSolutionAggregator(sym_dict.values())\n",
    "    status = solver.SearchForAllSolutions(model, solution_printer)\n",
    "    return solution_printer"
   ]
  },
  {
   "cell_type": "code",
   "execution_count": null,
   "metadata": {},
   "outputs": [],
   "source": [
    "# superb_ruin\n",
    "scores = [\n",
    "    ([515, 515], []),\n",
    "    ([565, 565], [440, 440]),\n",
    "    ([590, 600], [450, 450]),\n",
    "    ([855, 635], [700, 460]),\n",
    "    ([1385, 670], [1230, 460]),\n",
    "    ([1860, 1215], [1700, 990]),\n",
    "    ([2230, 1815], [2010, 1530])\n",
    "]"
   ]
  },
  {
   "cell_type": "code",
   "execution_count": null,
   "metadata": {},
   "outputs": [],
   "source": [
    "player_scores = [\n",
    "    [565, 440],\n",
    "    [590, 450],\n",
    "    [855, 700],\n",
    "    [1385, 1230],\n",
    "    [1860, 1700],\n",
    "    [2230, 2010]\n",
    "]"
   ]
  },
  {
   "cell_type": "code",
   "execution_count": null,
   "metadata": {},
   "outputs": [],
   "source": [
    "player_2_scores = [\n",
    "    [565, 440],\n",
    "    [600, 450],\n",
    "    [635, 460],\n",
    "    [670, 460],\n",
    "    [1215, 990],\n",
    "    [1815, 1530]\n",
    "]"
   ]
  },
  {
   "cell_type": "code",
   "execution_count": null,
   "metadata": {},
   "outputs": [],
   "source": [
    "def divide_scores(scores):\n",
    "\n",
    "\n",
    "    return selected_scores + divide_score(scores[1:])"
   ]
  },
  {
   "cell_type": "code",
   "execution_count": null,
   "metadata": {},
   "outputs": [],
   "source": [
    "for i in range(len(player_scores) - 1):\n",
    "    raw_delta = player_scores[i + 1][1] - player_scores[i][1]\n",
    "    full_delta = player_scores[i + 1][0] - player_scores[i][0]\n",
    "    print(full_delta, raw_delta)\n",
    "    # sp = solve(raw_score=raw_delta, full_score=full_delta)\n",
    "    # print(sp.get_data_frame().to_string())"
   ]
  },
  {
   "cell_type": "code",
   "execution_count": null,
   "metadata": {},
   "outputs": [],
   "source": [
    "print(sp.get_data_frame())"
   ]
  },
  {
   "source": [
    "# Equations: \n",
    "\n",
    "full score = score(units) + score(tech) + score(city) + score(vision)\n",
    "\n",
    "raw score =  score(units) + score(tech) + score(city)\n",
    "\n",
    "'remaining stars + spt + extra stars = stars(units) + stars(tech) + star(building)'"
   ],
   "cell_type": "markdown",
   "metadata": {}
  },
  {
   "cell_type": "code",
   "execution_count": 1,
   "metadata": {},
   "outputs": [
    {
     "output_type": "stream",
     "name": "stdout",
     "text": [
      "Solve status: OPTIMAL\n"
     ]
    }
   ],
   "source": [
    "import re\n",
    "from utils import * \n",
    "model = cp_model.CpModel()\n",
    "\n",
    "past_turn = None\n",
    "dictionnaries = {}\n",
    "scores = {\n",
    "    \"start\": [515, 390],\n",
    "    \"t0\": [565, 440],\n",
    "    \"t1\": [600, 450],\n",
    "    \"t2\": [635, 460],\n",
    "    \"t3\": [670, 460],\n",
    "    \"t4\": [1215, 990],\n",
    "    \"t5\": [1815, 1530]\n",
    "}\n",
    "\n",
    "for turn in [\"start\", \"t0\", \"t1\", \"t2\", \"t3\"]:#, \"t4\", \"t5\"]:\n",
    "    dictionnaries[turn] = buildDictionnaries(model, turn)\n",
    "    full_score = scores[turn][0] \n",
    "    raw_score = scores[turn][1]\n",
    "\n",
    "    buildAllConstraints(model, turn, dictionnaries)\n",
    "\n",
    "    setRawScore(model, turn, dictionnaries[turn]['scores'], raw_score)\n",
    "    setFullScore(model, turn, dictionnaries[turn]['scores'], full_score)\n",
    "    setTribe(model, turn, \"Bardur\", dictionnaries[turn]['tribes'])\n",
    "\n",
    "    linkTurns(model, turn, dictionnaries)\n",
    "    addInitialState(model, turn, dictionnaries)\n",
    "    past_turn = turn\n",
    "\n",
    "\n",
    "solver = cp_model.CpSolver()\n",
    "output_variables = list([h for b, j in dictionnaries.items() for a,i in j.items() for h in i.values() if a != \"equations\"])\n",
    "solution_printer = DataFrameSolutionAggregator(output_variables)\n",
    "status = solver.SearchForAllSolutions(model, solution_printer)\n",
    "print('Solve status: %s' % solver.StatusName(status))"
   ]
  },
  {
   "cell_type": "code",
   "execution_count": 2,
   "metadata": {},
   "outputs": [],
   "source": [
    "x = solution_printer.get_data_frame()"
   ]
  },
  {
   "cell_type": "code",
   "execution_count": 3,
   "metadata": {},
   "outputs": [],
   "source": [
    "df = x.copy()"
   ]
  },
  {
   "cell_type": "code",
   "execution_count": 4,
   "metadata": {},
   "outputs": [],
   "source": [
    "cleaned = chooseBestSolution(x.copy())"
   ]
  },
  {
   "cell_type": "code",
   "execution_count": 5,
   "metadata": {},
   "outputs": [
    {
     "output_type": "execute_result",
     "data": {
      "text/plain": [
       "   start_warrior  start_level-1  start_tier-1  start_claimed  start_revealed  \\\n",
       "0              1              1             1              9              25   \n",
       "1              1              1             1              9              25   \n",
       "2              1              1             1              9              25   \n",
       "\n",
       "   start_hunting  start_Bardur  start_raw_score  start_full_score  t0_warrior  \\\n",
       "0              1             1              390               515           1   \n",
       "1              1             1              390               515           1   \n",
       "2              1             1              390               515           1   \n",
       "\n",
       "   ...  t3_Bardur  t3_raw_score  t3_full_score  t3_ruin  t3_ruin_giant  \\\n",
       "0  ...          1           460            670        0              0   \n",
       "1  ...          1           460            670        0              0   \n",
       "2  ...          1           460            670        0              0   \n",
       "\n",
       "   t3_ruin_stars  t3_level-2_spt  t3_level-2_count  t3_population_min  \\\n",
       "0              0               1                 1                  2   \n",
       "1              0               1                 1                  2   \n",
       "2              0               1                 1                  2   \n",
       "\n",
       "   t3_population_max  \n",
       "0                  4  \n",
       "1                  4  \n",
       "2                  4  \n",
       "\n",
       "[3 rows x 87 columns]"
      ],
      "text/html": "<div>\n<style scoped>\n    .dataframe tbody tr th:only-of-type {\n        vertical-align: middle;\n    }\n\n    .dataframe tbody tr th {\n        vertical-align: top;\n    }\n\n    .dataframe thead th {\n        text-align: right;\n    }\n</style>\n<table border=\"1\" class=\"dataframe\">\n  <thead>\n    <tr style=\"text-align: right;\">\n      <th></th>\n      <th>start_warrior</th>\n      <th>start_level-1</th>\n      <th>start_tier-1</th>\n      <th>start_claimed</th>\n      <th>start_revealed</th>\n      <th>start_hunting</th>\n      <th>start_Bardur</th>\n      <th>start_raw_score</th>\n      <th>start_full_score</th>\n      <th>t0_warrior</th>\n      <th>...</th>\n      <th>t3_Bardur</th>\n      <th>t3_raw_score</th>\n      <th>t3_full_score</th>\n      <th>t3_ruin</th>\n      <th>t3_ruin_giant</th>\n      <th>t3_ruin_stars</th>\n      <th>t3_level-2_spt</th>\n      <th>t3_level-2_count</th>\n      <th>t3_population_min</th>\n      <th>t3_population_max</th>\n    </tr>\n  </thead>\n  <tbody>\n    <tr>\n      <th>0</th>\n      <td>1</td>\n      <td>1</td>\n      <td>1</td>\n      <td>9</td>\n      <td>25</td>\n      <td>1</td>\n      <td>1</td>\n      <td>390</td>\n      <td>515</td>\n      <td>1</td>\n      <td>...</td>\n      <td>1</td>\n      <td>460</td>\n      <td>670</td>\n      <td>0</td>\n      <td>0</td>\n      <td>0</td>\n      <td>1</td>\n      <td>1</td>\n      <td>2</td>\n      <td>4</td>\n    </tr>\n    <tr>\n      <th>1</th>\n      <td>1</td>\n      <td>1</td>\n      <td>1</td>\n      <td>9</td>\n      <td>25</td>\n      <td>1</td>\n      <td>1</td>\n      <td>390</td>\n      <td>515</td>\n      <td>1</td>\n      <td>...</td>\n      <td>1</td>\n      <td>460</td>\n      <td>670</td>\n      <td>0</td>\n      <td>0</td>\n      <td>0</td>\n      <td>1</td>\n      <td>1</td>\n      <td>2</td>\n      <td>4</td>\n    </tr>\n    <tr>\n      <th>2</th>\n      <td>1</td>\n      <td>1</td>\n      <td>1</td>\n      <td>9</td>\n      <td>25</td>\n      <td>1</td>\n      <td>1</td>\n      <td>390</td>\n      <td>515</td>\n      <td>1</td>\n      <td>...</td>\n      <td>1</td>\n      <td>460</td>\n      <td>670</td>\n      <td>0</td>\n      <td>0</td>\n      <td>0</td>\n      <td>1</td>\n      <td>1</td>\n      <td>2</td>\n      <td>4</td>\n    </tr>\n  </tbody>\n</table>\n<p>3 rows × 87 columns</p>\n</div>"
     },
     "metadata": {},
     "execution_count": 5
    }
   ],
   "source": [
    "cleaned"
   ]
  },
  {
   "cell_type": "code",
   "execution_count": 6,
   "metadata": {
    "tags": []
   },
   "outputs": [
    {
     "output_type": "stream",
     "name": "stdout",
     "text": [
      "Start:\n  Common:\n   warrior: 1\n   tier-1: 1\n   claimed: 9\n   revealed: 25\n   hunting: 1\n   Bardur: 1\nTurn 0:\n  Common:\n   warrior: 1\n   population: 2\n   tier-1: 1\n   claimed: 9\n   revealed: 25\n   claimed cst: 1\n   hunting: 1\n   Bardur: 1\n   level-2 spt: 1\n   level-2 count: 1\n   population min: 2\n   population max: 4\nTurn 1:\n  Common:\n   tier-1: 1\n   claimed: 9\n   revealed: 30\n   claimed cst: 1\n   hunting: 1\n   Bardur: 1\n   level-2 spt: 1\n   level-2 count: 1\n   population min: 2\n   population max: 4\n Scenario 0:\n  Specific:\n   warrior: 2\n   population: 2\n Scenario 1:\n  Specific:\n   warrior: 2\n   population: 2\n Scenario 2:\n  Specific:\n   warrior: 1\n   population: 4\nTurn 2:\n  Common:\n   tier-1: 1\n   claimed: 9\n   revealed: 35\n   claimed cst: 1\n   hunting: 1\n   Bardur: 1\n   level-2 spt: 1\n   level-2 count: 1\n   population min: 2\n   population max: 4\n Scenario 0:\n  Specific:\n   warrior: 3\n   population: 2\n Scenario 1:\n  Specific:\n   warrior: 2\n   population: 4\n Scenario 2:\n  Specific:\n   warrior: 2\n   population: 4\nTurn 3:\n  Common:\n   tier-1: 1\n   claimed: 9\n   revealed: 42\n   claimed cst: 1\n   hunting: 1\n   Bardur: 1\n   level-2 spt: 1\n   level-2 count: 1\n   population min: 2\n   population max: 4\n Scenario 0:\n  Specific:\n   warrior: 3\n   population: 2\n Scenario 1:\n  Specific:\n   warrior: 2\n   population: 4\n Scenario 2:\n  Specific:\n   warrior: 2\n   population: 4\n"
     ]
    }
   ],
   "source": [
    "def printScenario(full_df):\n",
    "    regex = getScenarioRegex()\n",
    "    selected_columns = [u for u in full_df.columns if sum(re.search(r, u) is not None for r in regex) != 0]\n",
    "    #print(selected_columns)\n",
    "    df = full_df[selected_columns]\n",
    "    identical_columns = list(filter(lambda x: len(df[x].unique()) == 1, selected_columns))\n",
    "    different_columns = list(filter(lambda x: len(df[x].unique()) != 1, selected_columns))\n",
    "    turns = list(set(map(lambda u: u.split(\"_\")[0], selected_columns)))\n",
    "    for turn_i in sorted(turns):\n",
    "        turn_string = (\"Turn \" + turn_i[1:] + \":\" if turn_i.startswith(\"t\") else \"Start:\")\n",
    "        print(turn_string)\n",
    "        print(\"  Common:\")\n",
    "        for element in identical_columns:\n",
    "            if element.startswith(turn_i) and df.loc[0, element] != 0:\n",
    "                print(\"   \" + \" \".join(element.split(\"_\")[1:]) + \": \" + str(df.loc[0, element]))\n",
    "        if sum(e.startswith(turn_i) for e in different_columns) > 0:\n",
    "            for i, row in df.iterrows():\n",
    "                print(\" Scenario \" + str(i) + \":\")\n",
    "                print(\"  Specific:\")\n",
    "                for element in different_columns:\n",
    "                    if element.startswith(turn_i):\n",
    "                        print(\"   \" + \" \".join(element.split(\"_\")[1:]) + \": \" + str(row[element]))\n",
    "printScenario(cleaned)"
   ]
  },
  {
   "cell_type": "code",
   "execution_count": 9,
   "metadata": {},
   "outputs": [
    {
     "output_type": "stream",
     "name": "stdout",
     "text": [
      "t1_warrior 2 [2 1]\nt1_population 2 [2 4]\nt2_warrior 2 [3 2]\nt2_population 2 [2 4]\nt3_warrior 2 [3 2]\nt3_population 2 [2 4]\n"
     ]
    }
   ],
   "source": [
    "variants = printVariants(cleaned)"
   ]
  },
  {
   "cell_type": "code",
   "execution_count": 7,
   "metadata": {},
   "outputs": [
    {
     "output_type": "execute_result",
     "data": {
      "text/plain": [
       "[('t1_warrior', array([2, 1])),\n",
       " ('t1_population', array([2, 4])),\n",
       " ('t2_warrior', array([3, 2])),\n",
       " ('t2_population', array([2, 4])),\n",
       " ('t3_warrior', array([3, 2])),\n",
       " ('t3_population', array([2, 4]))]"
      ]
     },
     "metadata": {},
     "execution_count": 7
    }
   ],
   "source": [
    "variants"
   ]
  },
  {
   "cell_type": "code",
   "execution_count": 21,
   "metadata": {},
   "outputs": [
    {
     "output_type": "stream",
     "name": "stdout",
     "text": [
      "Turn 1:\nwarrior: 2, 1\npopulation: 2, 4\nTurn 2:\nwarrior: 3, 2\npopulation: 2, 4\nTurn 3:\nwarrior: 3, 2\npopulation: 2, 4\n"
     ]
    }
   ],
   "source": [
    "# def prettyPrint(variants):\n",
    "#     turns = list(set(map(lambda u: u[0].split(\"_\")[0], variants)))\n",
    "#     for turn_i in turns:\n",
    "#         turn_string = (\"Turn \" + turn_i[1:] + \":\" if turn_i.startswith(\"t\") else \"Start:\")\n",
    "#         print(turn_string)\n",
    "#         for element, value in map(lambda u: (\" \".join(u[0].split(\"_\")[1:]), u[1]), filter(lambda u: u[0].startswith(turn_i), # variants)):\n",
    "#             print(element + \":\", \", \".join(map(lambda u: str(u), value)))\n",
    "# prettyPrint(variants)"
   ]
  },
  {
   "cell_type": "code",
   "execution_count": 6,
   "metadata": {},
   "outputs": [
    {
     "output_type": "stream",
     "name": "stdout",
     "text": [
      "start_warrior 1 [1]\nstart_level-1 1 [1]\nstart_tier-1 1 [1]\nstart_claimed 1 [9]\nstart_revealed 1 [25]\nstart_hunting 1 [1]\nstart_Bardur 1 [1]\nstart_raw_score 1 [390]\nstart_full_score 1 [515]\nt0_warrior 1 [1]\nt0_level-1 1 [1]\nt0_level-2 1 [1]\nt0_population 1 [2]\nt0_tier-1 1 [1]\nt0_claimed 1 [9]\nt0_revealed 1 [25]\nt0_claimed_cst 1 [1]\nt0_hunting 1 [1]\nt0_Bardur 1 [1]\nt0_raw_score 1 [440]\nt0_full_score 1 [565]\nt0_ruin 1 [0]\nt0_ruin_stars 1 [0]\nt0_level-2_spt 1 [1]\nt0_level-2_count 1 [1]\nt0_population_min 1 [2]\nt0_population_max 1 [4]\nt1_warrior 2 [2 1]\nt1_giant 1 [0]\nt1_level-1 1 [1]\nt1_level-2 1 [1]\nt1_population 2 [2 4]\nt1_tier-1 1 [1]\nt1_claimed 1 [9]\nt1_revealed 1 [30]\nt1_claimed_cst 1 [1]\nt1_hunting 1 [1]\nt1_Bardur 1 [1]\nt1_raw_score 1 [450]\nt1_full_score 1 [600]\nt1_ruin 1 [0]\nt1_ruin_giant 1 [0]\nt1_ruin_stars 1 [0]\nt1_level-2_spt 1 [1]\nt1_level-2_count 1 [1]\nt1_population_min 1 [2]\nt1_population_max 1 [4]\nt2_warrior 2 [3 2]\nt2_giant 1 [0]\nt2_level-1 1 [1]\nt2_level-2 1 [1]\nt2_population 2 [2 4]\nt2_tier-1 1 [1]\nt2_claimed 1 [9]\nt2_revealed 1 [35]\nt2_claimed_cst 1 [1]\nt2_hunting 1 [1]\nt2_Bardur 1 [1]\nt2_raw_score 1 [460]\nt2_full_score 1 [635]\nt2_ruin 1 [0]\nt2_ruin_giant 1 [0]\nt2_ruin_stars 1 [0]\nt2_level-2_spt 1 [1]\nt2_level-2_count 1 [1]\nt2_population_min 1 [2]\nt2_population_max 1 [4]\nt3_warrior 2 [3 2]\nt3_giant 1 [0]\nt3_level-1 1 [1]\nt3_level-2 1 [1]\nt3_population 2 [2 4]\nt3_tier-1 1 [1]\nt3_claimed 1 [9]\nt3_revealed 1 [42]\nt3_claimed_cst 1 [1]\nt3_hunting 1 [1]\nt3_Bardur 1 [1]\nt3_raw_score 1 [460]\nt3_full_score 1 [670]\nt3_ruin 1 [0]\nt3_ruin_giant 1 [0]\nt3_ruin_stars 1 [0]\nt3_level-2_spt 1 [1]\nt3_level-2_count 1 [1]\nt3_population_min 1 [2]\nt3_population_max 1 [4]\n"
     ]
    },
    {
     "output_type": "execute_result",
     "data": {
      "text/plain": [
       "64"
      ]
     },
     "metadata": {},
     "execution_count": 6
    }
   ],
   "source": [
    "printValueList(cleaned)"
   ]
  },
  {
   "cell_type": "code",
   "execution_count": null,
   "metadata": {},
   "outputs": [],
   "source": [
    "printValueList(x)"
   ]
  },
  {
   "cell_type": "code",
   "execution_count": null,
   "metadata": {},
   "outputs": [],
   "source": []
  }
 ]
}