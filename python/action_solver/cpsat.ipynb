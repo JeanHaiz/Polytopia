{
 "metadata": {
  "language_info": {
   "codemirror_mode": {
    "name": "ipython",
    "version": 3
   },
   "file_extension": ".py",
   "mimetype": "text/x-python",
   "name": "python",
   "nbconvert_exporter": "python",
   "pygments_lexer": "ipython3",
   "version": "3.7.6"
  },
  "orig_nbformat": 2,
  "kernelspec": {
   "name": "python3",
   "display_name": "Python 3.7.6 64-bit (conda)"
  },
  "interpreter": {
   "hash": "e134e05457d34029b6460cd73bbf1ed73f339b5b6d98c95be70b69eba114fe95"
  }
 },
 "nbformat": 4,
 "nbformat_minor": 2,
 "cells": [
  {
   "cell_type": "code",
   "execution_count": null,
   "metadata": {},
   "outputs": [],
   "source": [
    "from utils import *"
   ]
  },
  {
   "cell_type": "code",
   "execution_count": null,
   "metadata": {},
   "outputs": [],
   "source": [
    "from __future__ import absolute_import\n",
    "from __future__ import division\n",
    "from __future__ import print_function\n",
    "\n",
    "import json\n",
    "import pandas as pd\n",
    "\n",
    "from ortools.sat.python import cp_model\n",
    "from ortools.sat.python.cp_model import _SumArray"
   ]
  },
  {
   "cell_type": "code",
   "execution_count": null,
   "metadata": {},
   "outputs": [],
   "source": []
  },
  {
   "cell_type": "code",
   "execution_count": null,
   "metadata": {
    "tags": []
   },
   "outputs": [],
   "source": [
    "def solve(full_score):\n",
    "    model = cp_model.CpModel()\n",
    "    eq_dict, sym_dict = addAllVars(turn)\n",
    "\n",
    "    buildScoreConstraint(model, eq_dict, full_score, True)\n",
    "    model.Add(_SumArray([sym_dict[e] for e in values['units'].keys()]) < 20)\n",
    "\n",
    "    solver = cp_model.CpSolver()\n",
    "    solution_printer = DataFrameSolutionAggregator(sym_dict.values())\n",
    "    status = solver.SearchForAllSolutions(model, solution_printer)\n",
    "    return solution_printer"
   ]
  },
  {
   "cell_type": "code",
   "execution_count": null,
   "metadata": {},
   "outputs": [],
   "source": [
    "# superb_ruin\n",
    "combined_scores = [\n",
    "    ([515, 515], [390, 390]),\n",
    "    ([565, 565], [440, 440]),\n",
    "    ([590, 600], [450, 450]),\n",
    "    ([855, 635], [700, 460]),\n",
    "    ([1385, 670], [1230, 460]),\n",
    "    ([1860, 1215], [1700, 990]),\n",
    "    ([2230, 1815], [2010, 1530])\n",
    "]"
   ]
  },
  {
   "source": [
    "from score_utils import *\n",
    "possible_score = getPossibleScores(combined_scores)\n",
    "len(possible_score)"
   ],
   "cell_type": "code",
   "metadata": {
    "tags": []
   },
   "execution_count": null,
   "outputs": []
  },
  {
   "cell_type": "code",
   "execution_count": null,
   "metadata": {},
   "outputs": [],
   "source": []
  },
  {
   "cell_type": "code",
   "execution_count": null,
   "metadata": {},
   "outputs": [],
   "source": [
    "possible_score"
   ]
  },
  {
   "cell_type": "code",
   "execution_count": null,
   "metadata": {},
   "outputs": [],
   "source": [
    "player_scores = [\n",
    "    [565, 440],\n",
    "    [590, 450],\n",
    "    [855, 700],\n",
    "    [1385, 1230],\n",
    "    [1860, 1700],\n",
    "    [2230, 2010]\n",
    "]"
   ]
  },
  {
   "cell_type": "code",
   "execution_count": null,
   "metadata": {},
   "outputs": [],
   "source": [
    "player_2_scores = [\n",
    "    [565, 440],\n",
    "    [600, 450],\n",
    "    [635, 460],\n",
    "    [670, 460],\n",
    "    [1215, 990],\n",
    "    [1815, 1530]\n",
    "]"
   ]
  },
  {
   "source": [
    "# Equations: \n",
    "\n",
    "full score = score(units) + score(tech) + score(city) + score(vision)\n",
    "\n",
    "raw score =  score(units) + score(tech) + score(city)\n",
    "\n",
    "'remaining stars + spt + extra stars = stars(units) + stars(tech) + star(building)'"
   ],
   "cell_type": "markdown",
   "metadata": {}
  },
  {
   "source": [
    "for v in list(dic.values()):\n",
    "    val = solver.Value(v)\n",
    "    if val != 0:\n",
    "        print(f'{v}: {val}')"
   ],
   "cell_type": "markdown",
   "metadata": {}
  },
  {
   "cell_type": "code",
   "execution_count": null,
   "metadata": {},
   "outputs": [],
   "source": [
    "scores = { # Bardur\n",
    "    \"start\": [515, None, None],\n",
    "    \"t0\": [565, 1, 6], # move, pop, pop, upgarde, end turn\n",
    "    \"t1\": [600, 11, 14], # move, train, end turn\n",
    "    \"t2\": [625, 18, 21], # move (on village), move, end turn\n",
    "    \"t3\": [1065, 31], # move, tech (org), capture, pop, pop, upgrade, end turn\n",
    "    \"t4\": [1215, 990],\n",
    "    \"t5\": [1815, 1530]\n",
    "}\n",
    "\n",
    "scores_bis = { # Yadakk\n",
    "    \"start\": [615, None, None],\n",
    "    \"t0\": [640, 6, 11], # road, move, train, end turn (see ruin? see village?)\n",
    "    \"t1\": [680, 14, 18], # move (on village), move, end turn, end turn (see village?)\n",
    "    \"t2\": [980, 21, 25], # move (on village), capture (workshop), end turn\n",
    "    \"t3\": [670, 460],\n",
    "    \"t4\": [1215, 990],\n",
    "    \"t5\": [1815, 1530]\n",
    "}"
   ]
  },
  {
   "cell_type": "code",
   "execution_count": null,
   "metadata": {},
   "outputs": [],
   "source": [
    "scores = {\n",
    "    \"start\": [515, 390],\n",
    "    \"t0\": [565, 440],\n",
    "    \"t1\": [600, 450],\n",
    "    \"t2\": [635, 460],\n",
    "    \"t3\": [670, 460],\n",
    "    \"t4\": [1215, 990],\n",
    "    \"t5\": [1815, 1530]\n",
    "}"
   ]
  },
  {
   "source": [
    "Moves\n",
    "\n",
    "- start turn\n",
    "\n",
    "- move\n",
    "\n",
    "- city upgrade\n",
    "\n",
    "- pop\n",
    "\n",
    "- road building\n",
    "\n",
    "- tech purchase\n",
    "\n",
    "- unit training\n",
    "\n",
    "- see ruin? see village? end turn?"
   ],
   "cell_type": "markdown",
   "metadata": {}
  },
  {
   "cell_type": "code",
   "execution_count": 1,
   "metadata": {},
   "outputs": [
    {
     "output_type": "stream",
     "name": "stdout",
     "text": [
      "Solve status: OPTIMAL\n"
     ]
    }
   ],
   "source": [
    "import re\n",
    "from ortools.sat.python import cp_model\n",
    "from SolutionAggregator import SolutionAggregator\n",
    "from utils import *\n",
    "from file_utils import *\n",
    "from constr_utils import buildAllConstraints\n",
    "\n",
    "import pandas as pd\n",
    "pd.set_option('display.max_columns', None)\n",
    "\n",
    "scores = { # Bardur\n",
    "    \"start\": [515, None, None],\n",
    "    \"t0\": [565, 1, 6], # move, pop, pop, upgarde, end turn\n",
    "    \"t1\": [600, 11, 14], # move, train, end turn\n",
    "    \"t2\": [625, 18, 21], # move (on village), move, end turn\n",
    "    \"t3\": [1065, 31], # move, tech (org), capture, pop, pop, upgrade, end turn\n",
    "    \"t4\": [1215, 990],\n",
    "    \"t5\": [1815, 1530]\n",
    "}\n",
    "stars = True\n",
    "moves = True\n",
    "turn_list = [\"start\", \"t0\", \"t1\", \"t2\"]#, \"t3\"]#, \"t4\", \"t5\"]\n",
    "for turn in turn_list:\n",
    "    buildDictionnaries(turn, stars, moves)\n",
    "    full_score = scores[turn][0]\n",
    "    \n",
    "    buildAllConstraints(turn, stars, moves)\n",
    "\n",
    "    setFullScore(turn, full_score)\n",
    "    if scores[turn][2] is not None:\n",
    "        deltaMoves = scores[turn][2] - scores[turn][1] - 1 # end turn action\n",
    "        setDeltaMoves(turn, deltaMoves)\n",
    "    \n",
    "    setTribe(turn, \"Bardur\")\n",
    "\n",
    "    addInitialState(turn, stars, moves)\n",
    "\n",
    "if True:\n",
    "    model.Add(dic[\"t0_revealed\"] == 25)\n",
    "    model.Add(dic[\"t1_giant\"] == 0)\n",
    "    model.Add(dic[\"t1_ruin\"] == 0)\n",
    "    model.Add(dic[\"t2_level-2_count\"] == 1)\n",
    "    model.Add(dic[\"t2_ruin\"] == 0)\n",
    "    model.Add(dic[\"t1_revealed\"] == 30 or dic[\"t1_revealed\"] == 28 or dic[\"t1_revealed\"] == 25)\n",
    "    model.Add(dic[\"t2_move_attack\"] == 0)\n",
    "\n",
    "# addSolution(turn)\n",
    "\n",
    "# model.Minimize(\n",
    "#     sum(\n",
    "#         get(turn, \"ruin\") +\n",
    "#         sum(get(turn, \"killed_\" + u) for u in getValues()['units'] if u != 'giant') \n",
    "#         for turn in turn_list))\n",
    "\n",
    "solver = cp_model.CpSolver()\n",
    "output_variables = list(dic.values())\n",
    "solution_printer = SolutionAggregator(output_variables)\n",
    "#status = solver.Solve(model)\n",
    "status = solver.SearchForAllSolutions(model, solution_printer)\n",
    "print('Solve status: %s' % solver.StatusName(status))"
   ]
  },
  {
   "source": [
    "move_move\n",
    "move_rider_bump\n",
    "move_training\n",
    "move_attack\n",
    "move_knight_chain\n",
    "move_tech_purchase\n",
    "move_road_building\n",
    "move_population\n",
    "move_city_upgrade\n",
    "move_city_capture\n",
    "move_move\n",
    "move_rider_bump\n",
    "move_training\n",
    "move_attack\n",
    "move_knight_chain\n",
    "move_tech_purchase\n",
    "move_road_building\n",
    "move_population\n",
    "move_city_upgrade\n",
    "move_city_capture"
   ],
   "cell_type": "markdown",
   "metadata": {}
  },
  {
   "cell_type": "code",
   "execution_count": 2,
   "metadata": {},
   "outputs": [
    {
     "output_type": "execute_result",
     "data": {
      "text/plain": [
       "(13, 123)"
      ]
     },
     "metadata": {},
     "execution_count": 2
    }
   ],
   "source": [
    "x = solution_printer.get_data_frame()\n",
    "x.shape"
   ]
  },
  {
   "source": [
    "TODO: on capture of a city, it is not possible to train\n",
    "\n",
    "t2_warrior should not be able to be 3"
   ],
   "cell_type": "markdown",
   "metadata": {}
  },
  {
   "source": [
    "c = dropColumns(x); print(c.shape); c\n",
    "#c[[d for d in c.columns if \"train\" in d]]"
   ],
   "cell_type": "code",
   "metadata": {},
   "execution_count": 3,
   "outputs": [
    {
     "output_type": "stream",
     "name": "stdout",
     "text": [
      "(13, 27)\n"
     ]
    },
    {
     "output_type": "execute_result",
     "data": {
      "text/plain": [
       "    t1_warrior  t1_population  t1_trained_warrior  t1_animal  t1_stars  \\\n",
       "0            2              2                   1          2         3   \n",
       "1            2              2                   1          2         3   \n",
       "2            2              2                   1          2         3   \n",
       "3            2              2                   1          2         3   \n",
       "4            2              2                   1          2         3   \n",
       "5            2              2                   1          2         3   \n",
       "6            2              2                   1          2         3   \n",
       "7            2              2                   1          2         3   \n",
       "8            2              2                   1          2         3   \n",
       "9            2              2                   1          2         3   \n",
       "10           2              2                   1          2         3   \n",
       "11           1              4                   0          4         1   \n",
       "12           1              4                   0          4         1   \n",
       "\n",
       "    t1_star_spending  t1_animal_stars  t1_warrior_stars  t1_unit_stars  \\\n",
       "0                  2                4                 2              2   \n",
       "1                  2                4                 2              2   \n",
       "2                  2                4                 2              2   \n",
       "3                  2                4                 2              2   \n",
       "4                  2                4                 2              2   \n",
       "5                  2                4                 2              2   \n",
       "6                  2                4                 2              2   \n",
       "7                  2                4                 2              2   \n",
       "8                  2                4                 2              2   \n",
       "9                  2                4                 2              2   \n",
       "10                 2                4                 2              2   \n",
       "11                 4                8                 0              0   \n",
       "12                 4                8                 0              0   \n",
       "\n",
       "    t1_pop_stars  t1_move_move  t1_move_training  t1_move_population  \\\n",
       "0              0             2                 1                   2   \n",
       "1              0             2                 1                   2   \n",
       "2              0             2                 1                   2   \n",
       "3              0             2                 1                   2   \n",
       "4              0             2                 1                   2   \n",
       "5              0             2                 1                   2   \n",
       "6              0             2                 1                   2   \n",
       "7              0             2                 1                   2   \n",
       "8              0             2                 1                   2   \n",
       "9              0             2                 1                   2   \n",
       "10             0             2                 1                   2   \n",
       "11             4             2                 0                   3   \n",
       "12             4             1                 0                   4   \n",
       "\n",
       "    t2_warrior  t2_population  t2_revealed  t2_trained_warrior  t2_animal  \\\n",
       "0            3              4           31                   2          4   \n",
       "1            2              4           33                   1          4   \n",
       "2            3              3           32                   2          3   \n",
       "3            3              3           32                   2          3   \n",
       "4            2              3           34                   1          3   \n",
       "5            3              2           33                   2          2   \n",
       "6            3              4           31                   2          4   \n",
       "7            2              4           33                   1          4   \n",
       "8            2              4           33                   1          4   \n",
       "9            2              2           35                   1          2   \n",
       "10           2              3           34                   1          3   \n",
       "11           2              4           33                   1          4   \n",
       "12           2              4           33                   1          4   \n",
       "\n",
       "    t2_stars  t2_star_spending  t2_animal_stars  t2_warrior_stars  \\\n",
       "0          1                 6                8                 4   \n",
       "1          3                 4                8                 2   \n",
       "2          3                 4                6                 4   \n",
       "3          3                 4                6                 4   \n",
       "4          5                 2                6                 2   \n",
       "5          5                 2                4                 4   \n",
       "6          1                 6                8                 4   \n",
       "7          3                 4                8                 2   \n",
       "8          3                 4                8                 2   \n",
       "9          7                 0                4                 2   \n",
       "10         5                 2                6                 2   \n",
       "11         3                 2                8                 2   \n",
       "12         3                 2                8                 2   \n",
       "\n",
       "    t2_unit_stars  t2_pop_stars  t2_move_move  t2_move_training  \\\n",
       "0               2             4             2                 2   \n",
       "1               0             4             2                 1   \n",
       "2               2             2             2                 2   \n",
       "3               2             2             3                 2   \n",
       "4               0             2             3                 1   \n",
       "5               2             0             3                 2   \n",
       "6               2             4             3                 2   \n",
       "7               0             4             3                 1   \n",
       "8               0             4             4                 1   \n",
       "9               0             0             4                 1   \n",
       "10              0             2             4                 1   \n",
       "11              2             0             3                 1   \n",
       "12              2             0             2                 1   \n",
       "\n",
       "    t2_move_population  \n",
       "0                    3  \n",
       "1                    4  \n",
       "2                    3  \n",
       "3                    2  \n",
       "4                    3  \n",
       "5                    2  \n",
       "6                    2  \n",
       "7                    3  \n",
       "8                    2  \n",
       "9                    2  \n",
       "10                   2  \n",
       "11                   3  \n",
       "12                   4  "
      ],
      "text/html": "<div>\n<style scoped>\n    .dataframe tbody tr th:only-of-type {\n        vertical-align: middle;\n    }\n\n    .dataframe tbody tr th {\n        vertical-align: top;\n    }\n\n    .dataframe thead th {\n        text-align: right;\n    }\n</style>\n<table border=\"1\" class=\"dataframe\">\n  <thead>\n    <tr style=\"text-align: right;\">\n      <th></th>\n      <th>t1_warrior</th>\n      <th>t1_population</th>\n      <th>t1_trained_warrior</th>\n      <th>t1_animal</th>\n      <th>t1_stars</th>\n      <th>t1_star_spending</th>\n      <th>t1_animal_stars</th>\n      <th>t1_warrior_stars</th>\n      <th>t1_unit_stars</th>\n      <th>t1_pop_stars</th>\n      <th>t1_move_move</th>\n      <th>t1_move_training</th>\n      <th>t1_move_population</th>\n      <th>t2_warrior</th>\n      <th>t2_population</th>\n      <th>t2_revealed</th>\n      <th>t2_trained_warrior</th>\n      <th>t2_animal</th>\n      <th>t2_stars</th>\n      <th>t2_star_spending</th>\n      <th>t2_animal_stars</th>\n      <th>t2_warrior_stars</th>\n      <th>t2_unit_stars</th>\n      <th>t2_pop_stars</th>\n      <th>t2_move_move</th>\n      <th>t2_move_training</th>\n      <th>t2_move_population</th>\n    </tr>\n  </thead>\n  <tbody>\n    <tr>\n      <th>0</th>\n      <td>2</td>\n      <td>2</td>\n      <td>1</td>\n      <td>2</td>\n      <td>3</td>\n      <td>2</td>\n      <td>4</td>\n      <td>2</td>\n      <td>2</td>\n      <td>0</td>\n      <td>2</td>\n      <td>1</td>\n      <td>2</td>\n      <td>3</td>\n      <td>4</td>\n      <td>31</td>\n      <td>2</td>\n      <td>4</td>\n      <td>1</td>\n      <td>6</td>\n      <td>8</td>\n      <td>4</td>\n      <td>2</td>\n      <td>4</td>\n      <td>2</td>\n      <td>2</td>\n      <td>3</td>\n    </tr>\n    <tr>\n      <th>1</th>\n      <td>2</td>\n      <td>2</td>\n      <td>1</td>\n      <td>2</td>\n      <td>3</td>\n      <td>2</td>\n      <td>4</td>\n      <td>2</td>\n      <td>2</td>\n      <td>0</td>\n      <td>2</td>\n      <td>1</td>\n      <td>2</td>\n      <td>2</td>\n      <td>4</td>\n      <td>33</td>\n      <td>1</td>\n      <td>4</td>\n      <td>3</td>\n      <td>4</td>\n      <td>8</td>\n      <td>2</td>\n      <td>0</td>\n      <td>4</td>\n      <td>2</td>\n      <td>1</td>\n      <td>4</td>\n    </tr>\n    <tr>\n      <th>2</th>\n      <td>2</td>\n      <td>2</td>\n      <td>1</td>\n      <td>2</td>\n      <td>3</td>\n      <td>2</td>\n      <td>4</td>\n      <td>2</td>\n      <td>2</td>\n      <td>0</td>\n      <td>2</td>\n      <td>1</td>\n      <td>2</td>\n      <td>3</td>\n      <td>3</td>\n      <td>32</td>\n      <td>2</td>\n      <td>3</td>\n      <td>3</td>\n      <td>4</td>\n      <td>6</td>\n      <td>4</td>\n      <td>2</td>\n      <td>2</td>\n      <td>2</td>\n      <td>2</td>\n      <td>3</td>\n    </tr>\n    <tr>\n      <th>3</th>\n      <td>2</td>\n      <td>2</td>\n      <td>1</td>\n      <td>2</td>\n      <td>3</td>\n      <td>2</td>\n      <td>4</td>\n      <td>2</td>\n      <td>2</td>\n      <td>0</td>\n      <td>2</td>\n      <td>1</td>\n      <td>2</td>\n      <td>3</td>\n      <td>3</td>\n      <td>32</td>\n      <td>2</td>\n      <td>3</td>\n      <td>3</td>\n      <td>4</td>\n      <td>6</td>\n      <td>4</td>\n      <td>2</td>\n      <td>2</td>\n      <td>3</td>\n      <td>2</td>\n      <td>2</td>\n    </tr>\n    <tr>\n      <th>4</th>\n      <td>2</td>\n      <td>2</td>\n      <td>1</td>\n      <td>2</td>\n      <td>3</td>\n      <td>2</td>\n      <td>4</td>\n      <td>2</td>\n      <td>2</td>\n      <td>0</td>\n      <td>2</td>\n      <td>1</td>\n      <td>2</td>\n      <td>2</td>\n      <td>3</td>\n      <td>34</td>\n      <td>1</td>\n      <td>3</td>\n      <td>5</td>\n      <td>2</td>\n      <td>6</td>\n      <td>2</td>\n      <td>0</td>\n      <td>2</td>\n      <td>3</td>\n      <td>1</td>\n      <td>3</td>\n    </tr>\n    <tr>\n      <th>5</th>\n      <td>2</td>\n      <td>2</td>\n      <td>1</td>\n      <td>2</td>\n      <td>3</td>\n      <td>2</td>\n      <td>4</td>\n      <td>2</td>\n      <td>2</td>\n      <td>0</td>\n      <td>2</td>\n      <td>1</td>\n      <td>2</td>\n      <td>3</td>\n      <td>2</td>\n      <td>33</td>\n      <td>2</td>\n      <td>2</td>\n      <td>5</td>\n      <td>2</td>\n      <td>4</td>\n      <td>4</td>\n      <td>2</td>\n      <td>0</td>\n      <td>3</td>\n      <td>2</td>\n      <td>2</td>\n    </tr>\n    <tr>\n      <th>6</th>\n      <td>2</td>\n      <td>2</td>\n      <td>1</td>\n      <td>2</td>\n      <td>3</td>\n      <td>2</td>\n      <td>4</td>\n      <td>2</td>\n      <td>2</td>\n      <td>0</td>\n      <td>2</td>\n      <td>1</td>\n      <td>2</td>\n      <td>3</td>\n      <td>4</td>\n      <td>31</td>\n      <td>2</td>\n      <td>4</td>\n      <td>1</td>\n      <td>6</td>\n      <td>8</td>\n      <td>4</td>\n      <td>2</td>\n      <td>4</td>\n      <td>3</td>\n      <td>2</td>\n      <td>2</td>\n    </tr>\n    <tr>\n      <th>7</th>\n      <td>2</td>\n      <td>2</td>\n      <td>1</td>\n      <td>2</td>\n      <td>3</td>\n      <td>2</td>\n      <td>4</td>\n      <td>2</td>\n      <td>2</td>\n      <td>0</td>\n      <td>2</td>\n      <td>1</td>\n      <td>2</td>\n      <td>2</td>\n      <td>4</td>\n      <td>33</td>\n      <td>1</td>\n      <td>4</td>\n      <td>3</td>\n      <td>4</td>\n      <td>8</td>\n      <td>2</td>\n      <td>0</td>\n      <td>4</td>\n      <td>3</td>\n      <td>1</td>\n      <td>3</td>\n    </tr>\n    <tr>\n      <th>8</th>\n      <td>2</td>\n      <td>2</td>\n      <td>1</td>\n      <td>2</td>\n      <td>3</td>\n      <td>2</td>\n      <td>4</td>\n      <td>2</td>\n      <td>2</td>\n      <td>0</td>\n      <td>2</td>\n      <td>1</td>\n      <td>2</td>\n      <td>2</td>\n      <td>4</td>\n      <td>33</td>\n      <td>1</td>\n      <td>4</td>\n      <td>3</td>\n      <td>4</td>\n      <td>8</td>\n      <td>2</td>\n      <td>0</td>\n      <td>4</td>\n      <td>4</td>\n      <td>1</td>\n      <td>2</td>\n    </tr>\n    <tr>\n      <th>9</th>\n      <td>2</td>\n      <td>2</td>\n      <td>1</td>\n      <td>2</td>\n      <td>3</td>\n      <td>2</td>\n      <td>4</td>\n      <td>2</td>\n      <td>2</td>\n      <td>0</td>\n      <td>2</td>\n      <td>1</td>\n      <td>2</td>\n      <td>2</td>\n      <td>2</td>\n      <td>35</td>\n      <td>1</td>\n      <td>2</td>\n      <td>7</td>\n      <td>0</td>\n      <td>4</td>\n      <td>2</td>\n      <td>0</td>\n      <td>0</td>\n      <td>4</td>\n      <td>1</td>\n      <td>2</td>\n    </tr>\n    <tr>\n      <th>10</th>\n      <td>2</td>\n      <td>2</td>\n      <td>1</td>\n      <td>2</td>\n      <td>3</td>\n      <td>2</td>\n      <td>4</td>\n      <td>2</td>\n      <td>2</td>\n      <td>0</td>\n      <td>2</td>\n      <td>1</td>\n      <td>2</td>\n      <td>2</td>\n      <td>3</td>\n      <td>34</td>\n      <td>1</td>\n      <td>3</td>\n      <td>5</td>\n      <td>2</td>\n      <td>6</td>\n      <td>2</td>\n      <td>0</td>\n      <td>2</td>\n      <td>4</td>\n      <td>1</td>\n      <td>2</td>\n    </tr>\n    <tr>\n      <th>11</th>\n      <td>1</td>\n      <td>4</td>\n      <td>0</td>\n      <td>4</td>\n      <td>1</td>\n      <td>4</td>\n      <td>8</td>\n      <td>0</td>\n      <td>0</td>\n      <td>4</td>\n      <td>2</td>\n      <td>0</td>\n      <td>3</td>\n      <td>2</td>\n      <td>4</td>\n      <td>33</td>\n      <td>1</td>\n      <td>4</td>\n      <td>3</td>\n      <td>2</td>\n      <td>8</td>\n      <td>2</td>\n      <td>2</td>\n      <td>0</td>\n      <td>3</td>\n      <td>1</td>\n      <td>3</td>\n    </tr>\n    <tr>\n      <th>12</th>\n      <td>1</td>\n      <td>4</td>\n      <td>0</td>\n      <td>4</td>\n      <td>1</td>\n      <td>4</td>\n      <td>8</td>\n      <td>0</td>\n      <td>0</td>\n      <td>4</td>\n      <td>1</td>\n      <td>0</td>\n      <td>4</td>\n      <td>2</td>\n      <td>4</td>\n      <td>33</td>\n      <td>1</td>\n      <td>4</td>\n      <td>3</td>\n      <td>2</td>\n      <td>8</td>\n      <td>2</td>\n      <td>2</td>\n      <td>0</td>\n      <td>2</td>\n      <td>1</td>\n      <td>4</td>\n    </tr>\n  </tbody>\n</table>\n</div>"
     },
     "metadata": {},
     "execution_count": 3
    }
   ]
  },
  {
   "cell_type": "code",
   "execution_count": 31,
   "metadata": {},
   "outputs": [],
   "source": [
    "a = pd.DataFrame(calc_entropy(c[col]) for col in c.columns).T"
   ]
  },
  {
   "cell_type": "code",
   "execution_count": 33,
   "metadata": {},
   "outputs": [],
   "source": [
    "a.columns = c.columns"
   ]
  },
  {
   "cell_type": "code",
   "execution_count": 43,
   "metadata": {},
   "outputs": [
    {
     "output_type": "execute_result",
     "data": {
      "text/plain": [
       "   t1_warrior  t1_population  t1_trained_warrior  t1_animal  t1_stars  \\\n",
       "0    0.619382       0.619382            0.619382   0.619382  0.619382   \n",
       "\n",
       "   t1_star_spending  t1_animal_stars  t1_warrior_stars  t1_unit_stars  \\\n",
       "0          0.619382         0.619382          0.619382       0.619382   \n",
       "\n",
       "   t1_pop_stars  t1_move_move  t1_move_training  t1_move_population  \\\n",
       "0      0.619382      0.391244          0.619382            0.773228   \n",
       "\n",
       "   t2_warrior  t2_population  t2_revealed  t2_trained_warrior  t2_animal  \\\n",
       "0    0.961237       1.419556     2.045842            0.961237   1.419556   \n",
       "\n",
       "   t2_stars  t2_star_spending  t2_animal_stars  t2_warrior_stars  \\\n",
       "0   1.66918          1.760495         1.419556          0.961237   \n",
       "\n",
       "   t2_unit_stars  t2_pop_stars  t2_move_move  t2_move_training  \\\n",
       "0       0.995727      1.576621      1.526235          0.961237   \n",
       "\n",
       "   t2_move_population  \n",
       "0            1.460485  "
      ],
      "text/html": "<div>\n<style scoped>\n    .dataframe tbody tr th:only-of-type {\n        vertical-align: middle;\n    }\n\n    .dataframe tbody tr th {\n        vertical-align: top;\n    }\n\n    .dataframe thead th {\n        text-align: right;\n    }\n</style>\n<table border=\"1\" class=\"dataframe\">\n  <thead>\n    <tr style=\"text-align: right;\">\n      <th></th>\n      <th>t1_warrior</th>\n      <th>t1_population</th>\n      <th>t1_trained_warrior</th>\n      <th>t1_animal</th>\n      <th>t1_stars</th>\n      <th>t1_star_spending</th>\n      <th>t1_animal_stars</th>\n      <th>t1_warrior_stars</th>\n      <th>t1_unit_stars</th>\n      <th>t1_pop_stars</th>\n      <th>t1_move_move</th>\n      <th>t1_move_training</th>\n      <th>t1_move_population</th>\n      <th>t2_warrior</th>\n      <th>t2_population</th>\n      <th>t2_revealed</th>\n      <th>t2_trained_warrior</th>\n      <th>t2_animal</th>\n      <th>t2_stars</th>\n      <th>t2_star_spending</th>\n      <th>t2_animal_stars</th>\n      <th>t2_warrior_stars</th>\n      <th>t2_unit_stars</th>\n      <th>t2_pop_stars</th>\n      <th>t2_move_move</th>\n      <th>t2_move_training</th>\n      <th>t2_move_population</th>\n    </tr>\n  </thead>\n  <tbody>\n    <tr>\n      <th>0</th>\n      <td>0.619382</td>\n      <td>0.619382</td>\n      <td>0.619382</td>\n      <td>0.619382</td>\n      <td>0.619382</td>\n      <td>0.619382</td>\n      <td>0.619382</td>\n      <td>0.619382</td>\n      <td>0.619382</td>\n      <td>0.619382</td>\n      <td>0.391244</td>\n      <td>0.619382</td>\n      <td>0.773228</td>\n      <td>0.961237</td>\n      <td>1.419556</td>\n      <td>2.045842</td>\n      <td>0.961237</td>\n      <td>1.419556</td>\n      <td>1.66918</td>\n      <td>1.760495</td>\n      <td>1.419556</td>\n      <td>0.961237</td>\n      <td>0.995727</td>\n      <td>1.576621</td>\n      <td>1.526235</td>\n      <td>0.961237</td>\n      <td>1.460485</td>\n    </tr>\n  </tbody>\n</table>\n</div>"
     },
     "metadata": {},
     "execution_count": 43
    }
   ],
   "source": [
    "a"
   ]
  },
  {
   "cell_type": "code",
   "execution_count": 47,
   "metadata": {},
   "outputs": [
    {
     "output_type": "execute_result",
     "data": {
      "text/plain": [
       "'t2_revealed'"
      ]
     },
     "metadata": {},
     "execution_count": 47
    }
   ],
   "source": [
    "a.columns[a.loc[0].argmax()]"
   ]
  },
  {
   "cell_type": "code",
   "execution_count": 46,
   "metadata": {},
   "outputs": [
    {
     "output_type": "execute_result",
     "data": {
      "text/plain": [
       "    t1_warrior  t1_population  t1_trained_warrior  t1_animal  t1_stars  \\\n",
       "0            2              2                   1          2         3   \n",
       "1            2              2                   1          2         3   \n",
       "2            2              2                   1          2         3   \n",
       "3            2              2                   1          2         3   \n",
       "4            2              2                   1          2         3   \n",
       "5            2              2                   1          2         3   \n",
       "6            2              2                   1          2         3   \n",
       "7            2              2                   1          2         3   \n",
       "8            2              2                   1          2         3   \n",
       "9            2              2                   1          2         3   \n",
       "10           2              2                   1          2         3   \n",
       "11           1              4                   0          4         1   \n",
       "12           1              4                   0          4         1   \n",
       "\n",
       "    t1_star_spending  t1_animal_stars  t1_warrior_stars  t1_unit_stars  \\\n",
       "0                  2                4                 2              2   \n",
       "1                  2                4                 2              2   \n",
       "2                  2                4                 2              2   \n",
       "3                  2                4                 2              2   \n",
       "4                  2                4                 2              2   \n",
       "5                  2                4                 2              2   \n",
       "6                  2                4                 2              2   \n",
       "7                  2                4                 2              2   \n",
       "8                  2                4                 2              2   \n",
       "9                  2                4                 2              2   \n",
       "10                 2                4                 2              2   \n",
       "11                 4                8                 0              0   \n",
       "12                 4                8                 0              0   \n",
       "\n",
       "    t1_pop_stars  t1_move_move  t1_move_training  t1_move_population  \\\n",
       "0              0             2                 1                   2   \n",
       "1              0             2                 1                   2   \n",
       "2              0             2                 1                   2   \n",
       "3              0             2                 1                   2   \n",
       "4              0             2                 1                   2   \n",
       "5              0             2                 1                   2   \n",
       "6              0             2                 1                   2   \n",
       "7              0             2                 1                   2   \n",
       "8              0             2                 1                   2   \n",
       "9              0             2                 1                   2   \n",
       "10             0             2                 1                   2   \n",
       "11             4             2                 0                   3   \n",
       "12             4             1                 0                   4   \n",
       "\n",
       "    t2_warrior  t2_population  t2_revealed  t2_trained_warrior  t2_animal  \\\n",
       "0            3              4           31                   2          4   \n",
       "1            2              4           33                   1          4   \n",
       "2            3              3           32                   2          3   \n",
       "3            3              3           32                   2          3   \n",
       "4            2              3           34                   1          3   \n",
       "5            3              2           33                   2          2   \n",
       "6            3              4           31                   2          4   \n",
       "7            2              4           33                   1          4   \n",
       "8            2              4           33                   1          4   \n",
       "9            2              2           35                   1          2   \n",
       "10           2              3           34                   1          3   \n",
       "11           2              4           33                   1          4   \n",
       "12           2              4           33                   1          4   \n",
       "\n",
       "    t2_stars  t2_star_spending  t2_animal_stars  t2_warrior_stars  \\\n",
       "0          1                 6                8                 4   \n",
       "1          3                 4                8                 2   \n",
       "2          3                 4                6                 4   \n",
       "3          3                 4                6                 4   \n",
       "4          5                 2                6                 2   \n",
       "5          5                 2                4                 4   \n",
       "6          1                 6                8                 4   \n",
       "7          3                 4                8                 2   \n",
       "8          3                 4                8                 2   \n",
       "9          7                 0                4                 2   \n",
       "10         5                 2                6                 2   \n",
       "11         3                 2                8                 2   \n",
       "12         3                 2                8                 2   \n",
       "\n",
       "    t2_unit_stars  t2_pop_stars  t2_move_move  t2_move_training  \\\n",
       "0               2             4             2                 2   \n",
       "1               0             4             2                 1   \n",
       "2               2             2             2                 2   \n",
       "3               2             2             3                 2   \n",
       "4               0             2             3                 1   \n",
       "5               2             0             3                 2   \n",
       "6               2             4             3                 2   \n",
       "7               0             4             3                 1   \n",
       "8               0             4             4                 1   \n",
       "9               0             0             4                 1   \n",
       "10              0             2             4                 1   \n",
       "11              2             0             3                 1   \n",
       "12              2             0             2                 1   \n",
       "\n",
       "    t2_move_population  \n",
       "0                    3  \n",
       "1                    4  \n",
       "2                    3  \n",
       "3                    2  \n",
       "4                    3  \n",
       "5                    2  \n",
       "6                    2  \n",
       "7                    3  \n",
       "8                    2  \n",
       "9                    2  \n",
       "10                   2  \n",
       "11                   3  \n",
       "12                   4  "
      ],
      "text/html": "<div>\n<style scoped>\n    .dataframe tbody tr th:only-of-type {\n        vertical-align: middle;\n    }\n\n    .dataframe tbody tr th {\n        vertical-align: top;\n    }\n\n    .dataframe thead th {\n        text-align: right;\n    }\n</style>\n<table border=\"1\" class=\"dataframe\">\n  <thead>\n    <tr style=\"text-align: right;\">\n      <th></th>\n      <th>t1_warrior</th>\n      <th>t1_population</th>\n      <th>t1_trained_warrior</th>\n      <th>t1_animal</th>\n      <th>t1_stars</th>\n      <th>t1_star_spending</th>\n      <th>t1_animal_stars</th>\n      <th>t1_warrior_stars</th>\n      <th>t1_unit_stars</th>\n      <th>t1_pop_stars</th>\n      <th>t1_move_move</th>\n      <th>t1_move_training</th>\n      <th>t1_move_population</th>\n      <th>t2_warrior</th>\n      <th>t2_population</th>\n      <th>t2_revealed</th>\n      <th>t2_trained_warrior</th>\n      <th>t2_animal</th>\n      <th>t2_stars</th>\n      <th>t2_star_spending</th>\n      <th>t2_animal_stars</th>\n      <th>t2_warrior_stars</th>\n      <th>t2_unit_stars</th>\n      <th>t2_pop_stars</th>\n      <th>t2_move_move</th>\n      <th>t2_move_training</th>\n      <th>t2_move_population</th>\n    </tr>\n  </thead>\n  <tbody>\n    <tr>\n      <th>0</th>\n      <td>2</td>\n      <td>2</td>\n      <td>1</td>\n      <td>2</td>\n      <td>3</td>\n      <td>2</td>\n      <td>4</td>\n      <td>2</td>\n      <td>2</td>\n      <td>0</td>\n      <td>2</td>\n      <td>1</td>\n      <td>2</td>\n      <td>3</td>\n      <td>4</td>\n      <td>31</td>\n      <td>2</td>\n      <td>4</td>\n      <td>1</td>\n      <td>6</td>\n      <td>8</td>\n      <td>4</td>\n      <td>2</td>\n      <td>4</td>\n      <td>2</td>\n      <td>2</td>\n      <td>3</td>\n    </tr>\n    <tr>\n      <th>1</th>\n      <td>2</td>\n      <td>2</td>\n      <td>1</td>\n      <td>2</td>\n      <td>3</td>\n      <td>2</td>\n      <td>4</td>\n      <td>2</td>\n      <td>2</td>\n      <td>0</td>\n      <td>2</td>\n      <td>1</td>\n      <td>2</td>\n      <td>2</td>\n      <td>4</td>\n      <td>33</td>\n      <td>1</td>\n      <td>4</td>\n      <td>3</td>\n      <td>4</td>\n      <td>8</td>\n      <td>2</td>\n      <td>0</td>\n      <td>4</td>\n      <td>2</td>\n      <td>1</td>\n      <td>4</td>\n    </tr>\n    <tr>\n      <th>2</th>\n      <td>2</td>\n      <td>2</td>\n      <td>1</td>\n      <td>2</td>\n      <td>3</td>\n      <td>2</td>\n      <td>4</td>\n      <td>2</td>\n      <td>2</td>\n      <td>0</td>\n      <td>2</td>\n      <td>1</td>\n      <td>2</td>\n      <td>3</td>\n      <td>3</td>\n      <td>32</td>\n      <td>2</td>\n      <td>3</td>\n      <td>3</td>\n      <td>4</td>\n      <td>6</td>\n      <td>4</td>\n      <td>2</td>\n      <td>2</td>\n      <td>2</td>\n      <td>2</td>\n      <td>3</td>\n    </tr>\n    <tr>\n      <th>3</th>\n      <td>2</td>\n      <td>2</td>\n      <td>1</td>\n      <td>2</td>\n      <td>3</td>\n      <td>2</td>\n      <td>4</td>\n      <td>2</td>\n      <td>2</td>\n      <td>0</td>\n      <td>2</td>\n      <td>1</td>\n      <td>2</td>\n      <td>3</td>\n      <td>3</td>\n      <td>32</td>\n      <td>2</td>\n      <td>3</td>\n      <td>3</td>\n      <td>4</td>\n      <td>6</td>\n      <td>4</td>\n      <td>2</td>\n      <td>2</td>\n      <td>3</td>\n      <td>2</td>\n      <td>2</td>\n    </tr>\n    <tr>\n      <th>4</th>\n      <td>2</td>\n      <td>2</td>\n      <td>1</td>\n      <td>2</td>\n      <td>3</td>\n      <td>2</td>\n      <td>4</td>\n      <td>2</td>\n      <td>2</td>\n      <td>0</td>\n      <td>2</td>\n      <td>1</td>\n      <td>2</td>\n      <td>2</td>\n      <td>3</td>\n      <td>34</td>\n      <td>1</td>\n      <td>3</td>\n      <td>5</td>\n      <td>2</td>\n      <td>6</td>\n      <td>2</td>\n      <td>0</td>\n      <td>2</td>\n      <td>3</td>\n      <td>1</td>\n      <td>3</td>\n    </tr>\n    <tr>\n      <th>5</th>\n      <td>2</td>\n      <td>2</td>\n      <td>1</td>\n      <td>2</td>\n      <td>3</td>\n      <td>2</td>\n      <td>4</td>\n      <td>2</td>\n      <td>2</td>\n      <td>0</td>\n      <td>2</td>\n      <td>1</td>\n      <td>2</td>\n      <td>3</td>\n      <td>2</td>\n      <td>33</td>\n      <td>2</td>\n      <td>2</td>\n      <td>5</td>\n      <td>2</td>\n      <td>4</td>\n      <td>4</td>\n      <td>2</td>\n      <td>0</td>\n      <td>3</td>\n      <td>2</td>\n      <td>2</td>\n    </tr>\n    <tr>\n      <th>6</th>\n      <td>2</td>\n      <td>2</td>\n      <td>1</td>\n      <td>2</td>\n      <td>3</td>\n      <td>2</td>\n      <td>4</td>\n      <td>2</td>\n      <td>2</td>\n      <td>0</td>\n      <td>2</td>\n      <td>1</td>\n      <td>2</td>\n      <td>3</td>\n      <td>4</td>\n      <td>31</td>\n      <td>2</td>\n      <td>4</td>\n      <td>1</td>\n      <td>6</td>\n      <td>8</td>\n      <td>4</td>\n      <td>2</td>\n      <td>4</td>\n      <td>3</td>\n      <td>2</td>\n      <td>2</td>\n    </tr>\n    <tr>\n      <th>7</th>\n      <td>2</td>\n      <td>2</td>\n      <td>1</td>\n      <td>2</td>\n      <td>3</td>\n      <td>2</td>\n      <td>4</td>\n      <td>2</td>\n      <td>2</td>\n      <td>0</td>\n      <td>2</td>\n      <td>1</td>\n      <td>2</td>\n      <td>2</td>\n      <td>4</td>\n      <td>33</td>\n      <td>1</td>\n      <td>4</td>\n      <td>3</td>\n      <td>4</td>\n      <td>8</td>\n      <td>2</td>\n      <td>0</td>\n      <td>4</td>\n      <td>3</td>\n      <td>1</td>\n      <td>3</td>\n    </tr>\n    <tr>\n      <th>8</th>\n      <td>2</td>\n      <td>2</td>\n      <td>1</td>\n      <td>2</td>\n      <td>3</td>\n      <td>2</td>\n      <td>4</td>\n      <td>2</td>\n      <td>2</td>\n      <td>0</td>\n      <td>2</td>\n      <td>1</td>\n      <td>2</td>\n      <td>2</td>\n      <td>4</td>\n      <td>33</td>\n      <td>1</td>\n      <td>4</td>\n      <td>3</td>\n      <td>4</td>\n      <td>8</td>\n      <td>2</td>\n      <td>0</td>\n      <td>4</td>\n      <td>4</td>\n      <td>1</td>\n      <td>2</td>\n    </tr>\n    <tr>\n      <th>9</th>\n      <td>2</td>\n      <td>2</td>\n      <td>1</td>\n      <td>2</td>\n      <td>3</td>\n      <td>2</td>\n      <td>4</td>\n      <td>2</td>\n      <td>2</td>\n      <td>0</td>\n      <td>2</td>\n      <td>1</td>\n      <td>2</td>\n      <td>2</td>\n      <td>2</td>\n      <td>35</td>\n      <td>1</td>\n      <td>2</td>\n      <td>7</td>\n      <td>0</td>\n      <td>4</td>\n      <td>2</td>\n      <td>0</td>\n      <td>0</td>\n      <td>4</td>\n      <td>1</td>\n      <td>2</td>\n    </tr>\n    <tr>\n      <th>10</th>\n      <td>2</td>\n      <td>2</td>\n      <td>1</td>\n      <td>2</td>\n      <td>3</td>\n      <td>2</td>\n      <td>4</td>\n      <td>2</td>\n      <td>2</td>\n      <td>0</td>\n      <td>2</td>\n      <td>1</td>\n      <td>2</td>\n      <td>2</td>\n      <td>3</td>\n      <td>34</td>\n      <td>1</td>\n      <td>3</td>\n      <td>5</td>\n      <td>2</td>\n      <td>6</td>\n      <td>2</td>\n      <td>0</td>\n      <td>2</td>\n      <td>4</td>\n      <td>1</td>\n      <td>2</td>\n    </tr>\n    <tr>\n      <th>11</th>\n      <td>1</td>\n      <td>4</td>\n      <td>0</td>\n      <td>4</td>\n      <td>1</td>\n      <td>4</td>\n      <td>8</td>\n      <td>0</td>\n      <td>0</td>\n      <td>4</td>\n      <td>2</td>\n      <td>0</td>\n      <td>3</td>\n      <td>2</td>\n      <td>4</td>\n      <td>33</td>\n      <td>1</td>\n      <td>4</td>\n      <td>3</td>\n      <td>2</td>\n      <td>8</td>\n      <td>2</td>\n      <td>2</td>\n      <td>0</td>\n      <td>3</td>\n      <td>1</td>\n      <td>3</td>\n    </tr>\n    <tr>\n      <th>12</th>\n      <td>1</td>\n      <td>4</td>\n      <td>0</td>\n      <td>4</td>\n      <td>1</td>\n      <td>4</td>\n      <td>8</td>\n      <td>0</td>\n      <td>0</td>\n      <td>4</td>\n      <td>1</td>\n      <td>0</td>\n      <td>4</td>\n      <td>2</td>\n      <td>4</td>\n      <td>33</td>\n      <td>1</td>\n      <td>4</td>\n      <td>3</td>\n      <td>2</td>\n      <td>8</td>\n      <td>2</td>\n      <td>2</td>\n      <td>0</td>\n      <td>2</td>\n      <td>1</td>\n      <td>4</td>\n    </tr>\n  </tbody>\n</table>\n</div>"
     },
     "metadata": {},
     "execution_count": 46
    }
   ],
   "source": [
    "c"
   ]
  },
  {
   "cell_type": "code",
   "execution_count": 10,
   "metadata": {},
   "outputs": [],
   "source": [
    "import pandas as pd\n",
    "import numpy as np\n",
    "import math\n",
    "\n",
    "def calc_entropy(column):\n",
    "    \"\"\"\n",
    "    Calculate entropy given a pandas series, list, or numpy array.\n",
    "    \"\"\"\n",
    "    # Compute the counts of each unique value in the column\n",
    "    counts = np.bincount(column)\n",
    "    # Divide by the total column length to get a probability\n",
    "    probabilities = counts / len(column)\n",
    "    \n",
    "    # Initialize the entropy to 0\n",
    "    entropy = 0\n",
    "    # Loop through the probabilities, and add each one to the total entropy\n",
    "    for prob in probabilities:\n",
    "        if prob > 0:\n",
    "            # use log from math and set base to 2\n",
    "            entropy += prob * math.log(prob, 2)\n",
    "    \n",
    "    return -entropy"
   ]
  },
  {
   "cell_type": "code",
   "execution_count": 48,
   "metadata": {},
   "outputs": [
    {
     "output_type": "stream",
     "name": "stdout",
     "text": [
      "start_warrior 1 [1]\n",
      "start_level-1 1 [1]\n",
      "start_tier-1 1 [1]\n",
      "start_claimed 1 [9]\n",
      "start_revealed 1 [25]\n",
      "start_hunting 1 [1]\n",
      "start_Bardur 1 [1]\n",
      "start_full_score 1 [515]\n",
      "start_level-1_count 1 [1]\n",
      "start_pop_max 1 [1]\n",
      "start_stars 1 [3]\n",
      "start_spt 1 [2]\n",
      "start_star_spending 1 [5]\n",
      "start_tier-1_cost 1 [5]\n",
      "start_tier-1_stars 1 [5]\n",
      "start_tier-2_stars 1 [6]\n",
      "start_tier-3_stars 1 [7]\n",
      "start_city_spt 1 [2]\n",
      "start_tech_stars 1 [5]\n",
      "t0_warrior 1 [1]\n",
      "t0_level-1 1 [1]\n",
      "t0_level-2 1 [1]\n",
      "t0_population 1 [2]\n",
      "t0_tier-1 1 [1]\n",
      "t0_claimed 1 [9]\n",
      "t0_revealed 1 [25]\n",
      "t0_hunting 1 [1]\n",
      "t0_Bardur 1 [1]\n",
      "t0_full_score 1 [565]\n",
      "t0_claimed_cst 1 [1]\n",
      "t0_lvl_1_cst 1 [1]\n",
      "t0_level-2_spt 1 [1]\n",
      "t0_level-2_count 1 [1]\n",
      "t0_pop_min 1 [2]\n",
      "t0_pop_max 1 [4]\n",
      "t0_animal 1 [2]\n",
      "t0_stars 1 [1]\n",
      "t0_spt 1 [4]\n",
      "t0_star_income 1 [2]\n",
      "t0_star_spending 1 [4]\n",
      "t0_animal_stars 1 [4]\n",
      "t0_tier-1_cost 1 [5]\n",
      "t0_tier-1_stars 1 [5]\n",
      "t0_tier-2_stars 1 [6]\n",
      "t0_tier-3_stars 1 [7]\n",
      "t0_city_spt 1 [3]\n",
      "t0_pop_stars 1 [4]\n",
      "t0_delta_moves 1 [4]\n",
      "t0_move_move 1 [1]\n",
      "t0_move_population 1 [2]\n",
      "t0_move_city_upgrade 1 [1]\n",
      "t1_warrior 2 [2 1]\n",
      "t1_level-1 1 [1]\n",
      "t1_level-2 1 [1]\n",
      "t1_population 2 [2 4]\n",
      "t1_tier-1 1 [1]\n",
      "t1_claimed 1 [9]\n",
      "t1_revealed 1 [30]\n",
      "t1_trained_warrior 2 [1 0]\n",
      "t1_hunting 1 [1]\n",
      "t1_Bardur 1 [1]\n",
      "t1_full_score 1 [600]\n",
      "t1_claimed_cst 1 [1]\n",
      "t1_lvl_1_cst 1 [1]\n",
      "t1_level-2_spt 1 [1]\n",
      "t1_level-2_count 1 [1]\n",
      "t1_pop_min 1 [2]\n",
      "t1_pop_max 1 [4]\n",
      "t1_animal 2 [2 4]\n",
      "t1_stars 2 [3 1]\n",
      "t1_spt 1 [4]\n",
      "t1_star_income 1 [4]\n",
      "t1_star_spending 2 [2 4]\n",
      "t1_animal_stars 2 [4 8]\n",
      "t1_warrior_stars 2 [2 0]\n",
      "t1_tier-1_cost 1 [5]\n",
      "t1_tier-1_stars 1 [5]\n",
      "t1_tier-2_stars 1 [6]\n",
      "t1_tier-3_stars 1 [7]\n",
      "t1_city_spt 1 [3]\n",
      "t1_unit_stars 2 [2 0]\n",
      "t1_pop_stars 2 [0 4]\n",
      "t1_delta_moves 1 [2]\n",
      "t1_move_move 2 [2 1]\n",
      "t1_move_training 2 [1 0]\n",
      "t1_move_population 3 [2 3 4]\n",
      "t1_move_city_upgrade 1 [1]\n",
      "t2_warrior 2 [3 2]\n",
      "t2_level-1 1 [1]\n",
      "t2_level-2 1 [1]\n",
      "t2_population 3 [4 3 2]\n",
      "t2_tier-1 1 [1]\n",
      "t2_claimed 1 [9]\n",
      "t2_revealed 5 [31 33 32 34 35]\n",
      "t2_trained_warrior 2 [2 1]\n",
      "t2_hunting 1 [1]\n",
      "t2_Bardur 1 [1]\n",
      "t2_full_score 1 [625]\n",
      "t2_claimed_cst 1 [1]\n",
      "t2_lvl_1_cst 1 [1]\n",
      "t2_level-2_spt 1 [1]\n",
      "t2_level-2_count 1 [1]\n",
      "t2_pop_min 1 [2]\n",
      "t2_pop_max 1 [4]\n",
      "t2_animal 3 [4 3 2]\n",
      "t2_stars 4 [1 3 5 7]\n",
      "t2_spt 1 [4]\n",
      "t2_star_income 1 [4]\n",
      "t2_star_spending 4 [6 4 2 0]\n",
      "t2_animal_stars 3 [8 6 4]\n",
      "t2_warrior_stars 2 [4 2]\n",
      "t2_tier-1_cost 1 [5]\n",
      "t2_tier-1_stars 1 [5]\n",
      "t2_tier-2_stars 1 [6]\n",
      "t2_tier-3_stars 1 [7]\n",
      "t2_city_spt 1 [3]\n",
      "t2_unit_stars 2 [2 0]\n",
      "t2_pop_stars 3 [4 2 0]\n",
      "t2_delta_moves 1 [2]\n",
      "t2_move_move 3 [2 3 4]\n",
      "t2_move_training 2 [2 1]\n",
      "t2_move_population 3 [3 4 2]\n",
      "t2_move_city_upgrade 1 [1]\n"
     ]
    },
    {
     "output_type": "execute_result",
     "data": {
      "text/plain": [
       "22932357120"
      ]
     },
     "metadata": {},
     "execution_count": 48
    }
   ],
   "source": [
    "printValueList(x)"
   ]
  },
  {
   "cell_type": "code",
   "execution_count": 5,
   "metadata": {},
   "outputs": [
    {
     "output_type": "execute_result",
     "data": {
      "text/plain": [
       "(20, 125)"
      ]
     },
     "metadata": {},
     "execution_count": 5
    }
   ],
   "source": [
    "cleaned = chooseBestSolution(x, stars, moves)\n",
    "cleaned.shape"
   ]
  },
  {
   "cell_type": "code",
   "execution_count": null,
   "metadata": {},
   "outputs": [],
   "source": [
    "cleaned"
   ]
  },
  {
   "cell_type": "code",
   "execution_count": null,
   "metadata": {},
   "outputs": [],
   "source": [
    "dropColumns(cleaned.drop_duplicates())"
   ]
  },
  {
   "source": [
    "printScenario(x)"
   ],
   "cell_type": "code",
   "metadata": {
    "tags": []
   },
   "execution_count": null,
   "outputs": []
  },
  {
   "cell_type": "code",
   "execution_count": null,
   "metadata": {},
   "outputs": [],
   "source": [
    "variants = printVariants(x)"
   ]
  },
  {
   "cell_type": "code",
   "execution_count": null,
   "metadata": {},
   "outputs": [],
   "source": [
    "variants"
   ]
  },
  {
   "cell_type": "code",
   "execution_count": null,
   "metadata": {},
   "outputs": [],
   "source": [
    "printVariants(cleaned)"
   ]
  },
  {
   "cell_type": "code",
   "execution_count": null,
   "metadata": {},
   "outputs": [],
   "source": [
    "# def prettyPrint(variants):\n",
    "#     turns = list(set(map(lambda u: u[0].split(\"_\")[0], variants)))\n",
    "#     for turn_i in turns:\n",
    "#         turn_string = (\"Turn \" + turn_i[1:] + \":\" if turn_i.startswith(\"t\") else \"Start:\")\n",
    "#         print(turn_string)\n",
    "#         for element, value in map(lambda u: (\" \".join(u[0].split(\"_\")[1:]), u[1]), filter(lambda u: u[0].startswith(turn_i), # variants)):\n",
    "#             print(element + \":\", \", \".join(map(lambda u: str(u), value)))\n",
    "# prettyPrint(variants)"
   ]
  },
  {
   "cell_type": "code",
   "execution_count": null,
   "metadata": {},
   "outputs": [],
   "source": [
    "printValueList(cleaned)"
   ]
  },
  {
   "cell_type": "code",
   "execution_count": null,
   "metadata": {},
   "outputs": [],
   "source": [
    "printValueList(x)"
   ]
  },
  {
   "cell_type": "code",
   "execution_count": null,
   "metadata": {},
   "outputs": [],
   "source": [
    "{\n",
    "\t\t\"name\": \"water_temple\",\n",
    "\t\t\"cost\": 20,\n",
    "\t\t\"pop\": 1,\n",
    "\t\t\"requires\": \"acquatism\"\n",
    "\t},{\n",
    "\t\t\"name\": \"forest_temple\",\n",
    "\t\t\"cost\": 20,\n",
    "\t\t\"pop\": 1,\n",
    "\t\t\"requires\": \"spiritualism\"\n",
    "\t},{\n",
    "\t\t\"name\": \"mountain_temple\",\n",
    "\t\t\"cost\": 20,\n",
    "\t\t\"pop\": 1,\n",
    "\t\t\"requires\": \"meditation\"\n",
    "\t},{\n",
    "\t\t\"name\": \"temple\",\n",
    "\t\t\"cost\": 20,\n",
    "\t\t\"pop\": 1,\n",
    "\t\t\"requires\": \"free spirit\"\n",
    "\t},{\n",
    "\t\t\"name\": \"road_conection\",\n",
    "\t\t\"cost\": 0,\n",
    "\t\t\"pop\": 2,\n",
    "\t\t\"requires\": \"roads\"\n",
    "\t},{\n",
    "\t\t\"name\": \"water_connection\",\n",
    "\t\t\"cost\": 0,\n",
    "\t\t\"pop\": 2,\n",
    "\t\t\"requires\": \"sailing\"\n",
    "\t}"
   ]
  }
 ]
}