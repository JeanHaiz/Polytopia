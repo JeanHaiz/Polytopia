{
 "cells": [
  {
   "cell_type": "code",
   "execution_count": 2,
   "metadata": {
    "tags": []
   },
   "outputs": [
    {
     "name": "stdout",
     "output_type": "stream",
     "text": [
      "/Users/jean/Documents/Coding/Polytopia/python\n"
     ]
    }
   ],
   "source": [
    "from map_patching import map_patching_utils\n",
    "from score_recognition import score_recognition_utils"
   ]
  },
  {
   "cell_type": "code",
   "execution_count": null,
   "metadata": {},
   "outputs": [],
   "source": [
    "scores = score_recognition_utils.read_scores('../attachments/20211208_214922_918242881284751360.png')\n",
    "scores"
   ]
  },
  {
   "cell_type": "code",
   "execution_count": null,
   "metadata": {},
   "outputs": [],
   "source": [
    "files = [\"image30.jpg\", \"image31.jpg\"]\n",
    "patchwork = map_patching_utils.patch_partial_maps(files, \"example.\")"
   ]
  },
  {
   "cell_type": "code",
   "execution_count": null,
   "metadata": {},
   "outputs": [],
   "source": [
    "files = [\"image41.jpg\", \"image40.jpg\"]\n",
    "patchwork = map_patching_utils.patch_partial_maps(files, \"winter&&storms.\")"
   ]
  },
  {
   "cell_type": "markdown",
   "metadata": {},
   "source": [
    "reference_positions:\n",
    "\n",
    "top: (1121, 274)\n",
    "\n",
    "left: (105, 880)"
   ]
  },
  {
   "cell_type": "code",
   "execution_count": 1,
   "metadata": {},
   "outputs": [],
   "source": [
    "    # from utils import *\n",
    "    # files = [\"image40.jpg\", \"image41.jpg\"]\n",
    "    files = [\"image61.jpg\", \"image60.jpg\"]\n",
    "    # files = [\"image30.jpg\", \"image31.jpg\"]\n",
    "    # files = [\"image51.jpg\", \"image52.jpg\"]\n",
    "    filename = \"combination_2.\"\n",
    "    from utils import patch_partial_maps\n",
    "    patch_partial_maps(files, filename)"
   ]
  },
  {
   "cell_type": "code",
   "execution_count": 26,
   "metadata": {},
   "outputs": [],
   "source": [
    "import cv2\n",
    "import numpy as np\n",
    "\n",
    "root_path = \"/Users/jean/Documents/Coding/Polytopia/resources/\"\n",
    "image_path = root_path + \"bot_patch.png\"\n",
    "template_path = root_path + \"bot_patch_alpha.png\""
   ]
  },
  {
   "cell_type": "code",
   "execution_count": 11,
   "metadata": {},
   "outputs": [],
   "source": [
    "template = cv2.imread(\"/Users/jean/Documents/Coding/Polytopia/resources/bot_patch_alpha.png\", 0)"
   ]
  },
  {
   "cell_type": "code",
   "execution_count": 16,
   "metadata": {},
   "outputs": [],
   "source": [
    "img_rgb = cv2.imread(\"/Users/jean/Documents/Coding/Polytopia/resources/bot_patch.png\")\n",
    "template = cv2.imread(\"/Users/jean/Documents/Coding/Polytopia/resources/bot_patch_alpha.png\", 0)"
   ]
  },
  {
   "cell_type": "code",
   "execution_count": 19,
   "metadata": {},
   "outputs": [
    {
     "data": {
      "text/plain": [
       "True"
      ]
     },
     "execution_count": 19,
     "metadata": {},
     "output_type": "execute_result"
    }
   ],
   "source": [
    "img_rgb = cv2.imread(\"/Users/jean/Documents/Coding/Polytopia/resources/bot_patch.png\")\n",
    "template = cv2.imread(\"/Users/jean/Documents/Coding/Polytopia/resources/bot_patch_alpha.png\", 0)\n",
    "\n",
    "# Convert it to grayscale\n",
    "img_gray = cv2.cvtColor(img_rgb, cv2.COLOR_BGR2GRAY)\n",
    "\n",
    "# Store width and height of template in w and h\n",
    "w, h = template.shape[::-1]\n",
    "\n",
    "# Perform match operations.\n",
    "res = cv2.matchTemplate(img_gray,template,cv2.TM_CCOEFF_NORMED)\n",
    "\n",
    "# Specify a threshold\n",
    "threshold = 0.2\n",
    " \n",
    "# Store the coordinates of matched area in a numpy array\n",
    "loc = np.where( res >= threshold)\n",
    " \n",
    "# Draw a rectangle around the matched region.\n",
    "for pt in zip(*loc[::-1]):\n",
    "    cv2.rectangle(img_rgb, pt, (pt[0] + w, pt[1] + h), (0,255,255), 2)\n",
    " \n",
    "# Show the final image with the matched area.\n",
    "cv2.imwrite('/Users/jean/Documents/Coding/Polytopia/resources/detected.png',img_rgb)"
   ]
  },
  {
   "cell_type": "code",
   "execution_count": 14,
   "metadata": {},
   "outputs": [
    {
     "data": {
      "text/plain": [
       "True"
      ]
     },
     "execution_count": 14,
     "metadata": {},
     "output_type": "execute_result"
    }
   ],
   "source": [
    "cv2.imwrite('/Users/jean/Documents/Coding/Polytopia/resources/detected.png',img_rgb)"
   ]
  },
  {
   "cell_type": "code",
   "execution_count": 2,
   "metadata": {},
   "outputs": [
    {
     "data": {
      "text/plain": [
       "True"
      ]
     },
     "execution_count": 2,
     "metadata": {},
     "output_type": "execute_result"
    }
   ],
   "source": [
    "img = cv2.imread(\"/Users/jean/Documents/Coding/Polytopia/resources/bot_patch.png\", 0)   \n",
    "# Piece templates:\n",
    "img_rgb = cv2.cvtColor(img,cv2.COLOR_BGR2RGB)\n",
    "img_gray = cv2.cvtColor(img_rgb,cv2.COLOR_BGR2GRAY)\n",
    "\n",
    "\n",
    "pawn_white_template = cv2.imread(\"/Users/jean/Documents/Coding/Polytopia/resources/bot_patch_alpha.png\", 0)\n",
    "\n",
    "w_pawn_white, h_pawn_white = pawn_white_template.shape[::-1]\n",
    "\n",
    "res_pawn_white = cv2.matchTemplate(img_gray,pawn_white_template,cv2.TM_CCOEFF_NORMED)\n",
    "\n",
    "threshhold = 0.6\n",
    "loc = np.where(res_pawn_white >= threshhold)\n",
    "\n",
    "for pt in zip(*loc[::-1]):\n",
    "\tcv2.rectangle(img_rgb,pt,(pt[0]+w_pawn_white, pt[1]+h_pawn_white),(0,255,255),1)\n",
    "\n",
    "cv2.imwrite('/Users/jean/Documents/Coding/Polytopia/resources/detected_2.png',img_rgb)"
   ]
  },
  {
   "cell_type": "code",
   "execution_count": 51,
   "metadata": {},
   "outputs": [
    {
     "name": "stdout",
     "output_type": "stream",
     "text": [
      "(2590, 2089)\n",
      "778659800.0\n"
     ]
    },
    {
     "data": {
      "text/plain": [
       "True"
      ]
     },
     "execution_count": 51,
     "metadata": {},
     "output_type": "execute_result"
    }
   ],
   "source": [
    "import cv2\n",
    "import numpy as np\n",
    "\n",
    "# read chessboard image\n",
    "img = cv2.imread(image_path)\n",
    "\n",
    "# read pawn image template\n",
    "template = cv2.imread(template_path, cv2.IMREAD_UNCHANGED)\n",
    "hh, ww = template.shape[:2]\n",
    "\n",
    "# extract pawn base image and alpha channel and make alpha 3 channels\n",
    "pawn = template[:,:,0:3]\n",
    "template_alpha = template[:,:,3]\n",
    "cv2.imwrite(root_path + 'chessboard_alpha_1.png', template_alpha)\n",
    "alpha = cv2.merge([template_alpha,template_alpha,template_alpha])\n",
    "\n",
    "# do masked template matching and save correlation image\n",
    "correlation = cv2.matchTemplate(img, pawn, cv2.TM_CCORR, mask=alpha)\n",
    "\n",
    "# set threshold and get all matches\n",
    "threshhold = 0.95\n",
    "print(correlation.shape)\n",
    "print(np.max(correlation))\n",
    "loc = np.where(correlation >= threshhold)\n",
    "# print(loc[0], loc[1])\n",
    "# print([a for a in zip(*loc[::-1])])\n",
    "# draw matches \n",
    "result = img.copy()\n",
    "for pt in zip(*loc[::-1]):\n",
    "    cv2.rectangle(result, pt, (pt[0]+ww, pt[1]+hh), (0,0,255), 1)\n",
    "    # print(pt)\n",
    "\n",
    "# save results\n",
    "cv2.imwrite(root_path + \"chessboard_correlation.png\", correlation)\n",
    "cv2.imwrite(root_path + 'chessboard_pawn.png', pawn)\n",
    "cv2.imwrite(root_path + 'chessboard_alpha.png', alpha)\n",
    "cv2.imwrite(root_path + 'chessboard_matches.jpg', result)  "
   ]
  },
  {
   "cell_type": "code",
   "execution_count": 53,
   "metadata": {},
   "outputs": [
    {
     "data": {
      "text/plain": [
       "True"
      ]
     },
     "execution_count": 53,
     "metadata": {},
     "output_type": "execute_result"
    }
   ],
   "source": [
    "import cv2\n",
    "import numpy as np\n",
    "import math\n",
    "\n",
    "# read chessboard image\n",
    "raw_img = cv2.imread(image_path, cv2.IMREAD_UNCHANGED)\n",
    "\n",
    "img = raw_img[:, :, 0:3]\n",
    "img_alpha = np.ones((raw_img.shape[0:2]))\n",
    "\n",
    "# read pawn image template\n",
    "template = cv2.imread(template_path, cv2.IMREAD_UNCHANGED)\n",
    "hh, ww = template.shape[:2]\n",
    "\n",
    "# extract pawn base image and alpha channel and make alpha 3 channels\n",
    "pawn = template[:,:,0:3]\n",
    "alpha_template = template[:,:,3]\n",
    "alpha = cv2.merge([alpha_template,alpha_template,alpha_template])\n",
    "\n",
    "# set threshold\n",
    "# threshold = 0.99\n",
    "\n",
    "# do masked template matching and save correlation image\n",
    "corr_img = cv2.matchTemplate(img, pawn, cv2.TM_CCOEFF_NORMED, mask=alpha)\n",
    "cv2.imwrite('chessboard_correlation_2.png', corr_img)\n",
    "correlation_raw = (255*corr_img).clip(0,255).astype(np.uint8)\n",
    "cv2.imwrite('chessboard_correlation_3.png', correlation_raw)\n",
    "# search for max score\n"
   ]
  },
  {
   "cell_type": "code",
   "execution_count": 54,
   "metadata": {},
   "outputs": [
    {
     "data": {
      "text/plain": [
       "255"
      ]
     },
     "execution_count": 54,
     "metadata": {},
     "output_type": "execute_result"
    }
   ],
   "source": [
    "np.max(alpha_template)"
   ]
  },
  {
   "cell_type": "code",
   "execution_count": 55,
   "metadata": {},
   "outputs": [
    {
     "data": {
      "text/plain": [
       "57"
      ]
     },
     "execution_count": 55,
     "metadata": {},
     "output_type": "execute_result"
    }
   ],
   "source": [
    "ksize = 31\n",
    "blur = cv2.GaussianBlur(correlation_raw, (ksize, ksize), 25)\n",
    "cv2.imwrite('chessboard_blur.jpg', blur)\n",
    "np.max(blur)"
   ]
  },
  {
   "cell_type": "code",
   "execution_count": 143,
   "metadata": {},
   "outputs": [
    {
     "name": "stdout",
     "output_type": "stream",
     "text": [
      "(2590, 2089)\n",
      "57\n"
     ]
    }
   ],
   "source": [
    "threshhold = 40\n",
    "print(blur.shape)\n",
    "print(np.max(blur))\n",
    "loc = np.where(blur >= threshhold)\n",
    "# print(loc[0], loc[1])\n",
    "# print([a for a in zip(*loc[::-1])])\n",
    "# draw matches \n",
    "result = img.copy()\n",
    "for pt in zip(*loc[::-1]):\n",
    "    cv2.rectangle(result, pt, (pt[0]+ww, pt[1]+hh), (0,0,255), 1)"
   ]
  },
  {
   "cell_type": "code",
   "execution_count": 56,
   "metadata": {},
   "outputs": [
    {
     "name": "stdout",
     "output_type": "stream",
     "text": [
      "-1.0 1.0\n"
     ]
    }
   ],
   "source": [
    "\n",
    "threshold = 40\n",
    "result = img.copy()\n",
    "max_val = np.max(blur)\n",
    "rad = int(math.sqrt(hh*hh+ww*ww)/4)\n",
    "\n",
    "while max_val > threshold:\n",
    "\n",
    "    # find max value of correlation image\n",
    "    min_val, max_val, min_loc, max_loc = cv2.minMaxLoc(blur)\n",
    "    # print(max_val, max_loc)\n",
    "\n",
    "    if max_val > threshold:\n",
    "        # draw match on copy of input\n",
    "        # cv2.rectangle(result, max_loc, (max_loc[0]+ww, max_loc[1]+hh), (0,0,255), 2)\n",
    "        img_alpha[max_loc[1]: max_loc[1]+hh, max_loc[0]: max_loc[0]+ww] = img_alpha[max_loc[1]: max_loc[1]+hh, max_loc[0]: max_loc[0]+ww] - alpha_template / 255.0\n",
    "\n",
    "        # write black circle at max_loc in corr_img\n",
    "        cv2.circle(blur, (max_loc), radius=rad, color=0, thickness=cv2.FILLED)\n",
    "\n",
    "    else:\n",
    "        break\n",
    "\n",
    "print(np.min(img_alpha), np.max(img_alpha))\n",
    "#correlation = (255*blur).clip(0,255).astype(np.uint8)\n"
   ]
  },
  {
   "cell_type": "code",
   "execution_count": 57,
   "metadata": {},
   "outputs": [
    {
     "data": {
      "text/plain": [
       "True"
      ]
     },
     "execution_count": 57,
     "metadata": {},
     "output_type": "execute_result"
    }
   ],
   "source": [
    "cv2.imwrite(\"img_alpha.png\", (255*img_alpha).clip(0,255).astype(np.uint8))"
   ]
  },
  {
   "cell_type": "code",
   "execution_count": 58,
   "metadata": {},
   "outputs": [
    {
     "data": {
      "text/plain": [
       "((2665, 2211, 3), (2665, 2211))"
      ]
     },
     "execution_count": 58,
     "metadata": {},
     "output_type": "execute_result"
    }
   ],
   "source": [
    "result.shape, img_alpha.shape"
   ]
  },
  {
   "cell_type": "code",
   "execution_count": 59,
   "metadata": {},
   "outputs": [
    {
     "data": {
      "text/plain": [
       "(2665, 2211)"
      ]
     },
     "execution_count": 59,
     "metadata": {},
     "output_type": "execute_result"
    }
   ],
   "source": [
    "img_alpha.shape"
   ]
  },
  {
   "cell_type": "code",
   "execution_count": 60,
   "metadata": {},
   "outputs": [
    {
     "data": {
      "text/plain": [
       "(2665, 2211, 1)"
      ]
     },
     "execution_count": 60,
     "metadata": {},
     "output_type": "execute_result"
    }
   ],
   "source": [
    "reshaped = np.reshape(img_alpha, [img_alpha.shape[0], img_alpha.shape[1], 1])\n",
    "reshaped.shape"
   ]
  },
  {
   "cell_type": "code",
   "execution_count": 61,
   "metadata": {},
   "outputs": [],
   "source": [
    "reshaped_255 = (255*reshaped).clip(0,255).astype(np.uint8)"
   ]
  },
  {
   "cell_type": "code",
   "execution_count": 98,
   "metadata": {},
   "outputs": [],
   "source": [
    "mask = cv2.merge([img_alpha_c, img_alpha_c, img_alpha_c]).astype(np.uint8)"
   ]
  },
  {
   "cell_type": "code",
   "execution_count": 94,
   "metadata": {},
   "outputs": [
    {
     "data": {
      "text/plain": [
       "(dtype('uint8'), dtype('uint8'))"
      ]
     },
     "execution_count": 94,
     "metadata": {},
     "output_type": "execute_result"
    }
   ],
   "source": [
    "result.dtype, img_alpha_c.dtype"
   ]
  },
  {
   "cell_type": "code",
   "execution_count": 95,
   "metadata": {},
   "outputs": [
    {
     "data": {
      "text/plain": [
       "((2665, 2211), (2665, 2211, 3), (2665, 2211, 3))"
      ]
     },
     "execution_count": 95,
     "metadata": {},
     "output_type": "execute_result"
    }
   ],
   "source": [
    "img_alpha_c.shape, result.shape, mask.shape"
   ]
  },
  {
   "cell_type": "code",
   "execution_count": 92,
   "metadata": {},
   "outputs": [],
   "source": [
    "img_alpha_c = img_alpha.clip(0,1).astype(np.uint8)"
   ]
  },
  {
   "cell_type": "code",
   "execution_count": 90,
   "metadata": {},
   "outputs": [
    {
     "data": {
      "text/plain": [
       "0"
      ]
     },
     "execution_count": 90,
     "metadata": {},
     "output_type": "execute_result"
    }
   ],
   "source": [
    "img_alpha_c.shape[0] * img_alpha_c.shape[1] - np.sum(img_alpha_c == 1.0) - np.sum(img_alpha_c == 0.0)"
   ]
  },
  {
   "cell_type": "code",
   "execution_count": 104,
   "metadata": {},
   "outputs": [],
   "source": [
    "masked = cv2.multiply(result, mask)"
   ]
  },
  {
   "cell_type": "code",
   "execution_count": 105,
   "metadata": {},
   "outputs": [
    {
     "data": {
      "text/plain": [
       "True"
      ]
     },
     "execution_count": 105,
     "metadata": {},
     "output_type": "execute_result"
    }
   ],
   "source": [
    "cv2.imwrite(\"masked.png\", masked)\n",
    "cv2.imwrite(\"result_for_mask.png\", result)"
   ]
  },
  {
   "cell_type": "code",
   "execution_count": 106,
   "metadata": {},
   "outputs": [
    {
     "data": {
      "text/plain": [
       "255"
      ]
     },
     "execution_count": 106,
     "metadata": {},
     "output_type": "execute_result"
    }
   ],
   "source": [
    "np.max(masked)"
   ]
  },
  {
   "cell_type": "code",
   "execution_count": 62,
   "metadata": {},
   "outputs": [
    {
     "name": "stdout",
     "output_type": "stream",
     "text": [
      "(2665, 2211, 4)\n"
     ]
    },
    {
     "data": {
      "text/plain": [
       "True"
      ]
     },
     "execution_count": 62,
     "metadata": {},
     "output_type": "execute_result"
    }
   ],
   "source": [
    "with_alpha = np.concatenate((result, reshaped_255), axis=2)\n",
    "print(with_alpha.shape)\n",
    "cv2.imwrite(\"with_alpha.png\", with_alpha)"
   ]
  },
  {
   "cell_type": "code",
   "execution_count": 63,
   "metadata": {},
   "outputs": [
    {
     "data": {
      "text/plain": [
       "True"
      ]
     },
     "execution_count": 63,
     "metadata": {},
     "output_type": "execute_result"
    }
   ],
   "source": [
    "\n",
    "# save results\n",
    "cv2.imwrite('chessboard_pawn.png', pawn)\n",
    "cv2.imwrite('chessboard_alpha.png', alpha)\n",
    "cv2.imwrite('chessboard_correlation.png', blur)\n",
    "cv2.imwrite('chessboard_matches2.jpg', result)"
   ]
  },
  {
   "cell_type": "code",
   "execution_count": 1,
   "metadata": {},
   "outputs": [
    {
     "name": "stdout",
     "output_type": "stream",
     "text": [
      "/Users/jean/Documents/Coding/Polytopia/python\n"
     ]
    }
   ],
   "source": [
    "root_path = \"/Users/jean/Documents/Coding/Polytopia/resources/\"\n",
    "\n",
    "image_filename = \"image12\"\n",
    "image_path = root_path + image_filename + \".png\"\n",
    "template_path = root_path + \"bot_patch_alpha.png\"\n",
    "\n",
    "from map_patching import map_patching_utils\n",
    "\n",
    "map_patching_utils.remove_clouds(image_path, template_path, image_filename)"
   ]
  },
  {
   "cell_type": "code",
   "execution_count": 11,
   "metadata": {},
   "outputs": [
    {
     "name": "stdout",
     "output_type": "stream",
     "text": [
      "simplified contour has 7 points with epsilon= 24.39981752872467\n",
      "vertices:\n",
      " [[1106   81]\n",
      " [1088 1354]\n",
      " [  76  687]\n",
      " [2118  687]]\n",
      "all lines\n",
      "    0        1         2  3  4             5             6\n",
      "0  0   789584  0.569948  1  1    [1106, 81]   [1878, 521]\n",
      "1  1    85156  0.691667  1  1   [1878, 521]   [2118, 687]\n",
      "2  2     3721       NaN  0  1   [2118, 687]   [2118, 748]\n",
      "3  3  1428136 -0.588350 -1  1   [2118, 748]  [1088, 1354]\n",
      "4  4  1340116  0.592369 -1 -1  [1088, 1354]     [92, 764]\n",
      "5  5     6185  4.812500 -1 -1     [92, 764]     [76, 687]\n",
      "6  6  1428136 -0.588350  1 -1     [76, 687]    [1106, 81]\n",
      "filtered lines\n",
      "        0        1         2  3  4             5             6\n",
      "3  4                                                         \n",
      "-1 -1  4  1340116  0.592369 -1 -1  [1088, 1354]     [92, 764]\n",
      "    1  3  1428136 -0.588350 -1  1   [2118, 748]  [1088, 1354]\n",
      " 1 -1  6  1428136 -0.588350  1 -1     [76, 687]    [1106, 81]\n",
      "    1  0   789584  0.569948  1  1    [1106, 81]   [1878, 521]\n"
     ]
    },
    {
     "name": "stderr",
     "output_type": "stream",
     "text": [
      "/Users/jean/Documents/Coding/Polytopia/python/map_patching/map_patching_utils.py:234: RuntimeWarning: invalid value encountered in multiply\n",
      "  (delta[1] / delta[0]) if delta[0] != 0 else np.sign(delta[0]) * np.sign(delta[1]) * np.inf,\n"
     ]
    },
    {
     "data": {
      "text/plain": [
       "True"
      ]
     },
     "execution_count": 11,
     "metadata": {},
     "output_type": "execute_result"
    }
   ],
   "source": [
    "from map_patching.map_patching_utils import *\n",
    "path = \"/Users/jean/Documents/Coding/Polytopia/python/resources/semi/INPUT/f0af9f77-40b6-473f-b60e-11602261794e.png\"\n",
    "\n",
    "image = image_utils.get_background_template() # cv2.imread(path)\n",
    "edges = get_three_color_edges(image)\n",
    "blur = cv2.GaussianBlur(edges, (15, 15), sigmaX=25)\n",
    "contour = select_contours(blur)\n",
    "polygon = draw_contour(edges, contour)\n",
    "vertices_i = compute_vertices(polygon)\n",
    "lines = get_lines([p[0] for p in polygon])\n",
    "\n",
    "cv2.drawContours(edges, [contour], 0, (255, 255, 255), 3)\n",
    "cv2.imwrite(\"background_overlay.png\", edges)\n",
    "# lines\n",
    "\n"
   ]
  },
  {
   "cell_type": "code",
   "execution_count": 38,
   "metadata": {},
   "outputs": [
    {
     "data": {
      "text/html": [
       "<div>\n",
       "<style scoped>\n",
       "    .dataframe tbody tr th:only-of-type {\n",
       "        vertical-align: middle;\n",
       "    }\n",
       "\n",
       "    .dataframe tbody tr th {\n",
       "        vertical-align: top;\n",
       "    }\n",
       "\n",
       "    .dataframe thead th {\n",
       "        text-align: right;\n",
       "    }\n",
       "</style>\n",
       "<table border=\"1\" class=\"dataframe\">\n",
       "  <thead>\n",
       "    <tr style=\"text-align: right;\">\n",
       "      <th></th>\n",
       "      <th></th>\n",
       "      <th>0</th>\n",
       "      <th>1</th>\n",
       "      <th>2</th>\n",
       "      <th>3</th>\n",
       "      <th>4</th>\n",
       "      <th>5</th>\n",
       "      <th>6</th>\n",
       "    </tr>\n",
       "    <tr>\n",
       "      <th>3</th>\n",
       "      <th>4</th>\n",
       "      <th></th>\n",
       "      <th></th>\n",
       "      <th></th>\n",
       "      <th></th>\n",
       "      <th></th>\n",
       "      <th></th>\n",
       "      <th></th>\n",
       "    </tr>\n",
       "  </thead>\n",
       "  <tbody>\n",
       "    <tr>\n",
       "      <th rowspan=\"2\" valign=\"top\">-1</th>\n",
       "      <th>-1</th>\n",
       "      <td>4</td>\n",
       "      <td>108065</td>\n",
       "      <td>0.517123</td>\n",
       "      <td>-1</td>\n",
       "      <td>-1</td>\n",
       "      <td>[402, 1624]</td>\n",
       "      <td>[110, 1473]</td>\n",
       "    </tr>\n",
       "    <tr>\n",
       "      <th>1</th>\n",
       "      <td>3</td>\n",
       "      <td>723656</td>\n",
       "      <td>-0.585831</td>\n",
       "      <td>-1</td>\n",
       "      <td>1</td>\n",
       "      <td>[1136, 1194]</td>\n",
       "      <td>[402, 1624]</td>\n",
       "    </tr>\n",
       "    <tr>\n",
       "      <th rowspan=\"2\" valign=\"top\">1</th>\n",
       "      <th>-1</th>\n",
       "      <td>7</td>\n",
       "      <td>194113</td>\n",
       "      <td>-0.604775</td>\n",
       "      <td>1</td>\n",
       "      <td>-1</td>\n",
       "      <td>[42, 745]</td>\n",
       "      <td>[419, 517]</td>\n",
       "    </tr>\n",
       "    <tr>\n",
       "      <th>1</th>\n",
       "      <td>0</td>\n",
       "      <td>286210</td>\n",
       "      <td>0.558887</td>\n",
       "      <td>1</td>\n",
       "      <td>1</td>\n",
       "      <td>[419, 517]</td>\n",
       "      <td>[886, 778]</td>\n",
       "    </tr>\n",
       "  </tbody>\n",
       "</table>\n",
       "</div>"
      ],
      "text/plain": [
       "       0       1         2  3  4             5            6\n",
       "3  4                                                       \n",
       "-1 -1  4  108065  0.517123 -1 -1   [402, 1624]  [110, 1473]\n",
       "    1  3  723656 -0.585831 -1  1  [1136, 1194]  [402, 1624]\n",
       " 1 -1  7  194113 -0.604775  1 -1     [42, 745]   [419, 517]\n",
       "    1  0  286210  0.558887  1  1    [419, 517]   [886, 778]"
      ]
     },
     "execution_count": 38,
     "metadata": {},
     "output_type": "execute_result"
    }
   ],
   "source": [
    "contour"
   ]
  },
  {
   "cell_type": "code",
   "execution_count": 57,
   "metadata": {},
   "outputs": [
    {
     "data": {
      "text/plain": [
       "True"
      ]
     },
     "execution_count": 57,
     "metadata": {},
     "output_type": "execute_result"
    }
   ],
   "source": [
    "for row in lines.iterrows():\n",
    "\tl = row[1]\n",
    "\tcv2.line(edges, l[5], l[6], (255, 255, 255), 5)\n",
    "cv2.imwrite(\"lines_blured.png\", edges)"
   ]
  },
  {
   "cell_type": "code",
   "execution_count": 33,
   "metadata": {},
   "outputs": [
    {
     "name": "stdout",
     "output_type": "stream",
     "text": [
      "1\n",
      "2\n",
      "3\n",
      "4\n",
      "5\n",
      "6\n",
      "7\n",
      "8\n"
     ]
    },
    {
     "data": {
      "text/plain": [
       "[3,\n",
       " 1,\n",
       " 64,\n",
       " array([[[403, 517]],\n",
       " \n",
       "        [[402, 518]],\n",
       " \n",
       "        [[402, 519]],\n",
       " \n",
       "        ...,\n",
       " \n",
       "        [[406, 517]],\n",
       " \n",
       "        [[405, 517]],\n",
       " \n",
       "        [[404, 517]]], dtype=int32),\n",
       " [42, 517, 1096, 1108]]"
      ]
     },
     "execution_count": 33,
     "metadata": {},
     "output_type": "execute_result"
    }
   ],
   "source": [
    "def select_contours(image, filename=None):\n",
    "    image = image.copy()\n",
    "    keepers = []\n",
    "    for mode in [cv2.RETR_TREE, cv2.RETR_EXTERNAL, cv2.RETR_LIST, cv2.RETR_CCOMP]:\n",
    "        for method in [cv2.CHAIN_APPROX_NONE, cv2.CHAIN_APPROX_SIMPLE]:\n",
    "            contours, hierarchy = cv2.findContours(image.copy(), mode, cv2.CHAIN_APPROX_NONE)\n",
    "            hierarchy = hierarchy[0]\n",
    "\n",
    "            for index_, contour_ in enumerate(contours):\n",
    "\n",
    "                x, y, w, h = cv2.boundingRect(contour_)\n",
    "\n",
    "                \n",
    "                if w > int(image.shape[0] / 2) and h > int(image.shape[1] / 4):\n",
    "                    keepers.append([mode, method, index_, contour_, [x, y, w, h]])\n",
    "\n",
    "\n",
    "            print(len(keepers))\n",
    "\n",
    "            for i, k in enumerate(keepers):\n",
    "                contours = edges.copy()\n",
    "                cv2.drawContours(contours, [k[3]], 0, (255, 255, 255), 3)\n",
    "                cv2.imwrite(\"contours/contours_check_%s_%s_%s_.png\" % (mode, method, i), contours)\n",
    "            # print(\"#contours kept: %d\" % len(keepers))\n",
    "    \n",
    "    keepers.sort(key=lambda k: -(k[4][2] + k[4][3])) \n",
    "    return keepers[0]\n",
    "select_contours(blur) # edges"
   ]
  },
  {
   "cell_type": "code",
   "execution_count": 34,
   "metadata": {},
   "outputs": [
    {
     "data": {
      "text/plain": [
       "True"
      ]
     },
     "execution_count": 34,
     "metadata": {},
     "output_type": "execute_result"
    }
   ],
   "source": [
    "blur = cv2.GaussianBlur(edges, (15, 15), sigmaX=25)\n",
    "cv2.imwrite(\"contours/blur.png\", blur)"
   ]
  },
  {
   "cell_type": "code",
   "execution_count": 25,
   "metadata": {},
   "outputs": [
    {
     "name": "stdout",
     "output_type": "stream",
     "text": [
      "[3, 0, 1, 2]\n"
     ]
    }
   ],
   "source": [
    "print([cv2.RETR_TREE, cv2.RETR_EXTERNAL, cv2.RETR_LIST, cv2.RETR_CCOMP])"
   ]
  },
  {
   "cell_type": "code",
   "execution_count": 2,
   "metadata": {},
   "outputs": [
    {
     "name": "stdout",
     "output_type": "stream",
     "text": [
      "/Users/jean/Documents/Coding/Polytopia/python\n"
     ]
    }
   ],
   "source": [
    "from common import image_utils"
   ]
  },
  {
   "cell_type": "code",
   "execution_count": 3,
   "metadata": {},
   "outputs": [
    {
     "data": {
      "text/plain": [
       "(1328, 2094, 3)"
      ]
     },
     "execution_count": 3,
     "metadata": {},
     "output_type": "execute_result"
    }
   ],
   "source": [
    "image_utils.get_background_template().shape"
   ]
  },
  {
   "cell_type": "code",
   "execution_count": 1,
   "metadata": {},
   "outputs": [
    {
     "name": "stdout",
     "output_type": "stream",
     "text": [
      "line Ruled by ZeBiggestPotato, score:.6,285 points\n",
      "line Unknown ruler, score: 4,045 points\n",
      "line Ruled by Samaterribl, score: 3,315 points\n",
      "line Ruled by you, score: 4,060 points\n",
      "[('ZeBiggestPotato', 6285), ('Unknown ruler', 4045), ('Samaterribl', 3315), ('Ruled by you', 4060)]\n"
     ]
    }
   ],
   "source": [
    "import cv2\n",
    "from score_recognition.score_recognition_utils import *\n",
    "image = cv2.imread(\"resources/ps11w4-winterstorms_plague-e99769/SCORE_INPUT/d298761e-a93a-415c-8588-d0011422af1c.png\")\n",
    "cropped = crop(image)\n",
    "score_text = read(image)\n",
    "# print(score_text)\n",
    "clear = clear_noise(cropped.copy())  # , low_threshold, high_threshold, blur_kernel, min_size)\n",
    "score_text_you = read(clear)\n",
    "\n",
    "output = [read_line(a) for a in score_text.split(\"\\n\") if \"score\" in a] + [read_line(a) for a in score_text_you.split(\"\\n\") if \"score\" in a and \"Ruled by you\" in a]\n",
    "# for min_size in [15, 50, 100, 500]:\n",
    "\t# for low_threshold in [0, 50, 100, 150, 200]:\n",
    "\t\t# for high_threshold in [150, 200, 250]:\n",
    "\t\t\t# if high_threshold > low_threshold:\n",
    "\t\t\t\t# for blur_kernel in [None, 1, 2, 5, 10]:\n",
    "\t\t\t\t\t\n",
    "\t\t\t\t\t# if output == ['Ruled by ZeBiggestPotato, score: 6,285 points', 'Unknown ruler, score: 4,045 points', 'Ruled by Samaterribl, score: 3,315 points', 'Ruled by you, score: 4,060 points']:\n",
    "\t\t\t\t\t\t# if \"ZeBiggestPotato\" in score_text and \"6,285\" in score_text and \"Ruled by you\" in score_text:\n",
    "\t\t\t\t\t\t# print(min_size, low_threshold, high_threshold, blur_kernel)\n",
    "# scores = get_scores(clear)\n",
    "print(output)"
   ]
  },
  {
   "cell_type": "code",
   "execution_count": 3,
   "metadata": {},
   "outputs": [
    {
     "data": {
      "text/plain": [
       "['y.',\n",
       " '',\n",
       " 'oR’',\n",
       " 'Capitals Owned',\n",
       " 'wy',\n",
       " 'Nie Bardur........ 0. cece eee 1/4',\n",
       " 'r Ruled by Ze®igdestPetatorscore: 6,25 points',\n",
       " 'ee —— a A',\n",
       " ' Bardur .....0........... 00s 1/4',\n",
       " 'Ruled by you, score: 4,060 points',\n",
       " 'Unknown tribe ........ de tdeee ene 1/4',\n",
       " 'f ao ruler, score: 4,045 points',\n",
       " '',\n",
       " 'Ruled by Samaterribl, score: 3,315 points',\n",
       " '',\n",
       " 'Sg Xinxi &........ 1/4',\n",
       " '>',\n",
       " '\\x0c']"
      ]
     },
     "execution_count": 3,
     "metadata": {},
     "output_type": "execute_result"
    }
   ],
   "source": [
    "score_text.split(\"\\n\")"
   ]
  },
  {
   "cell_type": "code",
   "execution_count": 4,
   "metadata": {},
   "outputs": [
    {
     "name": "stdout",
     "output_type": "stream",
     "text": [
      "yes!\n"
     ]
    }
   ],
   "source": [
    "cropped = crop(image)\n",
    "clear = clear_noise(cropped, low_threshold, high_threshold, blur_kernel)\n",
    "score_text_you = read(clear)\n",
    "score_text = read(image)\n",
    "if \"ZeBiggestPotato\" in score_text and \"6,285\" in score_text and \"Ruled by you\" in score_text_you:\n",
    "\tprint(\"yes!\")"
   ]
  },
  {
   "cell_type": "code",
   "execution_count": 6,
   "metadata": {},
   "outputs": [
    {
     "name": "stdout",
     "output_type": "stream",
     "text": [
      "['Ruled by ZeBiggestPotato, score:.6,285 points', 'Unknown ruler, score: 4,045 points', 'Ruled by Samaterribl, score: 3,315 points']\n",
      "['Ruled by you, score: 4,060 points']\n"
     ]
    }
   ],
   "source": [
    "print([a for a in score_text.split(\"\\n\") if \"score\" in a])\n",
    "print([a for a in score_text_you.split(\"\\n\") if \"score\" in a and \"Ruled by you\" in a])"
   ]
  },
  {
   "cell_type": "code",
   "execution_count": 1,
   "metadata": {},
   "outputs": [
    {
     "ename": "NameError",
     "evalue": "name 'crop' is not defined",
     "output_type": "error",
     "traceback": [
      "\u001b[0;31m---------------------------------------------------------------------------\u001b[0m",
      "\u001b[0;31mNameError\u001b[0m                                 Traceback (most recent call last)",
      "\u001b[0;32m/var/folders/ks/8tknm8f96kz76nccrfvhbd4w0000gn/T/ipykernel_74929/3156647538.py\u001b[0m in \u001b[0;36m<module>\u001b[0;34m\u001b[0m\n\u001b[1;32m      2\u001b[0m \u001b[0;31m#from score_recognition.score_recognition_utils import *\u001b[0m\u001b[0;34m\u001b[0m\u001b[0;34m\u001b[0m\u001b[0;34m\u001b[0m\u001b[0m\n\u001b[1;32m      3\u001b[0m \u001b[0mimage\u001b[0m \u001b[0;34m=\u001b[0m \u001b[0mcv2\u001b[0m\u001b[0;34m.\u001b[0m\u001b[0mimread\u001b[0m\u001b[0;34m(\u001b[0m\u001b[0;34m\"resources/ps11w4-winterstorms_plague-e99769/SCORE_INPUT/d298761e-a93a-415c-8588-d0011422af1c.png\"\u001b[0m\u001b[0;34m)\u001b[0m\u001b[0;34m\u001b[0m\u001b[0;34m\u001b[0m\u001b[0m\n\u001b[0;32m----> 4\u001b[0;31m \u001b[0mcropped\u001b[0m \u001b[0;34m=\u001b[0m \u001b[0mcrop\u001b[0m\u001b[0;34m(\u001b[0m\u001b[0mimage\u001b[0m\u001b[0;34m)\u001b[0m\u001b[0;34m\u001b[0m\u001b[0;34m\u001b[0m\u001b[0m\n\u001b[0m\u001b[1;32m      5\u001b[0m \u001b[0mblur_kernel\u001b[0m\u001b[0;34m=\u001b[0m\u001b[0;36m1\u001b[0m\u001b[0;34m\u001b[0m\u001b[0;34m\u001b[0m\u001b[0m\n\u001b[1;32m      6\u001b[0m \u001b[0mblur\u001b[0m \u001b[0;34m=\u001b[0m \u001b[0mcv2\u001b[0m\u001b[0;34m.\u001b[0m\u001b[0mblur\u001b[0m\u001b[0;34m(\u001b[0m\u001b[0mcropped\u001b[0m\u001b[0;34m,\u001b[0m \u001b[0;34m(\u001b[0m\u001b[0mblur_kernel\u001b[0m\u001b[0;34m,\u001b[0m \u001b[0mblur_kernel\u001b[0m\u001b[0;34m)\u001b[0m\u001b[0;34m)\u001b[0m\u001b[0;34m\u001b[0m\u001b[0;34m\u001b[0m\u001b[0m\n",
      "\u001b[0;31mNameError\u001b[0m: name 'crop' is not defined"
     ]
    }
   ],
   "source": [
    "import cv2\n",
    "#from score_recognition.score_recognition_utils import *\n",
    "image = cv2.imread(\"resources/ps11w4-winterstorms_plague-e99769/SCORE_INPUT/d298761e-a93a-415c-8588-d0011422af1c.png\")\n",
    "cropped = crop(image)\n",
    "blur_kernel=1\n",
    "blur = cv2.blur(cropped, (blur_kernel, blur_kernel))\n",
    "score_text = read(blur, config='--oem 1')\n",
    "score_text = score_text.replace(\".\", \"\").replace(\" \", \"\")\n",
    "print([read_line(a) for a in score_text.split(\"\\n\") if \"score\" in a])"
   ]
  },
  {
   "cell_type": "code",
   "execution_count": 17,
   "metadata": {},
   "outputs": [],
   "source": [
    "def read_line(line):\n",
    "    # print(\"line\", line)\n",
    "    s1 = line.split(\",\")\n",
    "    if len(s1) >= 2:\n",
    "        if \"Unknownruler\" in s1[0].strip() or \"Ruledbyyou\" in s1[0].strip():\n",
    "            player = s1[0]\n",
    "        else:\n",
    "            player = s1[0].strip().split(\" \")[-1]\n",
    "\n",
    "        if player is not None:\n",
    "            player = re.sub(r\"[^a-zA-Z0-9 ]\", \"\", player)\n",
    "\n",
    "        s2 = \"\".join(s1[1:]).split(\":\")\n",
    "        if len(s2) >= 2:\n",
    "            score = int(s2[1].split(\"points\")[0].replace(\",\", \"\"))\n",
    "        else:\n",
    "            print(\"s2 error\", line)\n",
    "            return\n",
    "    else:\n",
    "        print(\"s1 error\", line)\n",
    "        return\n",
    "    return (player, score)"
   ]
  },
  {
   "cell_type": "code",
   "execution_count": 1,
   "metadata": {},
   "outputs": [
    {
     "name": "stdout",
     "output_type": "stream",
     "text": [
      "image text True ['r', '', 'Capitals Owned', '', 'NM Bardur.............c cee 1/4', 'w Ruled by ZeSiggestPotato,score: 6,2#5 points', 'Bardur .................000. 1/4', 'Ruled by you, score: 4,060 points', 'Unknown tribe ...............0045 1/4', '', '. Unknown ruler, score: 4,045 points', '', '‘ XIN-XI occ cence eee 1/4', '', 'Ruled by Samaterribl, score: 3,315 points', '\\x0c']\n",
      "line Ruled by you, score: 4,060 points\n",
      "[('Ruled by you', 4060)]\n",
      "image text False ['CIOS', '', 'Lakes Might More info', 'Capitals Owned', 'Sy in ve', '', 'Ruled by ZeBiggestPotato, score:.6,285 points', '', 'Oya) tarehiVa ik 17] 0) re!', 'Unknown ruler, score: 4,045 points', 'ot SRY OS eae re', '', 'Ruled by Samaterribl, score: 3,315 points', '', 'Tasks 3/7', 'Metropolis ...............600.0055 Whe)', 'Create a level 5 city', 'LN eco) 4/5', '', 'Connect 5 cities to your capital', '\\x0c']\n",
      "line Ruled by ZeBiggestPotato, score:.6,285 points\n",
      "line Unknown ruler, score: 4,045 points\n",
      "line Ruled by Samaterribl, score: 3,315 points\n",
      "[('ZeBiggestPotato', 6285), ('Unknown ruler', 4045), ('Samaterribl', 3315)]\n"
     ]
    },
    {
     "data": {
      "text/plain": [
       "[('ZeBiggestPotato', 6285),\n",
       " ('Unknown ruler', 4045),\n",
       " ('Samaterribl', 3315),\n",
       " ('Ruled by you', 4060)]"
      ]
     },
     "execution_count": 1,
     "metadata": {},
     "output_type": "execute_result"
    }
   ],
   "source": [
    "import cv2\n",
    "from score_recognition.score_recognition_utils import *\n",
    "image = cv2.imread(\"resources/ps11w4-winterstorms_plague-e99769/SCORE_INPUT/d298761e-a93a-415c-8588-d0011422af1c.png\")\n",
    "read_scores(image)"
   ]
  },
  {
   "cell_type": "code",
   "execution_count": null,
   "metadata": {},
   "outputs": [],
   "source": []
  },
  {
   "cell_type": "code",
   "execution_count": 1,
   "metadata": {},
   "outputs": [],
   "source": [
    "import cv2\n",
    "from score_recognition.score_recognition_utils import *\n",
    "image = cv2.imread(\"resources/ps11w4-winterstorms_plague-e99769/SCORE_INPUT/d298761e-a93a-415c-8588-d0011422af1c.png\")\n",
    "header, score_image = crop(image)"
   ]
  },
  {
   "cell_type": "code",
   "execution_count": 2,
   "metadata": {},
   "outputs": [
    {
     "data": {
      "text/plain": [
       "'<\\n\\nLakes Might More info\\n\\x0c'"
      ]
     },
     "execution_count": 2,
     "metadata": {},
     "output_type": "execute_result"
    }
   ],
   "source": [
    "pytesseract.image_to_string(header)"
   ]
  },
  {
   "cell_type": "code",
   "execution_count": 3,
   "metadata": {},
   "outputs": [
    {
     "data": {
      "text/plain": [
       "True"
      ]
     },
     "execution_count": 3,
     "metadata": {},
     "output_type": "execute_result"
    }
   ],
   "source": [
    "cv2.imwrite(\"header.png\", header)"
   ]
  },
  {
   "cell_type": "code",
   "execution_count": null,
   "metadata": {},
   "outputs": [],
   "source": []
  }
 ],
 "metadata": {
  "interpreter": {
   "hash": "aee8b7b246df8f9039afb4144a1f6fd8d2ca17a180786b69acc140d282b71a49"
  },
  "kernelspec": {
   "display_name": "Python 3.9.4 64-bit",
   "name": "python3"
  },
  "language_info": {
   "codemirror_mode": {
    "name": "ipython",
    "version": 3
   },
   "file_extension": ".py",
   "mimetype": "text/x-python",
   "name": "python",
   "nbconvert_exporter": "python",
   "pygments_lexer": "ipython3",
   "version": "3.9.4"
  },
  "orig_nbformat": 4
 },
 "nbformat": 4,
 "nbformat_minor": 2
}
