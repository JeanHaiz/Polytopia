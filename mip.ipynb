{
 "metadata": {
  "language_info": {
   "codemirror_mode": {
    "name": "ipython",
    "version": 3
   },
   "file_extension": ".py",
   "mimetype": "text/x-python",
   "name": "python",
   "nbconvert_exporter": "python",
   "pygments_lexer": "ipython3",
   "version": "3.7.6-final"
  },
  "orig_nbformat": 2,
  "kernelspec": {
   "name": "Python 3.7.6 64-bit ('base': conda)",
   "display_name": "Python 3.7.6 64-bit ('base': conda)",
   "metadata": {
    "interpreter": {
     "hash": "e134e05457d34029b6460cd73bbf1ed73f339b5b6d98c95be70b69eba114fe95"
    }
   }
  }
 },
 "nbformat": 4,
 "nbformat_minor": 2,
 "cells": [
  {
   "cell_type": "code",
   "execution_count": null,
   "metadata": {},
   "outputs": [],
   "source": [
    "from __future__ import print_function\n",
    "from ortools.linear_solver import pywraplp"
   ]
  },
  {
   "cell_type": "code",
   "execution_count": null,
   "metadata": {},
   "outputs": [],
   "source": [
    "# Create the mip solver with the SCIP backend.\n",
    "solver = pywraplp.Solver.CreateSolver('SCIP')"
   ]
  },
  {
   "cell_type": "code",
   "execution_count": null,
   "metadata": {},
   "outputs": [],
   "source": [
    "infinity = solver.infinity()\n",
    "# x and y are integer non-negative variables.\n",
    "wa = solver.IntVar(0.0, infinity, 'warrior')\n",
    "ri = solver.IntVar(0.0, infinity, 'rider')\n",
    "sh = solver.IntVar(0.0, infinity, 'shied')\n",
    "\n",
    "print('Number of variables =', solver.NumVariables())"
   ]
  },
  {
   "cell_type": "code",
   "execution_count": null,
   "metadata": {},
   "outputs": [],
   "source": [
    "# x + 7 * y <= 17.5.\n",
    "solver.Add(10 * wa + 15 * ri + 15 * sh == 15)\n",
    "\n",
    "# x <= 3.5.\n",
    "#solver.Add(x <= 3.5)\n",
    "\n",
    "print('Number of constraints =', solver.NumConstraints())"
   ]
  },
  {
   "cell_type": "code",
   "execution_count": null,
   "metadata": {},
   "outputs": [],
   "source": [
    "status = solver.Solve()"
   ]
  },
  {
   "cell_type": "code",
   "execution_count": null,
   "metadata": {},
   "outputs": [],
   "source": [
    "if status == pywraplp.Solver.OPTIMAL:\n",
    "    print('Solution:')\n",
    "    print('Objective value =', solver.Objective().Value())\n",
    "    print('wa =', wa.solution_value())\n",
    "    print('ri =', ri.solution_value())\n",
    "    print('sh =', sh.solution_value())\n",
    "else:\n",
    "    print('The problem does not have an optimal solution.')"
   ]
  },
  {
   "cell_type": "code",
   "execution_count": null,
   "metadata": {},
   "outputs": [],
   "source": [
    "count = 0\n",
    "while solver.NextSolution():  # <-- NextSolution() always returns False!\n",
    "    count += 1\n",
    "    print(\"wa =\", wa.solution_value(), \"ri =\", ri.solution_value(), \"sh =\", sh.solution_value())\n",
    "print(\"\\nNumber of solutions found:\", count)"
   ]
  },
  {
   "cell_type": "code",
   "execution_count": null,
   "metadata": {},
   "outputs": [],
   "source": [
    "from ortools.sat.python import cp_model\n",
    "\n",
    "model = cp_model.CpModel()\n",
    "\n",
    "x00 = model.NewBoolVar('x00')\n",
    "x01 = model.NewBoolVar('x01')\n",
    "x02 = model.NewBoolVar('x02')\n",
    "\n",
    "model.AddBoolOr([x00, x01, x02.Not()])\n",
    "model.AddBoolOr([x00.Not(), x02.Not()])\n",
    "\n",
    "class VarArraySolutionCollector(cp_model.CpSolverSolutionCallback):\n",
    "\n",
    "    def __init__(self, variables):\n",
    "        cp_model.CpSolverSolutionCallback.__init__(self)\n",
    "        self.__variables = variables\n",
    "        self.solution_list = []\n",
    "\n",
    "    def on_solution_callback(self):\n",
    "        self.solution_list.append([self.Value(v) for v in self.__variables])\n",
    "\n",
    "# Create a solver and solve.\n",
    "solver = cp_model.CpSolver()\n",
    "solution_collector = VarArraySolutionCollector([x00, x01, x02])\n",
    "solver.SearchForAllSolutions(model, solution_collector)\n",
    "\n",
    "solution_collector.solution_list\n",
    "\n",
    "#Out[33]: [[0, 1, 0], [0, 0, 0], [0, 1, 1], [1, 1, 0], [1, 0, 0]]"
   ]
  },
  {
   "cell_type": "code",
   "execution_count": null,
   "metadata": {},
   "outputs": [],
   "source": []
  }
 ]
}